{
 "cells": [
  {
   "cell_type": "markdown",
   "metadata": {},
   "source": [
    "The debiasing function used is implemented in the `RejectOptionClassification` class.\n",
    "\n",
    "    * Statistical parity difference on the predictions of the classifier\n",
    "    * Average odds difference for the classifier\n",
    "    * Equal opportunity difference for the classifier"
   ]
  },
  {
   "cell_type": "code",
   "execution_count": 1,
   "metadata": {},
   "outputs": [
    {
     "name": "stdout",
     "output_type": "stream",
     "text": [
      "Requirement already satisfied: mlxtend in ./pipeline_env/lib/python3.11/site-packages (0.23.1)\n",
      "Requirement already satisfied: pyECLAT in ./pipeline_env/lib/python3.11/site-packages (1.0.2)\n",
      "Requirement already satisfied: efficient-apriori in ./pipeline_env/lib/python3.11/site-packages (2.0.5)\n",
      "Requirement already satisfied: plotly in ./pipeline_env/lib/python3.11/site-packages (5.24.1)\n",
      "Requirement already satisfied: matplotlib in ./pipeline_env/lib/python3.11/site-packages (3.9.2)\n",
      "Requirement already satisfied: inline in ./pipeline_env/lib/python3.11/site-packages (0.0.1)\n",
      "Requirement already satisfied: seaborn in ./pipeline_env/lib/python3.11/site-packages (0.13.2)\n",
      "Requirement already satisfied: aif360 in ./pipeline_env/lib/python3.11/site-packages (0.6.1)\n",
      "Requirement already satisfied: scipy>=1.2.1 in ./pipeline_env/lib/python3.11/site-packages (from mlxtend) (1.14.1)\n",
      "Requirement already satisfied: numpy>=1.16.2 in ./pipeline_env/lib/python3.11/site-packages (from mlxtend) (2.1.2)\n",
      "Requirement already satisfied: pandas>=0.24.2 in ./pipeline_env/lib/python3.11/site-packages (from mlxtend) (2.2.3)\n",
      "Requirement already satisfied: scikit-learn>=1.0.2 in ./pipeline_env/lib/python3.11/site-packages (from mlxtend) (1.5.2)\n",
      "Requirement already satisfied: joblib>=0.13.2 in ./pipeline_env/lib/python3.11/site-packages (from mlxtend) (1.4.2)\n",
      "Requirement already satisfied: tqdm>=4.41.1 in ./pipeline_env/lib/python3.11/site-packages (from pyECLAT) (4.66.5)\n",
      "Requirement already satisfied: tenacity>=6.2.0 in ./pipeline_env/lib/python3.11/site-packages (from plotly) (9.0.0)\n",
      "Requirement already satisfied: packaging in ./pipeline_env/lib/python3.11/site-packages (from plotly) (24.1)\n",
      "Requirement already satisfied: contourpy>=1.0.1 in ./pipeline_env/lib/python3.11/site-packages (from matplotlib) (1.3.0)\n",
      "Requirement already satisfied: cycler>=0.10 in ./pipeline_env/lib/python3.11/site-packages (from matplotlib) (0.12.1)\n",
      "Requirement already satisfied: fonttools>=4.22.0 in ./pipeline_env/lib/python3.11/site-packages (from matplotlib) (4.54.1)\n",
      "Requirement already satisfied: kiwisolver>=1.3.1 in ./pipeline_env/lib/python3.11/site-packages (from matplotlib) (1.4.7)\n",
      "Requirement already satisfied: pillow>=8 in ./pipeline_env/lib/python3.11/site-packages (from matplotlib) (10.4.0)\n",
      "Requirement already satisfied: pyparsing>=2.3.1 in ./pipeline_env/lib/python3.11/site-packages (from matplotlib) (3.2.0)\n",
      "Requirement already satisfied: python-dateutil>=2.7 in ./pipeline_env/lib/python3.11/site-packages (from matplotlib) (2.9.0.post0)\n",
      "Requirement already satisfied: pytz>=2020.1 in ./pipeline_env/lib/python3.11/site-packages (from pandas>=0.24.2->mlxtend) (2024.2)\n",
      "Requirement already satisfied: tzdata>=2022.7 in ./pipeline_env/lib/python3.11/site-packages (from pandas>=0.24.2->mlxtend) (2024.2)\n",
      "Requirement already satisfied: six>=1.5 in ./pipeline_env/lib/python3.11/site-packages (from python-dateutil>=2.7->matplotlib) (1.16.0)\n",
      "Requirement already satisfied: threadpoolctl>=3.1.0 in ./pipeline_env/lib/python3.11/site-packages (from scikit-learn>=1.0.2->mlxtend) (3.5.0)\n",
      "Note: you may need to restart the kernel to use updated packages.\n"
     ]
    },
    {
     "name": "stderr",
     "output_type": "stream",
     "text": [
      "WARNING:root:No module named 'tensorflow': AdversarialDebiasing will be unavailable. To install, run:\n",
      "pip install 'aif360[AdversarialDebiasing]'\n",
      "WARNING:root:No module named 'tensorflow': AdversarialDebiasing will be unavailable. To install, run:\n",
      "pip install 'aif360[AdversarialDebiasing]'\n",
      "WARNING:root:No module named 'fairlearn': ExponentiatedGradientReduction will be unavailable. To install, run:\n",
      "pip install 'aif360[Reductions]'\n",
      "WARNING:root:No module named 'fairlearn': GridSearchReduction will be unavailable. To install, run:\n",
      "pip install 'aif360[Reductions]'\n",
      "WARNING:root:No module named 'inFairness': SenSeI and SenSR will be unavailable. To install, run:\n",
      "pip install 'aif360[inFairness]'\n",
      "WARNING:root:No module named 'fairlearn': GridSearchReduction will be unavailable. To install, run:\n",
      "pip install 'aif360[Reductions]'\n"
     ]
    }
   ],
   "source": [
    "%pip install mlxtend pyECLAT efficient-apriori plotly matplotlib inline seaborn aif360\n",
    "# Load all necessary packages\n",
    "import sys\n",
    "sys.path.append(\"../\")\n",
    "from collections import OrderedDict\n",
    "import numpy as np\n",
    "import pandas as pd\n",
    "import seaborn as sns\n",
    "\n",
    "from aif360.metrics import ClassificationMetric, BinaryLabelDatasetMetric\n",
    "from aif360.datasets import BinaryLabelDataset\n",
    "from aif360.algorithms.postprocessing.reject_option_classification import RejectOptionClassification\n",
    "\n",
    "from sklearn.preprocessing import StandardScaler\n",
    "from sklearn.metrics import accuracy_score, balanced_accuracy_score, precision_score, recall_score, confusion_matrix, ConfusionMatrixDisplay\n",
    "from sklearn.tree import DecisionTreeClassifier\n",
    "from sklearn.linear_model import LogisticRegression\n",
    "\n",
    "from IPython.display import Markdown, display\n",
    "import matplotlib.pyplot as plt\n",
    "from mlxtend.frequent_patterns import association_rules, fpgrowth, apriori\n",
    "from mlxtend.preprocessing import TransactionEncoder\n"
   ]
  },
  {
   "cell_type": "markdown",
   "metadata": {},
   "source": [
    "### Functions"
   ]
  },
  {
   "cell_type": "code",
   "execution_count": 2,
   "metadata": {},
   "outputs": [],
   "source": [
    "# https://developers.google.com/machine-learning/crash-course/classification/accuracy-precision-recall\n",
    "\n",
    "def compute_cl_metrics(dataset_true, dataset_pred,\n",
    "                    disp = True):\n",
    "    metrics = OrderedDict()\n",
    "    metrics[\"Accuracy\"] = accuracy_score(dataset_true.labels, dataset_pred.labels)\n",
    "    metrics[\"Recall\"] = recall_score(dataset_true.labels, dataset_pred.labels)\n",
    "    metrics[\"Precision\"] = precision_score(dataset_true.labels, dataset_pred.labels)\n",
    "    metrics[\"Balanced accuracy\"] = balanced_accuracy_score(dataset_true.labels, dataset_pred.labels)    \n",
    "    if disp:\n",
    "        for k in metrics:\n",
    "            print(\"%s = %.4f\" % (k, metrics[k]))\n",
    "    \n",
    "    return metrics"
   ]
  },
  {
   "cell_type": "code",
   "execution_count": 3,
   "metadata": {},
   "outputs": [],
   "source": [
    "def compute_fn_metrics(dataset_true, dataset_pred, \n",
    "                    unprivileged_groups, privileged_groups,\n",
    "                    disp = True):\n",
    "    classified_metric_pred = ClassificationMetric(dataset_true,\n",
    "                                                 dataset_pred, \n",
    "                                                 unprivileged_groups=unprivileged_groups,\n",
    "                                                 privileged_groups=privileged_groups)\n",
    "    metrics = OrderedDict()\n",
    "    metrics[\"Statistical parity difference\"] = classified_metric_pred.statistical_parity_difference()\n",
    "    # metrics[\"Disparate impact\"] = classified_metric_pred.disparate_impact()\n",
    "    metrics[\"Average odds difference\"] = classified_metric_pred.average_odds_difference()\n",
    "    metrics[\"Equal opportunity difference\"] = classified_metric_pred.equal_opportunity_difference()\n",
    "\n",
    "    if disp:\n",
    "        for k in metrics:\n",
    "            print(\"%s = %.4f\" % (k, metrics[k]))\n",
    "    \n",
    "    return metrics"
   ]
  },
  {
   "cell_type": "code",
   "execution_count": 4,
   "metadata": {},
   "outputs": [],
   "source": [
    "def plot_metrics(metrics_bef, metrics_aft): \n",
    "    df_metrics = pd.DataFrame({\n",
    "        'Metric': list(metrics_bef.keys()),\n",
    "        'Before': list(metrics_bef.values()),\n",
    "        'After': list(metrics_aft.values())\n",
    "    })\n",
    "\n",
    "    df_metrics_melted = df_metrics.melt(id_vars='Metric', var_name='Stage', value_name='Value')\n",
    "    \n",
    "    plt.figure(figsize=(10, 6))\n",
    "    sns.lineplot(data=df_metrics_melted, x='Stage', y='Value', hue='Metric', marker='o')\n",
    "    # print a line at y = 0 in red\n",
    "    plt.axhline(1, color='red', linestyle='--')\n",
    "\n",
    "\n",
    "    plt.ylabel('Metric Value')\n",
    "    plt.title('Comparison of Metrics Before and After Applying ROC')\n",
    "    plt.legend(title='Metric')\n",
    "    plt.grid(True)\n",
    "    plt.show()"
   ]
  },
  {
   "cell_type": "code",
   "execution_count": 5,
   "metadata": {},
   "outputs": [],
   "source": [
    "def plot_fn_metrics(metrics_bef, metrics_aft): \n",
    "    df_metrics = pd.DataFrame({\n",
    "        'Metric': list(metrics_bef.keys()),\n",
    "        'Before': list(metrics_bef.values()),\n",
    "        'After': list(metrics_aft.values())\n",
    "    })\n",
    "\n",
    "    df_metrics_melted = df_metrics.melt(id_vars='Metric', var_name='Stage', value_name='Value')\n",
    "    \n",
    "    plt.figure(figsize=(10, 6))\n",
    "    sns.lineplot(data=df_metrics_melted, x='Stage', y='Value', hue='Metric', marker='o')\n",
    "    # print a line at y = 0 in red\n",
    "    plt.axhline(0, color='red', linestyle='--')\n",
    "\n",
    "\n",
    "    plt.ylabel('Metric Value')\n",
    "    plt.title('Comparison of Metrics Before and After Applying ROC')\n",
    "    plt.legend(title='Metric')\n",
    "    plt.grid(True)\n",
    "    plt.show()"
   ]
  },
  {
   "cell_type": "code",
   "execution_count": 6,
   "metadata": {},
   "outputs": [],
   "source": [
    "def conf_matrix(dataset_true, dataset_pred):\n",
    "    cm =confusion_matrix(dataset_true.labels, dataset_pred.labels)\n",
    "    plt.figure(figsize=(3, 3))\n",
    "    \n",
    "    ConfusionMatrixDisplay(cm).plot()\n",
    "    return cm"
   ]
  },
  {
   "cell_type": "code",
   "execution_count": 7,
   "metadata": {},
   "outputs": [],
   "source": [
    "def above_50k_graph(dataset):\n",
    "    df_test = dataset.convert_to_dataframe()[0]\n",
    "    df_above_50k = df_test[df_test['income'] == 1]\n",
    "    df_above_50k\n",
    "\n",
    "    # Count the number of male and female workers with income greater than 50K\n",
    "    gender_counts = df_above_50k['sex'].value_counts()\n",
    "\n",
    "    females_above_50k_count = gender_counts.get(0, 0) \n",
    "    total_count_above_50k = gender_counts.sum()\n",
    "    print(f\"Percentage of females earning over 50K: {females_above_50k_count/total_count_above_50k*100:.2f}%\")\n",
    "    print(f\"Number of male workers earning over 50K: { gender_counts.get(1, 0)}\")\n",
    "    print(f\"Total number of workers earning over 50K: {total_count_above_50k}\")\n",
    "\n",
    "\n",
    "    # Plotting the graph, the X axis gender should only contain 0 for female, 1 for male\n",
    "    plt.figure(figsize=(5, 5))\n",
    "    plt.bar(gender_counts.index, gender_counts.values, color=['lightblue', 'moccasin'])\n",
    "    plt.xlabel('Gender')\n",
    "    plt.xticks([0, 1], labels=['Female', 'Male'])\n",
    "    plt.ylabel('Number of Workers')\n",
    "    plt.title('Number of Male and Female Workers with Salary > 50K')\n",
    "    plt.show()"
   ]
  },
  {
   "cell_type": "code",
   "execution_count": 8,
   "metadata": {},
   "outputs": [],
   "source": [
    "def above_50k_graph_df(df):\n",
    "    df_above_50k = df[df['income'] == 1]\n",
    "\n",
    "    # Count the number of male and female workers with income greater than 50K\n",
    "    gender_counts = df_above_50k['sex'].value_counts()\n",
    "\n",
    "    females_above_50k_count = gender_counts.get(0, 0) \n",
    "    total_count_above_50k = gender_counts.sum()\n",
    "    print(f\"Percentage of females earning over 50K: {females_above_50k_count/total_count_above_50k*100:.2f}%\")\n",
    "    print(f\"Number of male workers earning over 50K: { gender_counts.get(1, 0)}\")\n",
    "    print(f\"Total number of workers earning over 50K: {total_count_above_50k}\")\n",
    "\n",
    "    # Plotting the graph, the X axis gender should only contain 0 for female, 1 for male\n",
    "    plt.figure(figsize=(5, 5))\n",
    "    plt.bar(gender_counts.index, gender_counts.values, color=['lightblue', 'moccasin'])\n",
    "    plt.xlabel('Gender')\n",
    "    plt.xticks([0, 1], labels=['Female', 'Male'])\n",
    "    plt.ylabel('Number of Workers')\n",
    "    plt.title('Number of Male and Female Workers with Salary > 50K')\n",
    "    plt.show()"
   ]
  },
  {
   "cell_type": "code",
   "execution_count": 9,
   "metadata": {},
   "outputs": [],
   "source": [
    "def group_edu(x):\n",
    "    if x <= 5:\n",
    "        return '<6'\n",
    "    elif x >= 13:\n",
    "        return '>12'\n",
    "    else:\n",
    "        return x"
   ]
  },
  {
   "cell_type": "markdown",
   "metadata": {},
   "source": [
    "### Load dataset and specify options"
   ]
  },
  {
   "cell_type": "code",
   "execution_count": 10,
   "metadata": {},
   "outputs": [],
   "source": [
    "# define the ML model\n",
    "# Decision Tree, Logistic Regression\n",
    "model = \"Decision Tree\"\n",
    "\n",
    "privileged_groups = [{'sex': 1}]\n",
    "unprivileged_groups = [{'sex': 0}]\n",
    "target_variable = 'income'\n",
    "sensible_attribute = 'sex'\n",
    "\n",
    "# Associaction rules parameters\n",
    "user_min_support = 0.2\n",
    "user_min_confidence = 0.8\n",
    "        \n",
    "# The debiasing function RejectOptionClassification accepts the following metrics:\n",
    "    # Statistical parity difference on the predictions of the classifier\n",
    "    # Average odds difference for the classifier\n",
    "    # Equal opportunity difference for the classifier\n",
    "metric_name = \"Statistical parity difference\"\n",
    "        \n",
    "#random seed for calibrated equal odds prediction\n",
    "np.random.seed(1)\n",
    "\n",
    "# Verify metric name\n",
    "allowed_metrics = [\"Statistical parity difference\",\n",
    "                   \"Average odds difference\",\n",
    "                   \"Equal opportunity difference\"]\n",
    "if metric_name not in allowed_metrics:\n",
    "    raise ValueError(\"Metric name should be one of allowed metrics\")"
   ]
  },
  {
   "cell_type": "markdown",
   "metadata": {},
   "source": [
    "## Load and clean csv file"
   ]
  },
  {
   "cell_type": "code",
   "execution_count": 11,
   "metadata": {},
   "outputs": [
    {
     "name": "stdout",
     "output_type": "stream",
     "text": [
      "shape before drop: (32561, 15)\n",
      "shape after drop: (30162, 15)\n"
     ]
    }
   ],
   "source": [
    "# https://www.kaggle.com/datasets/uciml/adult-census-income/data\n",
    "dataset_orig = pd.read_csv('dataset/adult.csv', header = 0)\n",
    "print('shape before drop:',dataset_orig.shape)\n",
    "dataset_orig.replace('?', np.nan, inplace=True)\n",
    "dataset_orig.dropna(inplace=True)\n",
    "# to_drop = [\"workclass\", \"fnlwgt\", \"education\", \"capital-gain\", \"capital-loss\", \"hours-per-week\"]\n",
    "\n",
    "to_drop = [\"fnlwgt\", \"education\", \"relationship\", \"workclass\", \"occupation\"]\n",
    "dataset_orig_clean = dataset_orig.dropna()\n",
    "dataset_orig_clean.drop(to_drop, axis=1, inplace=True)\n",
    "\n",
    "print('shape after drop:',dataset_orig.shape)\n"
   ]
  },
  {
   "cell_type": "code",
   "execution_count": 12,
   "metadata": {},
   "outputs": [
    {
     "data": {
      "text/html": [
       "<div>\n",
       "<style scoped>\n",
       "    .dataframe tbody tr th:only-of-type {\n",
       "        vertical-align: middle;\n",
       "    }\n",
       "\n",
       "    .dataframe tbody tr th {\n",
       "        vertical-align: top;\n",
       "    }\n",
       "\n",
       "    .dataframe thead th {\n",
       "        text-align: right;\n",
       "    }\n",
       "</style>\n",
       "<table border=\"1\" class=\"dataframe\">\n",
       "  <thead>\n",
       "    <tr style=\"text-align: right;\">\n",
       "      <th></th>\n",
       "      <th>age</th>\n",
       "      <th>workclass</th>\n",
       "      <th>fnlwgt</th>\n",
       "      <th>education</th>\n",
       "      <th>education.num</th>\n",
       "      <th>marital.status</th>\n",
       "      <th>occupation</th>\n",
       "      <th>relationship</th>\n",
       "      <th>race</th>\n",
       "      <th>sex</th>\n",
       "      <th>capital.gain</th>\n",
       "      <th>capital.loss</th>\n",
       "      <th>hours.per.week</th>\n",
       "      <th>native.country</th>\n",
       "      <th>income</th>\n",
       "    </tr>\n",
       "  </thead>\n",
       "  <tbody>\n",
       "    <tr>\n",
       "      <th>1</th>\n",
       "      <td>82</td>\n",
       "      <td>Private</td>\n",
       "      <td>132870</td>\n",
       "      <td>HS-grad</td>\n",
       "      <td>9</td>\n",
       "      <td>Widowed</td>\n",
       "      <td>Exec-managerial</td>\n",
       "      <td>Not-in-family</td>\n",
       "      <td>White</td>\n",
       "      <td>Female</td>\n",
       "      <td>0</td>\n",
       "      <td>4356</td>\n",
       "      <td>18</td>\n",
       "      <td>United-States</td>\n",
       "      <td>&lt;=50K</td>\n",
       "    </tr>\n",
       "    <tr>\n",
       "      <th>3</th>\n",
       "      <td>54</td>\n",
       "      <td>Private</td>\n",
       "      <td>140359</td>\n",
       "      <td>7th-8th</td>\n",
       "      <td>4</td>\n",
       "      <td>Divorced</td>\n",
       "      <td>Machine-op-inspct</td>\n",
       "      <td>Unmarried</td>\n",
       "      <td>White</td>\n",
       "      <td>Female</td>\n",
       "      <td>0</td>\n",
       "      <td>3900</td>\n",
       "      <td>40</td>\n",
       "      <td>United-States</td>\n",
       "      <td>&lt;=50K</td>\n",
       "    </tr>\n",
       "    <tr>\n",
       "      <th>4</th>\n",
       "      <td>41</td>\n",
       "      <td>Private</td>\n",
       "      <td>264663</td>\n",
       "      <td>Some-college</td>\n",
       "      <td>10</td>\n",
       "      <td>Separated</td>\n",
       "      <td>Prof-specialty</td>\n",
       "      <td>Own-child</td>\n",
       "      <td>White</td>\n",
       "      <td>Female</td>\n",
       "      <td>0</td>\n",
       "      <td>3900</td>\n",
       "      <td>40</td>\n",
       "      <td>United-States</td>\n",
       "      <td>&lt;=50K</td>\n",
       "    </tr>\n",
       "    <tr>\n",
       "      <th>5</th>\n",
       "      <td>34</td>\n",
       "      <td>Private</td>\n",
       "      <td>216864</td>\n",
       "      <td>HS-grad</td>\n",
       "      <td>9</td>\n",
       "      <td>Divorced</td>\n",
       "      <td>Other-service</td>\n",
       "      <td>Unmarried</td>\n",
       "      <td>White</td>\n",
       "      <td>Female</td>\n",
       "      <td>0</td>\n",
       "      <td>3770</td>\n",
       "      <td>45</td>\n",
       "      <td>United-States</td>\n",
       "      <td>&lt;=50K</td>\n",
       "    </tr>\n",
       "    <tr>\n",
       "      <th>6</th>\n",
       "      <td>38</td>\n",
       "      <td>Private</td>\n",
       "      <td>150601</td>\n",
       "      <td>10th</td>\n",
       "      <td>6</td>\n",
       "      <td>Separated</td>\n",
       "      <td>Adm-clerical</td>\n",
       "      <td>Unmarried</td>\n",
       "      <td>White</td>\n",
       "      <td>Male</td>\n",
       "      <td>0</td>\n",
       "      <td>3770</td>\n",
       "      <td>40</td>\n",
       "      <td>United-States</td>\n",
       "      <td>&lt;=50K</td>\n",
       "    </tr>\n",
       "    <tr>\n",
       "      <th>...</th>\n",
       "      <td>...</td>\n",
       "      <td>...</td>\n",
       "      <td>...</td>\n",
       "      <td>...</td>\n",
       "      <td>...</td>\n",
       "      <td>...</td>\n",
       "      <td>...</td>\n",
       "      <td>...</td>\n",
       "      <td>...</td>\n",
       "      <td>...</td>\n",
       "      <td>...</td>\n",
       "      <td>...</td>\n",
       "      <td>...</td>\n",
       "      <td>...</td>\n",
       "      <td>...</td>\n",
       "    </tr>\n",
       "    <tr>\n",
       "      <th>32556</th>\n",
       "      <td>22</td>\n",
       "      <td>Private</td>\n",
       "      <td>310152</td>\n",
       "      <td>Some-college</td>\n",
       "      <td>10</td>\n",
       "      <td>Never-married</td>\n",
       "      <td>Protective-serv</td>\n",
       "      <td>Not-in-family</td>\n",
       "      <td>White</td>\n",
       "      <td>Male</td>\n",
       "      <td>0</td>\n",
       "      <td>0</td>\n",
       "      <td>40</td>\n",
       "      <td>United-States</td>\n",
       "      <td>&lt;=50K</td>\n",
       "    </tr>\n",
       "    <tr>\n",
       "      <th>32557</th>\n",
       "      <td>27</td>\n",
       "      <td>Private</td>\n",
       "      <td>257302</td>\n",
       "      <td>Assoc-acdm</td>\n",
       "      <td>12</td>\n",
       "      <td>Married-civ-spouse</td>\n",
       "      <td>Tech-support</td>\n",
       "      <td>Wife</td>\n",
       "      <td>White</td>\n",
       "      <td>Female</td>\n",
       "      <td>0</td>\n",
       "      <td>0</td>\n",
       "      <td>38</td>\n",
       "      <td>United-States</td>\n",
       "      <td>&lt;=50K</td>\n",
       "    </tr>\n",
       "    <tr>\n",
       "      <th>32558</th>\n",
       "      <td>40</td>\n",
       "      <td>Private</td>\n",
       "      <td>154374</td>\n",
       "      <td>HS-grad</td>\n",
       "      <td>9</td>\n",
       "      <td>Married-civ-spouse</td>\n",
       "      <td>Machine-op-inspct</td>\n",
       "      <td>Husband</td>\n",
       "      <td>White</td>\n",
       "      <td>Male</td>\n",
       "      <td>0</td>\n",
       "      <td>0</td>\n",
       "      <td>40</td>\n",
       "      <td>United-States</td>\n",
       "      <td>&gt;50K</td>\n",
       "    </tr>\n",
       "    <tr>\n",
       "      <th>32559</th>\n",
       "      <td>58</td>\n",
       "      <td>Private</td>\n",
       "      <td>151910</td>\n",
       "      <td>HS-grad</td>\n",
       "      <td>9</td>\n",
       "      <td>Widowed</td>\n",
       "      <td>Adm-clerical</td>\n",
       "      <td>Unmarried</td>\n",
       "      <td>White</td>\n",
       "      <td>Female</td>\n",
       "      <td>0</td>\n",
       "      <td>0</td>\n",
       "      <td>40</td>\n",
       "      <td>United-States</td>\n",
       "      <td>&lt;=50K</td>\n",
       "    </tr>\n",
       "    <tr>\n",
       "      <th>32560</th>\n",
       "      <td>22</td>\n",
       "      <td>Private</td>\n",
       "      <td>201490</td>\n",
       "      <td>HS-grad</td>\n",
       "      <td>9</td>\n",
       "      <td>Never-married</td>\n",
       "      <td>Adm-clerical</td>\n",
       "      <td>Own-child</td>\n",
       "      <td>White</td>\n",
       "      <td>Male</td>\n",
       "      <td>0</td>\n",
       "      <td>0</td>\n",
       "      <td>20</td>\n",
       "      <td>United-States</td>\n",
       "      <td>&lt;=50K</td>\n",
       "    </tr>\n",
       "  </tbody>\n",
       "</table>\n",
       "<p>30162 rows × 15 columns</p>\n",
       "</div>"
      ],
      "text/plain": [
       "       age workclass  fnlwgt     education  education.num      marital.status  \\\n",
       "1       82   Private  132870       HS-grad              9             Widowed   \n",
       "3       54   Private  140359       7th-8th              4            Divorced   \n",
       "4       41   Private  264663  Some-college             10           Separated   \n",
       "5       34   Private  216864       HS-grad              9            Divorced   \n",
       "6       38   Private  150601          10th              6           Separated   \n",
       "...    ...       ...     ...           ...            ...                 ...   \n",
       "32556   22   Private  310152  Some-college             10       Never-married   \n",
       "32557   27   Private  257302    Assoc-acdm             12  Married-civ-spouse   \n",
       "32558   40   Private  154374       HS-grad              9  Married-civ-spouse   \n",
       "32559   58   Private  151910       HS-grad              9             Widowed   \n",
       "32560   22   Private  201490       HS-grad              9       Never-married   \n",
       "\n",
       "              occupation   relationship   race     sex  capital.gain  \\\n",
       "1        Exec-managerial  Not-in-family  White  Female             0   \n",
       "3      Machine-op-inspct      Unmarried  White  Female             0   \n",
       "4         Prof-specialty      Own-child  White  Female             0   \n",
       "5          Other-service      Unmarried  White  Female             0   \n",
       "6           Adm-clerical      Unmarried  White    Male             0   \n",
       "...                  ...            ...    ...     ...           ...   \n",
       "32556    Protective-serv  Not-in-family  White    Male             0   \n",
       "32557       Tech-support           Wife  White  Female             0   \n",
       "32558  Machine-op-inspct        Husband  White    Male             0   \n",
       "32559       Adm-clerical      Unmarried  White  Female             0   \n",
       "32560       Adm-clerical      Own-child  White    Male             0   \n",
       "\n",
       "       capital.loss  hours.per.week native.country income  \n",
       "1              4356              18  United-States  <=50K  \n",
       "3              3900              40  United-States  <=50K  \n",
       "4              3900              40  United-States  <=50K  \n",
       "5              3770              45  United-States  <=50K  \n",
       "6              3770              40  United-States  <=50K  \n",
       "...             ...             ...            ...    ...  \n",
       "32556             0              40  United-States  <=50K  \n",
       "32557             0              38  United-States  <=50K  \n",
       "32558             0              40  United-States   >50K  \n",
       "32559             0              40  United-States  <=50K  \n",
       "32560             0              20  United-States  <=50K  \n",
       "\n",
       "[30162 rows x 15 columns]"
      ]
     },
     "execution_count": 12,
     "metadata": {},
     "output_type": "execute_result"
    }
   ],
   "source": [
    "dataset_orig"
   ]
  },
  {
   "cell_type": "code",
   "execution_count": 13,
   "metadata": {},
   "outputs": [],
   "source": [
    "# Categorical features are converted to numerical\n",
    "dataset_orig_clean.loc[:, 'income'] = dataset_orig_clean['income'].map({\n",
    "    '<=50K': 0,\n",
    "    '>50K': 1\n",
    "})\n",
    "dataset_orig_clean['income'] = dataset_orig_clean['income'].astype(int)\n",
    "\n",
    "\n",
    "dataset_orig_clean.loc[:, 'sex'] = dataset_orig_clean['sex'].map({\n",
    "    'Female': 0,\n",
    "    'Male': 1\n",
    "})\n",
    "dataset_orig_clean['sex'] = dataset_orig_clean['sex'].astype(int)\n",
    "\n",
    "# 1 if married, 0 otherwise\n",
    "dataset_orig_clean['marital.status'] = dataset_orig_clean['marital.status'].map({\n",
    "    'Never-married': 0,\n",
    "    'Divorced': 0,\n",
    "    'Separated': 0,\n",
    "    'Widowed': 0,\n",
    "    'Married-civ-spouse': 1,\n",
    "    'Married-spouse-absent': 1,\n",
    "    'Married-AF-spouse': 1\n",
    "})\n",
    "dataset_orig_clean['marital.status'] = dataset_orig_clean['marital.status'].astype(int)\n",
    "\n",
    "\n",
    "dataset_orig_clean['race'] = dataset_orig_clean['race'].apply(lambda x: 1 if x == 'White' else 0)\n",
    "dataset_orig_clean['race'] = dataset_orig_clean['race'].astype(int)\n",
    "\n",
    "# United-States is 0 all the other countries are 1\n",
    "dataset_orig_clean['native.country'] = dataset_orig_clean['native.country'].apply(lambda x: 1 if x == 'United-States' else 0)\n",
    "dataset_orig_clean['native.country'] = dataset_orig_clean['native.country'].astype(int)\n",
    "\n",
    "\n"
   ]
  },
  {
   "cell_type": "code",
   "execution_count": 14,
   "metadata": {},
   "outputs": [
    {
     "data": {
      "text/html": [
       "<div>\n",
       "<style scoped>\n",
       "    .dataframe tbody tr th:only-of-type {\n",
       "        vertical-align: middle;\n",
       "    }\n",
       "\n",
       "    .dataframe tbody tr th {\n",
       "        vertical-align: top;\n",
       "    }\n",
       "\n",
       "    .dataframe thead th {\n",
       "        text-align: right;\n",
       "    }\n",
       "</style>\n",
       "<table border=\"1\" class=\"dataframe\">\n",
       "  <thead>\n",
       "    <tr style=\"text-align: right;\">\n",
       "      <th></th>\n",
       "      <th>age</th>\n",
       "      <th>education.num</th>\n",
       "      <th>marital.status</th>\n",
       "      <th>race</th>\n",
       "      <th>sex</th>\n",
       "      <th>capital.gain</th>\n",
       "      <th>capital.loss</th>\n",
       "      <th>hours.per.week</th>\n",
       "      <th>native.country</th>\n",
       "      <th>income</th>\n",
       "    </tr>\n",
       "  </thead>\n",
       "  <tbody>\n",
       "    <tr>\n",
       "      <th>1</th>\n",
       "      <td>82</td>\n",
       "      <td>9</td>\n",
       "      <td>0</td>\n",
       "      <td>1</td>\n",
       "      <td>0</td>\n",
       "      <td>0</td>\n",
       "      <td>4356</td>\n",
       "      <td>18</td>\n",
       "      <td>1</td>\n",
       "      <td>0</td>\n",
       "    </tr>\n",
       "    <tr>\n",
       "      <th>3</th>\n",
       "      <td>54</td>\n",
       "      <td>4</td>\n",
       "      <td>0</td>\n",
       "      <td>1</td>\n",
       "      <td>0</td>\n",
       "      <td>0</td>\n",
       "      <td>3900</td>\n",
       "      <td>40</td>\n",
       "      <td>1</td>\n",
       "      <td>0</td>\n",
       "    </tr>\n",
       "    <tr>\n",
       "      <th>4</th>\n",
       "      <td>41</td>\n",
       "      <td>10</td>\n",
       "      <td>0</td>\n",
       "      <td>1</td>\n",
       "      <td>0</td>\n",
       "      <td>0</td>\n",
       "      <td>3900</td>\n",
       "      <td>40</td>\n",
       "      <td>1</td>\n",
       "      <td>0</td>\n",
       "    </tr>\n",
       "    <tr>\n",
       "      <th>5</th>\n",
       "      <td>34</td>\n",
       "      <td>9</td>\n",
       "      <td>0</td>\n",
       "      <td>1</td>\n",
       "      <td>0</td>\n",
       "      <td>0</td>\n",
       "      <td>3770</td>\n",
       "      <td>45</td>\n",
       "      <td>1</td>\n",
       "      <td>0</td>\n",
       "    </tr>\n",
       "    <tr>\n",
       "      <th>6</th>\n",
       "      <td>38</td>\n",
       "      <td>6</td>\n",
       "      <td>0</td>\n",
       "      <td>1</td>\n",
       "      <td>1</td>\n",
       "      <td>0</td>\n",
       "      <td>3770</td>\n",
       "      <td>40</td>\n",
       "      <td>1</td>\n",
       "      <td>0</td>\n",
       "    </tr>\n",
       "    <tr>\n",
       "      <th>...</th>\n",
       "      <td>...</td>\n",
       "      <td>...</td>\n",
       "      <td>...</td>\n",
       "      <td>...</td>\n",
       "      <td>...</td>\n",
       "      <td>...</td>\n",
       "      <td>...</td>\n",
       "      <td>...</td>\n",
       "      <td>...</td>\n",
       "      <td>...</td>\n",
       "    </tr>\n",
       "    <tr>\n",
       "      <th>32556</th>\n",
       "      <td>22</td>\n",
       "      <td>10</td>\n",
       "      <td>0</td>\n",
       "      <td>1</td>\n",
       "      <td>1</td>\n",
       "      <td>0</td>\n",
       "      <td>0</td>\n",
       "      <td>40</td>\n",
       "      <td>1</td>\n",
       "      <td>0</td>\n",
       "    </tr>\n",
       "    <tr>\n",
       "      <th>32557</th>\n",
       "      <td>27</td>\n",
       "      <td>12</td>\n",
       "      <td>1</td>\n",
       "      <td>1</td>\n",
       "      <td>0</td>\n",
       "      <td>0</td>\n",
       "      <td>0</td>\n",
       "      <td>38</td>\n",
       "      <td>1</td>\n",
       "      <td>0</td>\n",
       "    </tr>\n",
       "    <tr>\n",
       "      <th>32558</th>\n",
       "      <td>40</td>\n",
       "      <td>9</td>\n",
       "      <td>1</td>\n",
       "      <td>1</td>\n",
       "      <td>1</td>\n",
       "      <td>0</td>\n",
       "      <td>0</td>\n",
       "      <td>40</td>\n",
       "      <td>1</td>\n",
       "      <td>1</td>\n",
       "    </tr>\n",
       "    <tr>\n",
       "      <th>32559</th>\n",
       "      <td>58</td>\n",
       "      <td>9</td>\n",
       "      <td>0</td>\n",
       "      <td>1</td>\n",
       "      <td>0</td>\n",
       "      <td>0</td>\n",
       "      <td>0</td>\n",
       "      <td>40</td>\n",
       "      <td>1</td>\n",
       "      <td>0</td>\n",
       "    </tr>\n",
       "    <tr>\n",
       "      <th>32560</th>\n",
       "      <td>22</td>\n",
       "      <td>9</td>\n",
       "      <td>0</td>\n",
       "      <td>1</td>\n",
       "      <td>1</td>\n",
       "      <td>0</td>\n",
       "      <td>0</td>\n",
       "      <td>20</td>\n",
       "      <td>1</td>\n",
       "      <td>0</td>\n",
       "    </tr>\n",
       "  </tbody>\n",
       "</table>\n",
       "<p>30162 rows × 10 columns</p>\n",
       "</div>"
      ],
      "text/plain": [
       "       age  education.num  marital.status  race  sex  capital.gain  \\\n",
       "1       82              9               0     1    0             0   \n",
       "3       54              4               0     1    0             0   \n",
       "4       41             10               0     1    0             0   \n",
       "5       34              9               0     1    0             0   \n",
       "6       38              6               0     1    1             0   \n",
       "...    ...            ...             ...   ...  ...           ...   \n",
       "32556   22             10               0     1    1             0   \n",
       "32557   27             12               1     1    0             0   \n",
       "32558   40              9               1     1    1             0   \n",
       "32559   58              9               0     1    0             0   \n",
       "32560   22              9               0     1    1             0   \n",
       "\n",
       "       capital.loss  hours.per.week  native.country  income  \n",
       "1              4356              18               1       0  \n",
       "3              3900              40               1       0  \n",
       "4              3900              40               1       0  \n",
       "5              3770              45               1       0  \n",
       "6              3770              40               1       0  \n",
       "...             ...             ...             ...     ...  \n",
       "32556             0              40               1       0  \n",
       "32557             0              38               1       0  \n",
       "32558             0              40               1       1  \n",
       "32559             0              40               1       0  \n",
       "32560             0              20               1       0  \n",
       "\n",
       "[30162 rows x 10 columns]"
      ]
     },
     "execution_count": 14,
     "metadata": {},
     "output_type": "execute_result"
    }
   ],
   "source": [
    "dataset_orig_clean"
   ]
  },
  {
   "cell_type": "markdown",
   "metadata": {},
   "source": [
    "### Dataset visual"
   ]
  },
  {
   "cell_type": "code",
   "execution_count": 15,
   "metadata": {},
   "outputs": [
    {
     "name": "stdout",
     "output_type": "stream",
     "text": [
      "income\n",
      "0    22654\n",
      "1     7508\n",
      "Name: count, dtype: int64\n"
     ]
    },
    {
     "data": {
      "text/plain": [
       "<Figure size 5000x5000 with 0 Axes>"
      ]
     },
     "metadata": {},
     "output_type": "display_data"
    },
    {
     "data": {
      "image/png": "[encoded data removed]",
      "text/plain": [
       "<Figure size 640x480 with 12 Axes>"
      ]
     },
     "metadata": {},
     "output_type": "display_data"
    }
   ],
   "source": [
    "# what does the data look like now?\n",
    "plt.figure(figsize=(50,50))\n",
    "\n",
    "print(dataset_orig_clean['income'].value_counts())\n",
    "\n",
    "# Plot the histogram of the dataset\n",
    "dataset_orig_clean.hist()\n",
    "plt.tight_layout()\n"
   ]
  },
  {
   "cell_type": "code",
   "execution_count": 16,
   "metadata": {},
   "outputs": [
    {
     "data": {
      "image/png": "[encoded data removed]",
      "text/plain": [
       "<Figure size 800x600 with 1 Axes>"
      ]
     },
     "metadata": {},
     "output_type": "display_data"
    }
   ],
   "source": [
    "# Count the number of people earning more and less than 50K, divided by gender\n",
    "income_gender_counts = dataset_orig_clean.groupby(['sex', 'income']).size().unstack()\n",
    "# Plot the graph using seaborn\n",
    "plt.figure(figsize=(8,6))\n",
    "ax = sns.countplot(data=dataset_orig_clean, x='sex', hue='income', palette='rocket')\n",
    "plt.xlabel('Gender')\n",
    "plt.ylabel('Number of People')\n",
    "plt.title('Number of People Earning More and Less than 50K by Gender')\n",
    "plt.xticks([0, 1], labels=['Female', 'Male'], rotation=0)\n",
    "plt.legend(['<=50K', '>50K'])\n",
    "plt.show()"
   ]
  },
  {
   "cell_type": "code",
   "execution_count": 17,
   "metadata": {},
   "outputs": [],
   "source": [
    "binary_dataset = BinaryLabelDataset(\n",
    "    df=dataset_orig_clean.copy(),\n",
    "    label_names=['income'],\n",
    "    favorable_label=1,\n",
    "    unfavorable_label=0,\n",
    "    protected_attribute_names=[sensible_attribute])"
   ]
  },
  {
   "cell_type": "markdown",
   "metadata": {},
   "source": [
    "### Split into train and test"
   ]
  },
  {
   "cell_type": "code",
   "execution_count": 18,
   "metadata": {},
   "outputs": [],
   "source": [
    "# Get the dataset and split into train and test\n",
    "dataset_orig_train, dataset_orig_test = binary_dataset.split([0.7], shuffle=True)"
   ]
  },
  {
   "cell_type": "code",
   "execution_count": 19,
   "metadata": {},
   "outputs": [
    {
     "data": {
      "text/markdown": [
       "#### Training & Test dimensions"
      ],
      "text/plain": [
       "<IPython.core.display.Markdown object>"
      ]
     },
     "metadata": {},
     "output_type": "display_data"
    },
    {
     "name": "stdout",
     "output_type": "stream",
     "text": [
      "21113 , 9049\n"
     ]
    }
   ],
   "source": [
    "display(Markdown(\"#### Training & Test dimensions\"))\n",
    "print(dataset_orig_train.features.shape[0],\",\", dataset_orig_test.features.shape[0])"
   ]
  },
  {
   "cell_type": "code",
   "execution_count": 20,
   "metadata": {},
   "outputs": [
    {
     "name": "stdout",
     "output_type": "stream",
     "text": [
      "Percentage of females earning over 50K: 14.98%\n",
      "Number of male workers earning over 50K: 4437\n",
      "Total number of workers earning over 50K: 5219\n"
     ]
    },
    {
     "data": {
      "image/png": "[encoded data removed]",
      "text/plain": [
       "<Figure size 500x500 with 1 Axes>"
      ]
     },
     "metadata": {},
     "output_type": "display_data"
    }
   ],
   "source": [
    "above_50k_graph(dataset_orig_train)"
   ]
  },
  {
   "cell_type": "code",
   "execution_count": 21,
   "metadata": {},
   "outputs": [
    {
     "name": "stdout",
     "output_type": "stream",
     "text": [
      "Percentage of females earning over 50K: 14.42%\n",
      "Number of male workers earning over 50K: 1959\n",
      "Total number of workers earning over 50K: 2289\n"
     ]
    },
    {
     "data": {
      "image/png": "[encoded data removed]",
      "text/plain": [
       "<Figure size 500x500 with 1 Axes>"
      ]
     },
     "metadata": {},
     "output_type": "display_data"
    }
   ],
   "source": [
    "above_50k_graph(dataset_orig_test)"
   ]
  },
  {
   "cell_type": "code",
   "execution_count": 22,
   "metadata": {},
   "outputs": [
    {
     "data": {
      "image/png": "[encoded data removed]",
      "text/plain": [
       "<Figure size 640x480 with 2 Axes>"
      ]
     },
     "metadata": {},
     "output_type": "display_data"
    }
   ],
   "source": [
    "df_test = dataset_orig_test.convert_to_dataframe()[0]\n",
    "g = sns.heatmap(df_test.corr(), annot=False, cmap=\"coolwarm\", linewidths = 0.1)\n",
    "plt.show()"
   ]
  },
  {
   "cell_type": "markdown",
   "metadata": {},
   "source": [
    "#### Display properties of the training dataset"
   ]
  },
  {
   "cell_type": "code",
   "execution_count": 23,
   "metadata": {},
   "outputs": [
    {
     "data": {
      "text/markdown": [
       "#### Training Dataset shape"
      ],
      "text/plain": [
       "<IPython.core.display.Markdown object>"
      ]
     },
     "metadata": {},
     "output_type": "display_data"
    },
    {
     "name": "stdout",
     "output_type": "stream",
     "text": [
      "(21113, 9)\n"
     ]
    },
    {
     "data": {
      "text/markdown": [
       "#### Favorable and unfavorable labels"
      ],
      "text/plain": [
       "<IPython.core.display.Markdown object>"
      ]
     },
     "metadata": {},
     "output_type": "display_data"
    },
    {
     "name": "stdout",
     "output_type": "stream",
     "text": [
      "1.0 0.0\n"
     ]
    },
    {
     "data": {
      "text/markdown": [
       "#### Protected attribute names"
      ],
      "text/plain": [
       "<IPython.core.display.Markdown object>"
      ]
     },
     "metadata": {},
     "output_type": "display_data"
    },
    {
     "name": "stdout",
     "output_type": "stream",
     "text": [
      "['sex']\n"
     ]
    },
    {
     "data": {
      "text/markdown": [
       "#### Privileged and unprivileged protected attribute values"
      ],
      "text/plain": [
       "<IPython.core.display.Markdown object>"
      ]
     },
     "metadata": {},
     "output_type": "display_data"
    },
    {
     "name": "stdout",
     "output_type": "stream",
     "text": [
      "[array([1.])] [array([0.])]\n"
     ]
    },
    {
     "data": {
      "text/markdown": [
       "#### Dataset feature names"
      ],
      "text/plain": [
       "<IPython.core.display.Markdown object>"
      ]
     },
     "metadata": {},
     "output_type": "display_data"
    },
    {
     "name": "stdout",
     "output_type": "stream",
     "text": [
      "['age', 'education.num', 'marital.status', 'race', 'sex', 'capital.gain', 'capital.loss', 'hours.per.week', 'native.country']\n"
     ]
    }
   ],
   "source": [
    "# print out some labels, names, etc.\n",
    "display(Markdown(\"#### Training Dataset shape\"))\n",
    "print(dataset_orig_train.features.shape)\n",
    "display(Markdown(\"#### Favorable and unfavorable labels\"))\n",
    "print(dataset_orig_train.favorable_label, dataset_orig_train.unfavorable_label)\n",
    "display(Markdown(\"#### Protected attribute names\"))\n",
    "print(dataset_orig_train.protected_attribute_names)\n",
    "display(Markdown(\"#### Privileged and unprivileged protected attribute values\"))\n",
    "print(dataset_orig_train.privileged_protected_attributes, \n",
    "      dataset_orig_train.unprivileged_protected_attributes)\n",
    "display(Markdown(\"#### Dataset feature names\"))\n",
    "print(dataset_orig_train.feature_names)"
   ]
  },
  {
   "cell_type": "code",
   "execution_count": 24,
   "metadata": {},
   "outputs": [
    {
     "data": {
      "text/markdown": [
       "#### Original training dataset"
      ],
      "text/plain": [
       "<IPython.core.display.Markdown object>"
      ]
     },
     "metadata": {},
     "output_type": "display_data"
    },
    {
     "name": "stdout",
     "output_type": "stream",
     "text": [
      "Statistical Parity Difference or Difference in mean outcomes between unprivileged and privileged groups = -0.196578\n"
     ]
    }
   ],
   "source": [
    "metric_orig_train = BinaryLabelDatasetMetric(dataset_orig_train, \n",
    "                                             unprivileged_groups=unprivileged_groups,\n",
    "                                             privileged_groups=privileged_groups)\n",
    "display(Markdown(\"#### Original training dataset\"))\n",
    "print(\"Statistical Parity Difference or Difference in mean outcomes between unprivileged and privileged groups = %f\" % metric_orig_train.mean_difference())"
   ]
  },
  {
   "cell_type": "markdown",
   "metadata": {},
   "source": [
    "### Train classifier on original data"
   ]
  },
  {
   "cell_type": "code",
   "execution_count": 25,
   "metadata": {},
   "outputs": [],
   "source": [
    "scale_orig = StandardScaler()\n",
    "X_train = scale_orig.fit_transform(dataset_orig_train.features)\n",
    "y_train = dataset_orig_train.labels.ravel()"
   ]
  },
  {
   "cell_type": "code",
   "execution_count": 26,
   "metadata": {},
   "outputs": [],
   "source": [
    "if model == \"Decision Tree\":\n",
    "    model_instance = DecisionTreeClassifier(max_features=14,min_samples_leaf=100,random_state=10)\n",
    "    model_instance.fit(X_train, y_train)\n",
    "    y_train_pred = model_instance.predict(X_train)\n",
    "elif model == \"Logistic Regression\":\n",
    "    model_instance = LogisticRegression(random_state=101)\n",
    "    model_instance.fit(X_train, y_train)\n",
    "    y_train_pred = model_instance.predict(X_train)\n",
    "\n",
    "\n",
    "\n",
    "# positive class index\n",
    "pos_ind = np.where(model_instance.classes_ == dataset_orig_train.favorable_label)[0][0]\n",
    "\n",
    "dataset_orig_train_pred = dataset_orig_train.copy(deepcopy=True)\n",
    "dataset_orig_train_pred.labels = y_train_pred\n"
   ]
  },
  {
   "cell_type": "code",
   "execution_count": 27,
   "metadata": {},
   "outputs": [
    {
     "name": "stdout",
     "output_type": "stream",
     "text": [
      "Percentage of females earning over 50K: 11.87%\n",
      "Number of male workers earning over 50K: 3505\n",
      "Total number of workers earning over 50K: 3977\n"
     ]
    },
    {
     "data": {
      "image/png": "[encoded data removed]",
      "text/plain": [
       "<Figure size 500x500 with 1 Axes>"
      ]
     },
     "metadata": {},
     "output_type": "display_data"
    }
   ],
   "source": [
    "df_train_pred = dataset_orig_train_pred.copy(deepcopy=True)\n",
    "df_train_pred.labels = df_train_pred.labels.reshape(-1, 1)\n",
    "df_train_pred = df_train_pred.convert_to_dataframe()[0]\n",
    "\n",
    "\n",
    "above_50k_graph_df(df_train_pred)\n"
   ]
  },
  {
   "cell_type": "code",
   "execution_count": 28,
   "metadata": {},
   "outputs": [
    {
     "name": "stdout",
     "output_type": "stream",
     "text": [
      "Criterion: gini\n",
      "Depth: 14\n",
      "Min samples per leaf: 100\n",
      "Feature importances:  [('age', np.float64(0.06238730231097795)), ('education.num', np.float64(0.24985205796354795)), ('marital.status', np.float64(0.4093632003785486)), ('race', np.float64(0.0)), ('sex', np.float64(0.004117514955309507)), ('capital.gain', np.float64(0.20620801248042264)), ('capital.loss', np.float64(0.03225903250979686)), ('hours.per.week', np.float64(0.03577343401530113)), ('native.country', np.float64(3.94453860952947e-05))]\n"
     ]
    }
   ],
   "source": [
    "if model == \"Decision Tree\":\n",
    "    print(\"Criterion:\", model_instance.criterion)\n",
    "    print(\"Depth:\", model_instance.get_depth())\n",
    "    print(\"Min samples per leaf:\", model_instance.min_samples_leaf)\n",
    "    print(\"Feature importances: \",list(zip(dataset_orig_train.feature_names, model_instance.feature_importances_)))\n"
   ]
  },
  {
   "cell_type": "code",
   "execution_count": 29,
   "metadata": {},
   "outputs": [
    {
     "data": {
      "text/plain": [
       "0.8498555392412258"
      ]
     },
     "execution_count": 29,
     "metadata": {},
     "output_type": "execute_result"
    }
   ],
   "source": [
    "accuracy_score(dataset_orig_train.labels, dataset_orig_train_pred.labels)"
   ]
  },
  {
   "cell_type": "markdown",
   "metadata": {},
   "source": [
    "### Obtain scores for test set and find the optimal parameters from the test set"
   ]
  },
  {
   "cell_type": "code",
   "execution_count": 30,
   "metadata": {},
   "outputs": [],
   "source": [
    "dataset_orig_test_pred = dataset_orig_test.copy(deepcopy=True)\n",
    "X_test = scale_orig.transform(dataset_orig_test_pred.features)\n",
    "y_test = dataset_orig_test_pred.labels\n",
    "dataset_orig_test_pred.scores = model_instance.predict_proba(X_test)[:,pos_ind].reshape(-1,1)"
   ]
  },
  {
   "cell_type": "markdown",
   "metadata": {},
   "source": [
    "#### Best threshold for classification only (no fairness)"
   ]
  },
  {
   "cell_type": "markdown",
   "metadata": {},
   "source": [
    "if one label is more common than the other label, then the dataset is imbalanced -> balanced accuracy\n",
    "\n",
    "0.5*(classified_metric_orig_test.true_positive_rate() + classified_metric_orig_test.true_negative_rate())"
   ]
  },
  {
   "cell_type": "code",
   "execution_count": 31,
   "metadata": {},
   "outputs": [
    {
     "name": "stdout",
     "output_type": "stream",
     "text": [
      "Best balanced accuracy (no fairness constraints) = 0.8105\n",
      "Optimal classification threshold (no fairness constraints) = 0.2575\n"
     ]
    }
   ],
   "source": [
    "num_thresh = 100\n",
    "ba_arr = np.zeros(num_thresh)\n",
    "class_thresh_arr = np.linspace(0.01, 0.99, num_thresh)\n",
    "for idx, class_thresh in enumerate(class_thresh_arr):\n",
    "    \n",
    "    fav_inds = dataset_orig_test_pred.scores > class_thresh\n",
    "    dataset_orig_test_pred.labels[fav_inds] = dataset_orig_test_pred.favorable_label\n",
    "    dataset_orig_test_pred.labels[~fav_inds] = dataset_orig_test_pred.unfavorable_label\n",
    "    \n",
    "    classified_metric_orig_test = ClassificationMetric(dataset_orig_test,\n",
    "                                             dataset_orig_test_pred, \n",
    "                                             unprivileged_groups=unprivileged_groups,\n",
    "                                             privileged_groups=privileged_groups)\n",
    "    \n",
    "    ba_arr[idx] = balanced_accuracy_score(dataset_orig_test.labels, dataset_orig_test_pred.labels)\n",
    "\n",
    "best_ind = np.where(ba_arr == np.max(ba_arr))[0][0]\n",
    "best_class_thresh = class_thresh_arr[best_ind]\n",
    "\n",
    "print(\"Best balanced accuracy (no fairness constraints) = %.4f\" % np.max(ba_arr))\n",
    "\n",
    "print(\"Optimal classification threshold (no fairness constraints) = %.4f\" % best_class_thresh)"
   ]
  },
  {
   "cell_type": "markdown",
   "metadata": {},
   "source": [
    "### Post-procesing technique"
   ]
  },
  {
   "cell_type": "markdown",
   "metadata": {},
   "source": [
    "#### Estimate optimal parameters for the ROC method"
   ]
  },
  {
   "cell_type": "code",
   "execution_count": 32,
   "metadata": {},
   "outputs": [],
   "source": [
    "# Upper and lower bound on the fairness metric used\n",
    "metric_ub = 0.05\n",
    "metric_lb = -0.05"
   ]
  },
  {
   "cell_type": "code",
   "execution_count": 33,
   "metadata": {},
   "outputs": [],
   "source": [
    "ROC = RejectOptionClassification(unprivileged_groups=unprivileged_groups, \n",
    "                                 privileged_groups=privileged_groups, \n",
    "                                 low_class_thresh=0.1, high_class_thresh=0.9,\n",
    "                                  num_class_thresh=100, num_ROC_margin=50,\n",
    "                                  metric_name=metric_name,\n",
    "                                  metric_ub=metric_ub, metric_lb=metric_lb)\n",
    "ROC = ROC.fit(dataset_orig_test, dataset_orig_test_pred)"
   ]
  },
  {
   "cell_type": "code",
   "execution_count": 34,
   "metadata": {},
   "outputs": [
    {
     "name": "stdout",
     "output_type": "stream",
     "text": [
      "Optimal classification threshold (with fairness constraints) = 0.2131\n",
      "Optimal ROC margin = 0.1522\n"
     ]
    }
   ],
   "source": [
    "print(\"Optimal classification threshold (with fairness constraints) = %.4f\" % ROC.classification_threshold)\n",
    "print(\"Optimal ROC margin = %.4f\" % ROC.ROC_margin)"
   ]
  },
  {
   "cell_type": "markdown",
   "metadata": {},
   "source": [
    "#### Predictions from Test Set"
   ]
  },
  {
   "cell_type": "code",
   "execution_count": 35,
   "metadata": {},
   "outputs": [
    {
     "data": {
      "text/markdown": [
       "#### Test set"
      ],
      "text/plain": [
       "<IPython.core.display.Markdown object>"
      ]
     },
     "metadata": {},
     "output_type": "display_data"
    },
    {
     "data": {
      "text/markdown": [
       "##### Raw predictions - No fairness constraints, only maximizing balanced accuracy"
      ],
      "text/plain": [
       "<IPython.core.display.Markdown object>"
      ]
     },
     "metadata": {},
     "output_type": "display_data"
    },
    {
     "name": "stdout",
     "output_type": "stream",
     "text": [
      "Accuracy = 0.8025\n",
      "Recall = 0.8266\n",
      "Precision = 0.5765\n",
      "Balanced accuracy = 0.8105\n",
      "Statistical parity difference = -0.3681\n",
      "Average odds difference = -0.2466\n",
      "Equal opportunity difference = -0.2399\n"
     ]
    }
   ],
   "source": [
    "# Metrics for the test set\n",
    "# if the probability of the positive class is greater than or equal to best_class_thresh, the sample will be classified as positive\n",
    "fav_inds = dataset_orig_test_pred.scores > best_class_thresh\n",
    "dataset_orig_test_pred.labels[fav_inds] = dataset_orig_test_pred.favorable_label\n",
    "dataset_orig_test_pred.labels[~fav_inds] = dataset_orig_test_pred.unfavorable_label\n",
    "\n",
    "display(Markdown(\"#### Test set\"))\n",
    "display(Markdown(\"##### Raw predictions - No fairness constraints, only maximizing balanced accuracy\"))\n",
    "\n",
    "metric_cl_test_bef = compute_cl_metrics(dataset_orig_test, dataset_orig_test_pred)\n",
    "metric_fn_test_bef = compute_fn_metrics(dataset_orig_test, dataset_orig_test_pred, unprivileged_groups, privileged_groups)"
   ]
  },
  {
   "cell_type": "code",
   "execution_count": 36,
   "metadata": {},
   "outputs": [
    {
     "data": {
      "text/plain": [
       "<Figure size 300x300 with 0 Axes>"
      ]
     },
     "metadata": {},
     "output_type": "display_data"
    },
    {
     "data": {
      "image/png": "[encoded data removed]",
      "text/plain": [
       "<Figure size 640x480 with 2 Axes>"
      ]
     },
     "metadata": {},
     "output_type": "display_data"
    }
   ],
   "source": [
    "cm_test = conf_matrix(dataset_orig_test, dataset_orig_test_pred)\n",
    "\n",
    "TP_discr = cm_test[1][1]\n",
    "TN_discr = cm_test[0][0]\n",
    "FN_discr = cm_test[1][0]\n",
    "FP_discr = cm_test[0][1]"
   ]
  },
  {
   "cell_type": "code",
   "execution_count": 37,
   "metadata": {},
   "outputs": [
    {
     "name": "stdout",
     "output_type": "stream",
     "text": [
      "Percentage of females earning over 50K: 10.24%\n",
      "Number of male workers earning over 50K: 2946\n",
      "Total number of workers earning over 50K: 3282\n"
     ]
    },
    {
     "data": {
      "image/png": "[encoded data removed]",
      "text/plain": [
       "<Figure size 500x500 with 1 Axes>"
      ]
     },
     "metadata": {},
     "output_type": "display_data"
    }
   ],
   "source": [
    "above_50k_graph(dataset_orig_test_pred)"
   ]
  },
  {
   "cell_type": "markdown",
   "metadata": {},
   "source": [
    "#### ROC prediction"
   ]
  },
  {
   "cell_type": "code",
   "execution_count": 38,
   "metadata": {},
   "outputs": [
    {
     "data": {
      "text/markdown": [
       "#### Test set"
      ],
      "text/plain": [
       "<IPython.core.display.Markdown object>"
      ]
     },
     "metadata": {},
     "output_type": "display_data"
    },
    {
     "data": {
      "text/markdown": [
       "##### Transformed predictions - With fairness constraints"
      ],
      "text/plain": [
       "<IPython.core.display.Markdown object>"
      ]
     },
     "metadata": {},
     "output_type": "display_data"
    },
    {
     "name": "stdout",
     "output_type": "stream",
     "text": [
      "Accuracy = 0.7901\n",
      "Recall = 0.7671\n",
      "Precision = 0.5625\n",
      "Balanced accuracy = 0.7825\n",
      "Statistical parity difference = -0.0497\n",
      "Average odds difference = 0.1105\n",
      "Equal opportunity difference = 0.1659\n"
     ]
    }
   ],
   "source": [
    "# Metrics for the transformed test set\n",
    "dataset_transf_test_pred = ROC.predict(dataset_orig_test_pred)\n",
    "\n",
    "display(Markdown(\"#### Test set\"))\n",
    "display(Markdown(\"##### Transformed predictions - With fairness constraints\"))\n",
    "metric_cl_test_aft = compute_cl_metrics(dataset_orig_test, dataset_transf_test_pred)\n",
    "metric_fn_test_aft = compute_fn_metrics(dataset_orig_test, dataset_transf_test_pred, \n",
    "                unprivileged_groups, privileged_groups)"
   ]
  },
  {
   "cell_type": "code",
   "execution_count": 39,
   "metadata": {},
   "outputs": [
    {
     "data": {
      "text/plain": [
       "array([[5394, 1366],\n",
       "       [ 533, 1756]])"
      ]
     },
     "execution_count": 39,
     "metadata": {},
     "output_type": "execute_result"
    },
    {
     "data": {
      "text/plain": [
       "<Figure size 300x300 with 0 Axes>"
      ]
     },
     "metadata": {},
     "output_type": "display_data"
    },
    {
     "data": {
      "image/png": "[encoded data removed]",
      "text/plain": [
       "<Figure size 640x480 with 2 Axes>"
      ]
     },
     "metadata": {},
     "output_type": "display_data"
    }
   ],
   "source": [
    "conf_matrix(dataset_orig_test, dataset_transf_test_pred)"
   ]
  },
  {
   "cell_type": "code",
   "execution_count": 40,
   "metadata": {},
   "outputs": [
    {
     "name": "stdout",
     "output_type": "stream",
     "text": [
      "Percentage of females earning over 50K: 29.34%\n",
      "Number of male workers earning over 50K: 2206\n",
      "Total number of workers earning over 50K: 3122\n"
     ]
    },
    {
     "data": {
      "image/png": "[encoded data removed]",
      "text/plain": [
       "<Figure size 500x500 with 1 Axes>"
      ]
     },
     "metadata": {},
     "output_type": "display_data"
    }
   ],
   "source": [
    "above_50k_graph(dataset_transf_test_pred)"
   ]
  },
  {
   "cell_type": "code",
   "execution_count": 65,
   "metadata": {},
   "outputs": [
    {
     "data": {
      "text/html": [
       "<div>\n",
       "<style scoped>\n",
       "    .dataframe tbody tr th:only-of-type {\n",
       "        vertical-align: middle;\n",
       "    }\n",
       "\n",
       "    .dataframe tbody tr th {\n",
       "        vertical-align: top;\n",
       "    }\n",
       "\n",
       "    .dataframe thead th {\n",
       "        text-align: right;\n",
       "    }\n",
       "</style>\n",
       "<table border=\"1\" class=\"dataframe\">\n",
       "  <thead>\n",
       "    <tr style=\"text-align: right;\">\n",
       "      <th></th>\n",
       "      <th>Male(&lt;=50K)</th>\n",
       "      <th>Male(&gt;50K)</th>\n",
       "      <th>Female(&lt;=50K)</th>\n",
       "      <th>Female(&gt;50K)</th>\n",
       "    </tr>\n",
       "  </thead>\n",
       "  <tbody>\n",
       "    <tr>\n",
       "      <th>0</th>\n",
       "      <td>4149</td>\n",
       "      <td>1959</td>\n",
       "      <td>2611</td>\n",
       "      <td>330</td>\n",
       "    </tr>\n",
       "    <tr>\n",
       "      <th>1</th>\n",
       "      <td>3162</td>\n",
       "      <td>2946</td>\n",
       "      <td>2605</td>\n",
       "      <td>336</td>\n",
       "    </tr>\n",
       "    <tr>\n",
       "      <th>2</th>\n",
       "      <td>3902</td>\n",
       "      <td>2206</td>\n",
       "      <td>2025</td>\n",
       "      <td>916</td>\n",
       "    </tr>\n",
       "  </tbody>\n",
       "</table>\n",
       "</div>"
      ],
      "text/plain": [
       "   Male(<=50K)  Male(>50K)  Female(<=50K)  Female(>50K)\n",
       "0         4149        1959           2611           330\n",
       "1         3162        2946           2605           336\n",
       "2         3902        2206           2025           916"
      ]
     },
     "execution_count": 65,
     "metadata": {},
     "output_type": "execute_result"
    }
   ],
   "source": [
    "# Count the number of people earning more and less than 50K, divided by gender for the original test dataset, predicted test dataset and predicted after pp\n",
    "income_gender_counts_test = dataset_orig_test.convert_to_dataframe()[0].groupby(['sex', 'income']).size().unstack()\n",
    "income_gender_counts_test_pred = dataset_orig_test_pred.convert_to_dataframe()[0].groupby(['sex', 'income']).size().unstack()\n",
    "income_gender_counts_transf_test_pred = dataset_transf_test_pred.convert_to_dataframe()[0].groupby(['sex', 'income']).size().unstack()\n",
    "\n",
    "df_comparison = pd.DataFrame({\n",
    "    'Male(<=50K)': [income_gender_counts_test.loc[1, 0], income_gender_counts_test_pred.loc[1, 0], income_gender_counts_transf_test_pred.loc[1,0]],\n",
    "    'Male(>50K)': [income_gender_counts_test.loc[1, 1], income_gender_counts_test_pred.loc[1, 1], income_gender_counts_transf_test_pred.loc[1,1]],\n",
    "    'Female(<=50K)': [income_gender_counts_test.loc[0, 0], income_gender_counts_test_pred.loc[0, 0], income_gender_counts_transf_test_pred.loc[0,0]],\n",
    "    'Female(>50K)': [income_gender_counts_test.loc[0, 1], income_gender_counts_test_pred.loc[0, 1], income_gender_counts_transf_test_pred.loc[0,1]],\n",
    "})\n",
    "\n",
    "df_comparison\n"
   ]
  },
  {
   "cell_type": "code",
   "execution_count": 66,
   "metadata": {},
   "outputs": [
    {
     "data": {
      "text/html": [
       "<div>\n",
       "<style scoped>\n",
       "    .dataframe tbody tr th:only-of-type {\n",
       "        vertical-align: middle;\n",
       "    }\n",
       "\n",
       "    .dataframe tbody tr th {\n",
       "        vertical-align: top;\n",
       "    }\n",
       "\n",
       "    .dataframe thead th {\n",
       "        text-align: right;\n",
       "    }\n",
       "</style>\n",
       "<table border=\"1\" class=\"dataframe\">\n",
       "  <thead>\n",
       "    <tr style=\"text-align: right;\">\n",
       "      <th></th>\n",
       "      <th>Gender</th>\n",
       "      <th>Original &lt;=50K</th>\n",
       "      <th>Original &gt;50K</th>\n",
       "      <th>Pred bf pp &lt;=50K</th>\n",
       "      <th>Pred bf pp &gt;50K</th>\n",
       "      <th>Pred aft pp &lt;=50K</th>\n",
       "      <th>Pred aft pp &gt;50K</th>\n",
       "    </tr>\n",
       "  </thead>\n",
       "  <tbody>\n",
       "    <tr>\n",
       "      <th>0</th>\n",
       "      <td>Female</td>\n",
       "      <td>2611</td>\n",
       "      <td>330</td>\n",
       "      <td>2605</td>\n",
       "      <td>336</td>\n",
       "      <td>2025</td>\n",
       "      <td>916</td>\n",
       "    </tr>\n",
       "    <tr>\n",
       "      <th>1</th>\n",
       "      <td>Male</td>\n",
       "      <td>4149</td>\n",
       "      <td>1959</td>\n",
       "      <td>3162</td>\n",
       "      <td>2946</td>\n",
       "      <td>3902</td>\n",
       "      <td>2206</td>\n",
       "    </tr>\n",
       "  </tbody>\n",
       "</table>\n",
       "</div>"
      ],
      "text/plain": [
       "   Gender  Original <=50K  Original >50K  Pred bf pp <=50K  Pred bf pp >50K  \\\n",
       "0  Female            2611            330              2605              336   \n",
       "1    Male            4149           1959              3162             2946   \n",
       "\n",
       "   Pred aft pp <=50K  Pred aft pp >50K  \n",
       "0               2025               916  \n",
       "1               3902              2206  "
      ]
     },
     "execution_count": 66,
     "metadata": {},
     "output_type": "execute_result"
    }
   ],
   "source": [
    "df_comparison_2 = pd.DataFrame({\n",
    "    'Gender': ['Female', 'Male'],\n",
    "    'Original <=50K': [income_gender_counts_test.loc[0, 0], income_gender_counts_test.loc[1, 0]],\n",
    "    'Original >50K': [income_gender_counts_test.loc[0, 1], income_gender_counts_test.loc[1, 1]],\n",
    "    'Pred bf pp <=50K': [income_gender_counts_test_pred.loc[0, 0], income_gender_counts_test_pred.loc[1, 0]],\n",
    "    'Pred bf pp >50K': [income_gender_counts_test_pred.loc[0, 1], income_gender_counts_test_pred.loc[1, 1]],\n",
    "    'Pred aft pp <=50K': [income_gender_counts_transf_test_pred.loc[0, 0], income_gender_counts_transf_test_pred.loc[1, 0]],\n",
    "    'Pred aft pp >50K': [income_gender_counts_transf_test_pred.loc[0, 1], income_gender_counts_transf_test_pred.loc[1, 1]]\n",
    "})\n",
    "df_comparison_2"
   ]
  },
  {
   "cell_type": "markdown",
   "metadata": {},
   "source": [
    "### Evaluation Metrics For Classification Model and Fairness"
   ]
  },
  {
   "cell_type": "code",
   "execution_count": 43,
   "metadata": {},
   "outputs": [
    {
     "data": {
      "image/png": "[encoded data removed]",
      "text/plain": [
       "<Figure size 1000x600 with 1 Axes>"
      ]
     },
     "metadata": {},
     "output_type": "display_data"
    }
   ],
   "source": [
    "plot_metrics(metric_cl_test_bef, metric_cl_test_aft)"
   ]
  },
  {
   "cell_type": "code",
   "execution_count": 44,
   "metadata": {},
   "outputs": [
    {
     "data": {
      "text/html": [
       "<div>\n",
       "<style scoped>\n",
       "    .dataframe tbody tr th:only-of-type {\n",
       "        vertical-align: middle;\n",
       "    }\n",
       "\n",
       "    .dataframe tbody tr th {\n",
       "        vertical-align: top;\n",
       "    }\n",
       "\n",
       "    .dataframe thead th {\n",
       "        text-align: right;\n",
       "    }\n",
       "</style>\n",
       "<table border=\"1\" class=\"dataframe\">\n",
       "  <thead>\n",
       "    <tr style=\"text-align: right;\">\n",
       "      <th></th>\n",
       "      <th>Metric</th>\n",
       "      <th>Before</th>\n",
       "      <th>After</th>\n",
       "      <th>Delta</th>\n",
       "    </tr>\n",
       "  </thead>\n",
       "  <tbody>\n",
       "    <tr>\n",
       "      <th>0</th>\n",
       "      <td>Accuracy</td>\n",
       "      <td>0.802520</td>\n",
       "      <td>0.790143</td>\n",
       "      <td>-0.01</td>\n",
       "    </tr>\n",
       "    <tr>\n",
       "      <th>1</th>\n",
       "      <td>Recall</td>\n",
       "      <td>0.826562</td>\n",
       "      <td>0.767147</td>\n",
       "      <td>-0.06</td>\n",
       "    </tr>\n",
       "    <tr>\n",
       "      <th>2</th>\n",
       "      <td>Precision</td>\n",
       "      <td>0.576478</td>\n",
       "      <td>0.562460</td>\n",
       "      <td>-0.01</td>\n",
       "    </tr>\n",
       "    <tr>\n",
       "      <th>3</th>\n",
       "      <td>Balanced accuracy</td>\n",
       "      <td>0.810470</td>\n",
       "      <td>0.782538</td>\n",
       "      <td>-0.03</td>\n",
       "    </tr>\n",
       "  </tbody>\n",
       "</table>\n",
       "</div>"
      ],
      "text/plain": [
       "              Metric    Before     After  Delta\n",
       "0           Accuracy  0.802520  0.790143  -0.01\n",
       "1             Recall  0.826562  0.767147  -0.06\n",
       "2          Precision  0.576478  0.562460  -0.01\n",
       "3  Balanced accuracy  0.810470  0.782538  -0.03"
      ]
     },
     "execution_count": 44,
     "metadata": {},
     "output_type": "execute_result"
    }
   ],
   "source": [
    "df_cl_metrics = pd.DataFrame({\n",
    "    'Metric': list(metric_cl_test_bef.keys()),\n",
    "    'Before': list(metric_cl_test_bef.values()),\n",
    "    'After': list(metric_cl_test_aft.values())\n",
    "})\n",
    "\n",
    "# Calculate the percentage change\n",
    "df_cl_metrics['Delta'] = (df_cl_metrics['After'] - df_cl_metrics['Before']).apply(lambda x: f\"{x:.2f}\")\n",
    "df_cl_metrics"
   ]
  },
  {
   "cell_type": "code",
   "execution_count": 45,
   "metadata": {},
   "outputs": [
    {
     "data": {
      "image/png": "[encoded data removed]",
      "text/plain": [
       "<Figure size 1000x600 with 1 Axes>"
      ]
     },
     "metadata": {},
     "output_type": "display_data"
    }
   ],
   "source": [
    "plot_fn_metrics(metric_fn_test_bef, metric_fn_test_aft)"
   ]
  },
  {
   "cell_type": "code",
   "execution_count": 46,
   "metadata": {},
   "outputs": [
    {
     "data": {
      "text/html": [
       "<div>\n",
       "<style scoped>\n",
       "    .dataframe tbody tr th:only-of-type {\n",
       "        vertical-align: middle;\n",
       "    }\n",
       "\n",
       "    .dataframe tbody tr th {\n",
       "        vertical-align: top;\n",
       "    }\n",
       "\n",
       "    .dataframe thead th {\n",
       "        text-align: right;\n",
       "    }\n",
       "</style>\n",
       "<table border=\"1\" class=\"dataframe\">\n",
       "  <thead>\n",
       "    <tr style=\"text-align: right;\">\n",
       "      <th></th>\n",
       "      <th>Metric</th>\n",
       "      <th>Before</th>\n",
       "      <th>After</th>\n",
       "      <th>Delta</th>\n",
       "    </tr>\n",
       "  </thead>\n",
       "  <tbody>\n",
       "    <tr>\n",
       "      <th>0</th>\n",
       "      <td>Statistical parity difference</td>\n",
       "      <td>-0.368071</td>\n",
       "      <td>-0.049707</td>\n",
       "      <td>+0.32</td>\n",
       "    </tr>\n",
       "    <tr>\n",
       "      <th>1</th>\n",
       "      <td>Average odds difference</td>\n",
       "      <td>-0.246608</td>\n",
       "      <td>0.110507</td>\n",
       "      <td>+0.36</td>\n",
       "    </tr>\n",
       "    <tr>\n",
       "      <th>2</th>\n",
       "      <td>Equal opportunity difference</td>\n",
       "      <td>-0.239942</td>\n",
       "      <td>0.165855</td>\n",
       "      <td>+0.41</td>\n",
       "    </tr>\n",
       "  </tbody>\n",
       "</table>\n",
       "</div>"
      ],
      "text/plain": [
       "                          Metric    Before     After  Delta\n",
       "0  Statistical parity difference -0.368071 -0.049707  +0.32\n",
       "1        Average odds difference -0.246608  0.110507  +0.36\n",
       "2   Equal opportunity difference -0.239942  0.165855  +0.41"
      ]
     },
     "execution_count": 46,
     "metadata": {},
     "output_type": "execute_result"
    }
   ],
   "source": [
    "df_metrics = pd.DataFrame({\n",
    "    'Metric': list(metric_fn_test_bef.keys()),\n",
    "    'Before': list(metric_fn_test_bef.values()),\n",
    "    'After': list(metric_fn_test_aft.values())\n",
    "})\n",
    "\n",
    "# Calculate the percentage change\n",
    "df_metrics['Delta'] = (df_metrics['After'] - df_metrics['Before']).apply(lambda x: f\"+{x:.2f}\")\n",
    "df_metrics"
   ]
  },
  {
   "cell_type": "markdown",
   "metadata": {},
   "source": [
    "## Association rules\n",
    "\n",
    "- Support: The proportion of transactions in the dataset where both antecedent and consequent are present.\n",
    "    - Measures how frequently a rule is observed in the dataset.\n",
    "- Confidence: The ratio of the number of times both antecedent and consequent occur together to the number of times the antecedent occurs.\n",
    "    - Represents how often the rule is true."
   ]
  },
  {
   "cell_type": "markdown",
   "metadata": {},
   "source": [
    "**FP-GROWTH**\n",
    "\n",
    "Compress a large database into a compact, Frequent-Pattern tree (FP-tree) structure.\n",
    "\n",
    "Datasets are encoded using a compact structure, the FP-tree.\n",
    "\n",
    "Frequent itemsets are extracted directly from the FP-tree.\n",
    "\n",
    "***GOAL*** To avoid candidate generation (computationally expensive)\n",
    "\n",
    "Main steps:\n",
    "\n",
    "    1. Construct the frequent pattern tree\n",
    "    2. For each frequent item: compute the projected FP-tree\n",
    "    3. Mine conditional FP-trees and grow frequent patterns\n",
    "    4. If the conditional FP-tree contains a single path: enumerate all the patterns\n"
   ]
  },
  {
   "cell_type": "code",
   "execution_count": 47,
   "metadata": {},
   "outputs": [],
   "source": [
    "def prepare_dataset_asso_rules(dataset_to_prepare): \n",
    "    # Convert the dataset to a DataFrame\n",
    "    pd_converted = dataset_to_prepare.convert_to_dataframe()[0]\n",
    "\n",
    "    # Education number from 0 to 5 are put in '<6' and those above 13 into '>12'\n",
    "    pd_converted['education.num'] = pd_converted['education.num'].apply(lambda x: group_edu(x))\n",
    "    pd_converted['education.num'] = pd_converted['education.num'].astype(str)\n",
    "    # Group age by decade\n",
    "    pd_converted['Age (decade)'] = pd_converted['age'].apply(lambda x: x//10*10)\n",
    "    pd_converted = pd_converted.drop(columns='age')\n",
    "    # Group hours per week\n",
    "    pd_converted['hours.per.week'] = pd_converted['hours.per.week'].apply(lambda x: '>40' if x > 40 else '<=40')\n",
    "\n",
    "\n",
    "\n",
    "    # Capital gain is splitted into two columns capital.gain>0 and capital.gain=0\n",
    "    pd_converted['capital.gain>0'] = pd_converted['capital.gain'].apply(lambda x: 1 if x > 0 else 0)\n",
    "    pd_converted['capital.gain=0'] = pd_converted['capital.gain'].apply(lambda x: 1 if x == 0 else 0)\n",
    "    pd_converted.drop(columns='capital.gain', inplace=True)\n",
    "\n",
    "    # Capital loss is splitted into two columns capital.loss>0 and capital.loss=0\n",
    "    pd_converted['capital.loss>0'] = pd_converted['capital.loss'].apply(lambda x: 1 if x > 0 else 0)\n",
    "    pd_converted['capital.loss=0'] = pd_converted['capital.loss'].apply(lambda x: 1 if x == 0 else 0)\n",
    "    pd_converted.drop(columns='capital.loss', inplace=True)\n",
    "\n",
    "\n",
    "    pd_converted['male'] = pd_converted['sex'].apply(lambda x: 1 if x == 1 else 0)\n",
    "    pd_converted['female'] = pd_converted['sex'].apply(lambda x: 1 if x == 0 else 0)\n",
    "    pd_converted.drop(columns='sex', inplace=True) \n",
    "\n",
    "    # Process 'race' column\n",
    "    pd_converted['white'] = pd_converted['race'].apply(lambda x: 1 if x == 1 else 0)\n",
    "    pd_converted['n_white'] = pd_converted['race'].apply(lambda x: 1 if x == 0 else 0)\n",
    "    pd_converted.drop(columns='race', inplace=True)\n",
    "\n",
    "    # Process 'income' column\n",
    "    pd_converted['>50K'] = pd_converted['income'].apply(lambda x: 1 if x == 1 else 0)\n",
    "    pd_converted['<50K'] = pd_converted['income'].apply(lambda x: 1 if x == 0 else 0)\n",
    "    pd_converted.drop(columns='income', inplace=True)\n",
    "\n",
    "    # 1 if married, 0 otherwise\n",
    "    pd_converted['married'] = pd_converted['marital.status'].apply(lambda x: 1 if x == 1 else 0)\n",
    "    pd_converted['n_married'] = pd_converted['marital.status'].apply(lambda x: 1 if x == 0 else 0)\n",
    "    pd_converted.drop(columns='marital.status', inplace=True)\n",
    "\n",
    "    # United-States is 1 all the other countries are 0\n",
    "    pd_converted['UnitedStates'] = pd_converted['native.country'].apply(lambda x: 1 if x == 1 else 0)\n",
    "    pd_converted['n_UnitedStates'] = pd_converted['native.country'].apply(lambda x: 1 if x == 0 else 0)\n",
    "    pd_converted.drop(columns='native.country', inplace=True)\n",
    "    pd_converted.drop(columns=['capital.loss>0', 'capital.loss=0', 'capital.gain>0', 'capital.gain=0'], inplace=True)\n",
    "    pd_converted.drop(columns=['hours.per.week'], inplace=True)\n",
    "\n",
    "    return pd_converted"
   ]
  },
  {
   "cell_type": "code",
   "execution_count": 48,
   "metadata": {},
   "outputs": [],
   "source": [
    " \n",
    "def compute_income_rules(dataset, min_support, min_confidence):\n",
    "    data_asso_rules = prepare_dataset_asso_rules(dataset)\n",
    "    data_asso_rules = pd.get_dummies(data_asso_rules,columns=['education.num','Age (decade)'],drop_first=False)\n",
    "\n",
    "    # Create a binary representation of transactions\n",
    "    df_transactions = data_asso_rules.map(lambda x: True if x > 0 else False)\n",
    "\n",
    "    # Apply FP-growth algorithm to find frequent itemsets\n",
    "    frequent_itemsets = fpgrowth(df_transactions, min_support=min_support, use_colnames=True)\n",
    "\n",
    "    # Extract association rules with min confidence\n",
    "    res = association_rules(frequent_itemsets, metric=\"confidence\", min_threshold=min_confidence)\n",
    "\n",
    "    res.to_csv('association_rules.csv')\n",
    "    # Filter rules with consequents '<=50K' and '>50K'\n",
    "    res_min50 = res[res['consequents'] == {'<50K'}]\n",
    "    res_max50 = res[res['consequents'] == {'>50K'}]\n",
    "\n",
    "    return res_min50, res_max50\n"
   ]
  },
  {
   "cell_type": "code",
   "execution_count": 49,
   "metadata": {},
   "outputs": [],
   "source": [
    " \n",
    "def compute_df_transactions(dataset):\n",
    "    data_asso_rules = prepare_dataset_asso_rules(dataset)\n",
    "    data_asso_rules = pd.get_dummies(data_asso_rules,columns=['education.num','Age (decade)'],drop_first=False)\n",
    "\n",
    "    # Create a binary representation of transactions\n",
    "    df_transactions = data_asso_rules.map(lambda x: True if x > 0 else False)\n",
    "    return df_transactions\n"
   ]
  },
  {
   "cell_type": "code",
   "execution_count": 50,
   "metadata": {},
   "outputs": [],
   "source": [
    "res_min50_bd, res_max50_bd = compute_income_rules(binary_dataset, user_min_support, user_min_confidence)"
   ]
  },
  {
   "cell_type": "code",
   "execution_count": 51,
   "metadata": {},
   "outputs": [],
   "source": [
    "# # quick check with apriori\n",
    "# a_rules = apriori(df_transactions, min_support = 0.2, use_colnames = True)\n",
    "# res_a = association_rules(a_rules, metric=\"confidence\", min_threshold=0.5)\n",
    "# res_a_min50 = res_a[res_a['consequents'] == {'<50K'}]\n",
    "# res_a_min50.sort_values(\"confidence\", ascending = False)\n",
    "# res_a_min50.to_csv('association_rules_ap.csv')"
   ]
  },
  {
   "cell_type": "code",
   "execution_count": 52,
   "metadata": {},
   "outputs": [
    {
     "data": {
      "text/html": [
       "<div>\n",
       "<style scoped>\n",
       "    .dataframe tbody tr th:only-of-type {\n",
       "        vertical-align: middle;\n",
       "    }\n",
       "\n",
       "    .dataframe tbody tr th {\n",
       "        vertical-align: top;\n",
       "    }\n",
       "\n",
       "    .dataframe thead th {\n",
       "        text-align: right;\n",
       "    }\n",
       "</style>\n",
       "<table border=\"1\" class=\"dataframe\">\n",
       "  <thead>\n",
       "    <tr style=\"text-align: right;\">\n",
       "      <th></th>\n",
       "      <th>antecedents</th>\n",
       "      <th>consequents</th>\n",
       "      <th>antecedent support</th>\n",
       "      <th>consequent support</th>\n",
       "      <th>support</th>\n",
       "      <th>confidence</th>\n",
       "      <th>lift</th>\n",
       "      <th>leverage</th>\n",
       "      <th>conviction</th>\n",
       "      <th>zhangs_metric</th>\n",
       "    </tr>\n",
       "  </thead>\n",
       "  <tbody>\n",
       "  </tbody>\n",
       "</table>\n",
       "</div>"
      ],
      "text/plain": [
       "Empty DataFrame\n",
       "Columns: [antecedents, consequents, antecedent support, consequent support, support, confidence, lift, leverage, conviction, zhangs_metric]\n",
       "Index: []"
      ]
     },
     "execution_count": 52,
     "metadata": {},
     "output_type": "execute_result"
    }
   ],
   "source": [
    "# 4 rules show up only with support > 0.1 and confidence > 0.5\n",
    "res_max50_bd.sort_values(\"confidence\", ascending=False)"
   ]
  },
  {
   "cell_type": "code",
   "execution_count": 53,
   "metadata": {},
   "outputs": [
    {
     "data": {
      "text/html": [
       "<div>\n",
       "<style scoped>\n",
       "    .dataframe tbody tr th:only-of-type {\n",
       "        vertical-align: middle;\n",
       "    }\n",
       "\n",
       "    .dataframe tbody tr th {\n",
       "        vertical-align: top;\n",
       "    }\n",
       "\n",
       "    .dataframe thead th {\n",
       "        text-align: right;\n",
       "    }\n",
       "</style>\n",
       "<table border=\"1\" class=\"dataframe\">\n",
       "  <thead>\n",
       "    <tr style=\"text-align: right;\">\n",
       "      <th></th>\n",
       "      <th>antecedents</th>\n",
       "      <th>consequents</th>\n",
       "      <th>support</th>\n",
       "      <th>confidence</th>\n",
       "    </tr>\n",
       "  </thead>\n",
       "  <tbody>\n",
       "    <tr>\n",
       "      <th>50</th>\n",
       "      <td>(female, n_married)</td>\n",
       "      <td>(&lt;50K)</td>\n",
       "      <td>0.255487</td>\n",
       "      <td>0.951241</td>\n",
       "    </tr>\n",
       "    <tr>\n",
       "      <th>54</th>\n",
       "      <td>(female, UnitedStates, n_married)</td>\n",
       "      <td>(&lt;50K)</td>\n",
       "      <td>0.235926</td>\n",
       "      <td>0.950574</td>\n",
       "    </tr>\n",
       "    <tr>\n",
       "      <th>68</th>\n",
       "      <td>(female, white, n_married)</td>\n",
       "      <td>(&lt;50K)</td>\n",
       "      <td>0.204927</td>\n",
       "      <td>0.947861</td>\n",
       "    </tr>\n",
       "    <tr>\n",
       "      <th>101</th>\n",
       "      <td>(Age (decade)_20.0)</td>\n",
       "      <td>(&lt;50K)</td>\n",
       "      <td>0.229494</td>\n",
       "      <td>0.933513</td>\n",
       "    </tr>\n",
       "    <tr>\n",
       "      <th>6</th>\n",
       "      <td>(n_married)</td>\n",
       "      <td>(&lt;50K)</td>\n",
       "      <td>0.485313</td>\n",
       "      <td>0.932001</td>\n",
       "    </tr>\n",
       "    <tr>\n",
       "      <th>104</th>\n",
       "      <td>(Age (decade)_20.0, UnitedStates)</td>\n",
       "      <td>(&lt;50K)</td>\n",
       "      <td>0.205590</td>\n",
       "      <td>0.931641</td>\n",
       "    </tr>\n",
       "    <tr>\n",
       "      <th>9</th>\n",
       "      <td>(UnitedStates, n_married)</td>\n",
       "      <td>(&lt;50K)</td>\n",
       "      <td>0.445958</td>\n",
       "      <td>0.930736</td>\n",
       "    </tr>\n",
       "    <tr>\n",
       "      <th>14</th>\n",
       "      <td>(white, n_married)</td>\n",
       "      <td>(&lt;50K)</td>\n",
       "      <td>0.399509</td>\n",
       "      <td>0.927208</td>\n",
       "    </tr>\n",
       "    <tr>\n",
       "      <th>16</th>\n",
       "      <td>(UnitedStates, white, n_married)</td>\n",
       "      <td>(&lt;50K)</td>\n",
       "      <td>0.373284</td>\n",
       "      <td>0.925828</td>\n",
       "    </tr>\n",
       "    <tr>\n",
       "      <th>21</th>\n",
       "      <td>(male, n_married)</td>\n",
       "      <td>(&lt;50K)</td>\n",
       "      <td>0.229826</td>\n",
       "      <td>0.911506</td>\n",
       "    </tr>\n",
       "    <tr>\n",
       "      <th>23</th>\n",
       "      <td>(male, UnitedStates, n_married)</td>\n",
       "      <td>(&lt;50K)</td>\n",
       "      <td>0.210032</td>\n",
       "      <td>0.909417</td>\n",
       "    </tr>\n",
       "    <tr>\n",
       "      <th>43</th>\n",
       "      <td>(female)</td>\n",
       "      <td>(&lt;50K)</td>\n",
       "      <td>0.287448</td>\n",
       "      <td>0.886322</td>\n",
       "    </tr>\n",
       "    <tr>\n",
       "      <th>46</th>\n",
       "      <td>(female, UnitedStates)</td>\n",
       "      <td>(&lt;50K)</td>\n",
       "      <td>0.262184</td>\n",
       "      <td>0.885356</td>\n",
       "    </tr>\n",
       "    <tr>\n",
       "      <th>60</th>\n",
       "      <td>(female, white)</td>\n",
       "      <td>(&lt;50K)</td>\n",
       "      <td>0.229560</td>\n",
       "      <td>0.877011</td>\n",
       "    </tr>\n",
       "    <tr>\n",
       "      <th>63</th>\n",
       "      <td>(female, UnitedStates, white)</td>\n",
       "      <td>(&lt;50K)</td>\n",
       "      <td>0.213845</td>\n",
       "      <td>0.875170</td>\n",
       "    </tr>\n",
       "    <tr>\n",
       "      <th>30</th>\n",
       "      <td>(education.num_9.0)</td>\n",
       "      <td>(&lt;50K)</td>\n",
       "      <td>0.272628</td>\n",
       "      <td>0.835671</td>\n",
       "    </tr>\n",
       "    <tr>\n",
       "      <th>34</th>\n",
       "      <td>(education.num_9.0, UnitedStates)</td>\n",
       "      <td>(&lt;50K)</td>\n",
       "      <td>0.254227</td>\n",
       "      <td>0.832664</td>\n",
       "    </tr>\n",
       "    <tr>\n",
       "      <th>36</th>\n",
       "      <td>(education.num_9.0, white)</td>\n",
       "      <td>(&lt;50K)</td>\n",
       "      <td>0.229196</td>\n",
       "      <td>0.822878</td>\n",
       "    </tr>\n",
       "    <tr>\n",
       "      <th>38</th>\n",
       "      <td>(education.num_9.0, UnitedStates, white)</td>\n",
       "      <td>(&lt;50K)</td>\n",
       "      <td>0.217161</td>\n",
       "      <td>0.820391</td>\n",
       "    </tr>\n",
       "  </tbody>\n",
       "</table>\n",
       "</div>"
      ],
      "text/plain": [
       "                                  antecedents consequents   support  \\\n",
       "50                        (female, n_married)      (<50K)  0.255487   \n",
       "54          (female, UnitedStates, n_married)      (<50K)  0.235926   \n",
       "68                 (female, white, n_married)      (<50K)  0.204927   \n",
       "101                       (Age (decade)_20.0)      (<50K)  0.229494   \n",
       "6                                 (n_married)      (<50K)  0.485313   \n",
       "104         (Age (decade)_20.0, UnitedStates)      (<50K)  0.205590   \n",
       "9                   (UnitedStates, n_married)      (<50K)  0.445958   \n",
       "14                         (white, n_married)      (<50K)  0.399509   \n",
       "16           (UnitedStates, white, n_married)      (<50K)  0.373284   \n",
       "21                          (male, n_married)      (<50K)  0.229826   \n",
       "23            (male, UnitedStates, n_married)      (<50K)  0.210032   \n",
       "43                                   (female)      (<50K)  0.287448   \n",
       "46                     (female, UnitedStates)      (<50K)  0.262184   \n",
       "60                            (female, white)      (<50K)  0.229560   \n",
       "63              (female, UnitedStates, white)      (<50K)  0.213845   \n",
       "30                        (education.num_9.0)      (<50K)  0.272628   \n",
       "34          (education.num_9.0, UnitedStates)      (<50K)  0.254227   \n",
       "36                 (education.num_9.0, white)      (<50K)  0.229196   \n",
       "38   (education.num_9.0, UnitedStates, white)      (<50K)  0.217161   \n",
       "\n",
       "     confidence  \n",
       "50     0.951241  \n",
       "54     0.950574  \n",
       "68     0.947861  \n",
       "101    0.933513  \n",
       "6      0.932001  \n",
       "104    0.931641  \n",
       "9      0.930736  \n",
       "14     0.927208  \n",
       "16     0.925828  \n",
       "21     0.911506  \n",
       "23     0.909417  \n",
       "43     0.886322  \n",
       "46     0.885356  \n",
       "60     0.877011  \n",
       "63     0.875170  \n",
       "30     0.835671  \n",
       "34     0.832664  \n",
       "36     0.822878  \n",
       "38     0.820391  "
      ]
     },
     "execution_count": 53,
     "metadata": {},
     "output_type": "execute_result"
    }
   ],
   "source": [
    "res_min50_bd[['antecedents', 'consequents', 'support', 'confidence']].sort_values(\"confidence\", ascending=False)"
   ]
  },
  {
   "cell_type": "markdown",
   "metadata": {},
   "source": [
    "### Test predicions rules matching"
   ]
  },
  {
   "cell_type": "code",
   "execution_count": 54,
   "metadata": {},
   "outputs": [],
   "source": [
    "df_transactions_test_pred = compute_df_transactions(dataset_orig_test)"
   ]
  },
  {
   "cell_type": "code",
   "execution_count": 55,
   "metadata": {},
   "outputs": [
    {
     "data": {
      "text/html": [
       "<div>\n",
       "<style scoped>\n",
       "    .dataframe tbody tr th:only-of-type {\n",
       "        vertical-align: middle;\n",
       "    }\n",
       "\n",
       "    .dataframe tbody tr th {\n",
       "        vertical-align: top;\n",
       "    }\n",
       "\n",
       "    .dataframe thead th {\n",
       "        text-align: right;\n",
       "    }\n",
       "</style>\n",
       "<table border=\"1\" class=\"dataframe\">\n",
       "  <thead>\n",
       "    <tr style=\"text-align: right;\">\n",
       "      <th></th>\n",
       "      <th>Rule</th>\n",
       "      <th>Number of conseq matching before pp</th>\n",
       "      <th>Respecting the rule before pp</th>\n",
       "    </tr>\n",
       "  </thead>\n",
       "  <tbody>\n",
       "    <tr>\n",
       "      <th>0</th>\n",
       "      <td>{'n_married'} -&gt; {'&lt;50K'}</td>\n",
       "      <td>4413</td>\n",
       "      <td>93.3%</td>\n",
       "    </tr>\n",
       "    <tr>\n",
       "      <th>1</th>\n",
       "      <td>{'UnitedStates', 'n_married'} -&gt; {'&lt;50K'}</td>\n",
       "      <td>4073</td>\n",
       "      <td>93.14%</td>\n",
       "    </tr>\n",
       "    <tr>\n",
       "      <th>2</th>\n",
       "      <td>{'white', 'n_married'} -&gt; {'&lt;50K'}</td>\n",
       "      <td>3651</td>\n",
       "      <td>92.76%</td>\n",
       "    </tr>\n",
       "    <tr>\n",
       "      <th>3</th>\n",
       "      <td>{'UnitedStates', 'white', 'n_married'} -&gt; {'&lt;5...</td>\n",
       "      <td>3427</td>\n",
       "      <td>92.6%</td>\n",
       "    </tr>\n",
       "    <tr>\n",
       "      <th>4</th>\n",
       "      <td>{'male', 'n_married'} -&gt; {'&lt;50K'}</td>\n",
       "      <td>2073</td>\n",
       "      <td>91.0%</td>\n",
       "    </tr>\n",
       "    <tr>\n",
       "      <th>5</th>\n",
       "      <td>{'male', 'UnitedStates', 'n_married'} -&gt; {'&lt;50K'}</td>\n",
       "      <td>1893</td>\n",
       "      <td>90.66%</td>\n",
       "    </tr>\n",
       "    <tr>\n",
       "      <th>6</th>\n",
       "      <td>{'education.num_9.0'} -&gt; {'&lt;50K'}</td>\n",
       "      <td>2513</td>\n",
       "      <td>83.71%</td>\n",
       "    </tr>\n",
       "    <tr>\n",
       "      <th>7</th>\n",
       "      <td>{'education.num_9.0', 'UnitedStates'} -&gt; {'&lt;50K'}</td>\n",
       "      <td>2335</td>\n",
       "      <td>83.36%</td>\n",
       "    </tr>\n",
       "    <tr>\n",
       "      <th>8</th>\n",
       "      <td>{'education.num_9.0', 'white'} -&gt; {'&lt;50K'}</td>\n",
       "      <td>2090</td>\n",
       "      <td>82.32%</td>\n",
       "    </tr>\n",
       "    <tr>\n",
       "      <th>9</th>\n",
       "      <td>{'education.num_9.0', 'UnitedStates', 'white'}...</td>\n",
       "      <td>1970</td>\n",
       "      <td>81.95%</td>\n",
       "    </tr>\n",
       "    <tr>\n",
       "      <th>10</th>\n",
       "      <td>{'female'} -&gt; {'&lt;50K'}</td>\n",
       "      <td>2611</td>\n",
       "      <td>88.78%</td>\n",
       "    </tr>\n",
       "    <tr>\n",
       "      <th>11</th>\n",
       "      <td>{'female', 'UnitedStates'} -&gt; {'&lt;50K'}</td>\n",
       "      <td>2404</td>\n",
       "      <td>88.77%</td>\n",
       "    </tr>\n",
       "    <tr>\n",
       "      <th>12</th>\n",
       "      <td>{'female', 'n_married'} -&gt; {'&lt;50K'}</td>\n",
       "      <td>2340</td>\n",
       "      <td>95.43%</td>\n",
       "    </tr>\n",
       "    <tr>\n",
       "      <th>13</th>\n",
       "      <td>{'female', 'UnitedStates', 'n_married'} -&gt; {'&lt;...</td>\n",
       "      <td>2180</td>\n",
       "      <td>95.4%</td>\n",
       "    </tr>\n",
       "    <tr>\n",
       "      <th>14</th>\n",
       "      <td>{'female', 'white'} -&gt; {'&lt;50K'}</td>\n",
       "      <td>2087</td>\n",
       "      <td>87.62%</td>\n",
       "    </tr>\n",
       "    <tr>\n",
       "      <th>15</th>\n",
       "      <td>{'female', 'UnitedStates', 'white'} -&gt; {'&lt;50K'}</td>\n",
       "      <td>1963</td>\n",
       "      <td>87.44%</td>\n",
       "    </tr>\n",
       "    <tr>\n",
       "      <th>16</th>\n",
       "      <td>{'female', 'white', 'n_married'} -&gt; {'&lt;50K'}</td>\n",
       "      <td>1890</td>\n",
       "      <td>94.83%</td>\n",
       "    </tr>\n",
       "    <tr>\n",
       "      <th>17</th>\n",
       "      <td>{'Age (decade)_20.0'} -&gt; {'&lt;50K'}</td>\n",
       "      <td>2055</td>\n",
       "      <td>92.65%</td>\n",
       "    </tr>\n",
       "    <tr>\n",
       "      <th>18</th>\n",
       "      <td>{'Age (decade)_20.0', 'UnitedStates'} -&gt; {'&lt;50K'}</td>\n",
       "      <td>1840</td>\n",
       "      <td>92.46%</td>\n",
       "    </tr>\n",
       "  </tbody>\n",
       "</table>\n",
       "</div>"
      ],
      "text/plain": [
       "                                                 Rule  \\\n",
       "0                           {'n_married'} -> {'<50K'}   \n",
       "1           {'UnitedStates', 'n_married'} -> {'<50K'}   \n",
       "2                  {'white', 'n_married'} -> {'<50K'}   \n",
       "3   {'UnitedStates', 'white', 'n_married'} -> {'<5...   \n",
       "4                   {'male', 'n_married'} -> {'<50K'}   \n",
       "5   {'male', 'UnitedStates', 'n_married'} -> {'<50K'}   \n",
       "6                   {'education.num_9.0'} -> {'<50K'}   \n",
       "7   {'education.num_9.0', 'UnitedStates'} -> {'<50K'}   \n",
       "8          {'education.num_9.0', 'white'} -> {'<50K'}   \n",
       "9   {'education.num_9.0', 'UnitedStates', 'white'}...   \n",
       "10                             {'female'} -> {'<50K'}   \n",
       "11             {'female', 'UnitedStates'} -> {'<50K'}   \n",
       "12                {'female', 'n_married'} -> {'<50K'}   \n",
       "13  {'female', 'UnitedStates', 'n_married'} -> {'<...   \n",
       "14                    {'female', 'white'} -> {'<50K'}   \n",
       "15    {'female', 'UnitedStates', 'white'} -> {'<50K'}   \n",
       "16       {'female', 'white', 'n_married'} -> {'<50K'}   \n",
       "17                  {'Age (decade)_20.0'} -> {'<50K'}   \n",
       "18  {'Age (decade)_20.0', 'UnitedStates'} -> {'<50K'}   \n",
       "\n",
       "    Number of conseq matching before pp Respecting the rule before pp  \n",
       "0                                  4413                         93.3%  \n",
       "1                                  4073                        93.14%  \n",
       "2                                  3651                        92.76%  \n",
       "3                                  3427                         92.6%  \n",
       "4                                  2073                         91.0%  \n",
       "5                                  1893                        90.66%  \n",
       "6                                  2513                        83.71%  \n",
       "7                                  2335                        83.36%  \n",
       "8                                  2090                        82.32%  \n",
       "9                                  1970                        81.95%  \n",
       "10                                 2611                        88.78%  \n",
       "11                                 2404                        88.77%  \n",
       "12                                 2340                        95.43%  \n",
       "13                                 2180                         95.4%  \n",
       "14                                 2087                        87.62%  \n",
       "15                                 1963                        87.44%  \n",
       "16                                 1890                        94.83%  \n",
       "17                                 2055                        92.65%  \n",
       "18                                 1840                        92.46%  "
      ]
     },
     "metadata": {},
     "output_type": "display_data"
    }
   ],
   "source": [
    "results_before_roc = []\n",
    "\n",
    "# for each association rule, check how many rows of dataset_transf_test_pred met it\n",
    "for index, rule in res_min50_bd.iterrows():\n",
    "    antecedents = list(rule['antecedents'])\n",
    "    matching_rows = df_transactions_test_pred.copy()\n",
    "    for antecedent in antecedents:\n",
    "        matching_rows = matching_rows[matching_rows[antecedent] == True]\n",
    "    \n",
    "    consequent = list(rule['consequents'])[0]\n",
    "    consequent_met = matching_rows[matching_rows[consequent] == True]\n",
    "    \n",
    "    total_matching = len(matching_rows)\n",
    "    total_consequent_met = len(consequent_met)\n",
    "    \n",
    "    rule_result = {\n",
    "        'Rule': f\"{set(rule['antecedents'])} -> {set(rule['consequents'])}\".replace(\"frozenset({\", \"\").replace(\"})\", \"\"),\n",
    "        'Number of conseq matching before pp': total_consequent_met,\n",
    "        'Respecting the rule before pp': f\"{round(total_consequent_met / total_matching * 100, 2)}%\" if total_matching > 0 else \"0%\",\n",
    "    }\n",
    "    \n",
    "    results_before_roc.append(rule_result)\n",
    "\n",
    "# Create a DataFrame to display the results\n",
    "results_bf_roc_df = pd.DataFrame(results_before_roc)\n",
    "display(results_bf_roc_df)"
   ]
  },
  {
   "cell_type": "code",
   "execution_count": 56,
   "metadata": {},
   "outputs": [
    {
     "name": "stdout",
     "output_type": "stream",
     "text": [
      "Percentage of different labels: 14.59%\n"
     ]
    },
    {
     "name": "stderr",
     "output_type": "stream",
     "text": [
      "/tmp/ipykernel_7037/3626160822.py:14: FutureWarning: \n",
      "\n",
      "Passing `palette` without assigning `hue` is deprecated and will be removed in v0.14.0. Assign the `x` variable to `hue` and set `legend=False` for the same effect.\n",
      "\n",
      "  sns.countplot(x=label_diff, palette='viridis')\n"
     ]
    },
    {
     "data": {
      "image/png": "[encoded data removed]",
      "text/plain": [
       "<Figure size 600x400 with 1 Axes>"
      ]
     },
     "metadata": {},
     "output_type": "display_data"
    }
   ],
   "source": [
    "# Convert datasets to DataFrames\n",
    "df_orig_test_pred = dataset_orig_test_pred.convert_to_dataframe()[0]\n",
    "df_transf_test_pred = dataset_transf_test_pred.convert_to_dataframe()[0]\n",
    "\n",
    "# Compare the labels\n",
    "label_diff = df_orig_test_pred['income'] != df_transf_test_pred['income']\n",
    "\n",
    "# Calculate the percentage of different labels\n",
    "diff_percentage = label_diff.mean() * 100\n",
    "print(f\"Percentage of different labels: {diff_percentage:.2f}%\")\n",
    "\n",
    "# Visualize the differences\n",
    "plt.figure(figsize=(6, 4))\n",
    "sns.countplot(x=label_diff, palette='viridis')\n",
    "plt.xlabel('Labels Different')\n",
    "plt.ylabel('Count')\n",
    "plt.title('Comparison of Labels Between Original and Transformed Predictions')\n",
    "plt.xticks([0, 1], labels=['Same', 'Different'])\n",
    "plt.show()"
   ]
  },
  {
   "cell_type": "markdown",
   "metadata": {},
   "source": [
    "### Post ROC rules matching"
   ]
  },
  {
   "cell_type": "code",
   "execution_count": 57,
   "metadata": {},
   "outputs": [],
   "source": [
    "df_transactions_roc = compute_df_transactions(dataset_transf_test_pred)\n"
   ]
  },
  {
   "cell_type": "code",
   "execution_count": 58,
   "metadata": {},
   "outputs": [
    {
     "data": {
      "text/html": [
       "<div>\n",
       "<style scoped>\n",
       "    .dataframe tbody tr th:only-of-type {\n",
       "        vertical-align: middle;\n",
       "    }\n",
       "\n",
       "    .dataframe tbody tr th {\n",
       "        vertical-align: top;\n",
       "    }\n",
       "\n",
       "    .dataframe thead th {\n",
       "        text-align: right;\n",
       "    }\n",
       "</style>\n",
       "<table border=\"1\" class=\"dataframe\">\n",
       "  <thead>\n",
       "    <tr style=\"text-align: right;\">\n",
       "      <th></th>\n",
       "      <th>Rule</th>\n",
       "      <th>Number of conseq matching after pp</th>\n",
       "      <th>Respecting the rule after pp</th>\n",
       "    </tr>\n",
       "  </thead>\n",
       "  <tbody>\n",
       "    <tr>\n",
       "      <th>0</th>\n",
       "      <td>{'n_married'} -&gt; {'&lt;50K'}</td>\n",
       "      <td>4141</td>\n",
       "      <td>87.55%</td>\n",
       "    </tr>\n",
       "    <tr>\n",
       "      <th>1</th>\n",
       "      <td>{'UnitedStates', 'n_married'} -&gt; {'&lt;50K'}</td>\n",
       "      <td>3817</td>\n",
       "      <td>87.29%</td>\n",
       "    </tr>\n",
       "    <tr>\n",
       "      <th>2</th>\n",
       "      <td>{'white', 'n_married'} -&gt; {'&lt;50K'}</td>\n",
       "      <td>3427</td>\n",
       "      <td>87.07%</td>\n",
       "    </tr>\n",
       "    <tr>\n",
       "      <th>3</th>\n",
       "      <td>{'UnitedStates', 'white', 'n_married'} -&gt; {'&lt;5...</td>\n",
       "      <td>3212</td>\n",
       "      <td>86.79%</td>\n",
       "    </tr>\n",
       "    <tr>\n",
       "      <th>4</th>\n",
       "      <td>{'male', 'n_married'} -&gt; {'&lt;50K'}</td>\n",
       "      <td>2150</td>\n",
       "      <td>94.38%</td>\n",
       "    </tr>\n",
       "    <tr>\n",
       "      <th>5</th>\n",
       "      <td>{'male', 'UnitedStates', 'n_married'} -&gt; {'&lt;50K'}</td>\n",
       "      <td>1967</td>\n",
       "      <td>94.2%</td>\n",
       "    </tr>\n",
       "    <tr>\n",
       "      <th>6</th>\n",
       "      <td>{'education.num_9.0'} -&gt; {'&lt;50K'}</td>\n",
       "      <td>2502</td>\n",
       "      <td>83.34%</td>\n",
       "    </tr>\n",
       "    <tr>\n",
       "      <th>7</th>\n",
       "      <td>{'education.num_9.0', 'UnitedStates'} -&gt; {'&lt;50K'}</td>\n",
       "      <td>2326</td>\n",
       "      <td>83.04%</td>\n",
       "    </tr>\n",
       "    <tr>\n",
       "      <th>8</th>\n",
       "      <td>{'education.num_9.0', 'white'} -&gt; {'&lt;50K'}</td>\n",
       "      <td>2104</td>\n",
       "      <td>82.87%</td>\n",
       "    </tr>\n",
       "    <tr>\n",
       "      <th>9</th>\n",
       "      <td>{'education.num_9.0', 'UnitedStates', 'white'}...</td>\n",
       "      <td>1981</td>\n",
       "      <td>82.4%</td>\n",
       "    </tr>\n",
       "    <tr>\n",
       "      <th>10</th>\n",
       "      <td>{'female'} -&gt; {'&lt;50K'}</td>\n",
       "      <td>2025</td>\n",
       "      <td>68.85%</td>\n",
       "    </tr>\n",
       "    <tr>\n",
       "      <th>11</th>\n",
       "      <td>{'female', 'UnitedStates'} -&gt; {'&lt;50K'}</td>\n",
       "      <td>1872</td>\n",
       "      <td>69.13%</td>\n",
       "    </tr>\n",
       "    <tr>\n",
       "      <th>12</th>\n",
       "      <td>{'female', 'n_married'} -&gt; {'&lt;50K'}</td>\n",
       "      <td>1991</td>\n",
       "      <td>81.2%</td>\n",
       "    </tr>\n",
       "    <tr>\n",
       "      <th>13</th>\n",
       "      <td>{'female', 'UnitedStates', 'n_married'} -&gt; {'&lt;...</td>\n",
       "      <td>1850</td>\n",
       "      <td>80.96%</td>\n",
       "    </tr>\n",
       "    <tr>\n",
       "      <th>14</th>\n",
       "      <td>{'female', 'white'} -&gt; {'&lt;50K'}</td>\n",
       "      <td>1619</td>\n",
       "      <td>67.97%</td>\n",
       "    </tr>\n",
       "    <tr>\n",
       "      <th>15</th>\n",
       "      <td>{'female', 'UnitedStates', 'white'} -&gt; {'&lt;50K'}</td>\n",
       "      <td>1522</td>\n",
       "      <td>67.8%</td>\n",
       "    </tr>\n",
       "    <tr>\n",
       "      <th>16</th>\n",
       "      <td>{'female', 'white', 'n_married'} -&gt; {'&lt;50K'}</td>\n",
       "      <td>1596</td>\n",
       "      <td>80.08%</td>\n",
       "    </tr>\n",
       "    <tr>\n",
       "      <th>17</th>\n",
       "      <td>{'Age (decade)_20.0'} -&gt; {'&lt;50K'}</td>\n",
       "      <td>2006</td>\n",
       "      <td>90.44%</td>\n",
       "    </tr>\n",
       "    <tr>\n",
       "      <th>18</th>\n",
       "      <td>{'Age (decade)_20.0', 'UnitedStates'} -&gt; {'&lt;50K'}</td>\n",
       "      <td>1804</td>\n",
       "      <td>90.65%</td>\n",
       "    </tr>\n",
       "  </tbody>\n",
       "</table>\n",
       "</div>"
      ],
      "text/plain": [
       "                                                 Rule  \\\n",
       "0                           {'n_married'} -> {'<50K'}   \n",
       "1           {'UnitedStates', 'n_married'} -> {'<50K'}   \n",
       "2                  {'white', 'n_married'} -> {'<50K'}   \n",
       "3   {'UnitedStates', 'white', 'n_married'} -> {'<5...   \n",
       "4                   {'male', 'n_married'} -> {'<50K'}   \n",
       "5   {'male', 'UnitedStates', 'n_married'} -> {'<50K'}   \n",
       "6                   {'education.num_9.0'} -> {'<50K'}   \n",
       "7   {'education.num_9.0', 'UnitedStates'} -> {'<50K'}   \n",
       "8          {'education.num_9.0', 'white'} -> {'<50K'}   \n",
       "9   {'education.num_9.0', 'UnitedStates', 'white'}...   \n",
       "10                             {'female'} -> {'<50K'}   \n",
       "11             {'female', 'UnitedStates'} -> {'<50K'}   \n",
       "12                {'female', 'n_married'} -> {'<50K'}   \n",
       "13  {'female', 'UnitedStates', 'n_married'} -> {'<...   \n",
       "14                    {'female', 'white'} -> {'<50K'}   \n",
       "15    {'female', 'UnitedStates', 'white'} -> {'<50K'}   \n",
       "16       {'female', 'white', 'n_married'} -> {'<50K'}   \n",
       "17                  {'Age (decade)_20.0'} -> {'<50K'}   \n",
       "18  {'Age (decade)_20.0', 'UnitedStates'} -> {'<50K'}   \n",
       "\n",
       "    Number of conseq matching after pp Respecting the rule after pp  \n",
       "0                                 4141                       87.55%  \n",
       "1                                 3817                       87.29%  \n",
       "2                                 3427                       87.07%  \n",
       "3                                 3212                       86.79%  \n",
       "4                                 2150                       94.38%  \n",
       "5                                 1967                        94.2%  \n",
       "6                                 2502                       83.34%  \n",
       "7                                 2326                       83.04%  \n",
       "8                                 2104                       82.87%  \n",
       "9                                 1981                        82.4%  \n",
       "10                                2025                       68.85%  \n",
       "11                                1872                       69.13%  \n",
       "12                                1991                        81.2%  \n",
       "13                                1850                       80.96%  \n",
       "14                                1619                       67.97%  \n",
       "15                                1522                        67.8%  \n",
       "16                                1596                       80.08%  \n",
       "17                                2006                       90.44%  \n",
       "18                                1804                       90.65%  "
      ]
     },
     "metadata": {},
     "output_type": "display_data"
    }
   ],
   "source": [
    "results_after_roc = []\n",
    "\n",
    "# for each association rule, check how many rows of dataset_transf_test_pred met it\n",
    "for index, rule in res_min50_bd.iterrows():\n",
    "    antecedents = list(rule['antecedents'])\n",
    "    matching_rows = df_transactions_roc.copy()\n",
    "    for antecedent in antecedents:\n",
    "        matching_rows = matching_rows[matching_rows[antecedent] == True]\n",
    "    \n",
    "    consequent = list(rule['consequents'])[0]\n",
    "    consequent_met = matching_rows[matching_rows[consequent] == True]\n",
    "    \n",
    "    total_matching = len(matching_rows)\n",
    "    total_consequent_met = len(consequent_met)\n",
    "    \n",
    "    rule_result = {\n",
    "        'Rule': f\"{set(rule['antecedents'])} -> {set(rule['consequents'])}\".replace(\"frozenset({\", \"\").replace(\"})\", \"\"),\n",
    "        'Number of conseq matching after pp': total_consequent_met,\n",
    "        'Respecting the rule after pp': f\"{round(total_consequent_met / total_matching * 100, 2)}%\" if total_matching > 0 else \"0%\",\n",
    "    }\n",
    "    \n",
    "    results_after_roc.append(rule_result)\n",
    "\n",
    "# Create a DataFrame to display the results\n",
    "results_after_roc_df = pd.DataFrame(results_after_roc)\n",
    "display(results_after_roc_df)\n",
    "\n"
   ]
  },
  {
   "cell_type": "markdown",
   "metadata": {},
   "source": [
    "Comparison of  association rules in the predicted test datatset before/after post-processing"
   ]
  },
  {
   "cell_type": "code",
   "execution_count": 59,
   "metadata": {},
   "outputs": [
    {
     "data": {
      "text/html": [
       "<div>\n",
       "<style scoped>\n",
       "    .dataframe tbody tr th:only-of-type {\n",
       "        vertical-align: middle;\n",
       "    }\n",
       "\n",
       "    .dataframe tbody tr th {\n",
       "        vertical-align: top;\n",
       "    }\n",
       "\n",
       "    .dataframe thead th {\n",
       "        text-align: right;\n",
       "    }\n",
       "</style>\n",
       "<table border=\"1\" class=\"dataframe\">\n",
       "  <thead>\n",
       "    <tr style=\"text-align: right;\">\n",
       "      <th></th>\n",
       "      <th>Rule</th>\n",
       "      <th>Number of conseq matching before pp</th>\n",
       "      <th>Respecting the rule before pp</th>\n",
       "      <th>Number of conseq matching after pp</th>\n",
       "      <th>Respecting the rule after pp</th>\n",
       "    </tr>\n",
       "  </thead>\n",
       "  <tbody>\n",
       "    <tr>\n",
       "      <th>0</th>\n",
       "      <td>{'n_married'} -&gt; {'&lt;50K'}</td>\n",
       "      <td>4413</td>\n",
       "      <td>93.3%</td>\n",
       "      <td>4141</td>\n",
       "      <td>87.55%</td>\n",
       "    </tr>\n",
       "    <tr>\n",
       "      <th>1</th>\n",
       "      <td>{'UnitedStates', 'n_married'} -&gt; {'&lt;50K'}</td>\n",
       "      <td>4073</td>\n",
       "      <td>93.14%</td>\n",
       "      <td>3817</td>\n",
       "      <td>87.29%</td>\n",
       "    </tr>\n",
       "    <tr>\n",
       "      <th>2</th>\n",
       "      <td>{'white', 'n_married'} -&gt; {'&lt;50K'}</td>\n",
       "      <td>3651</td>\n",
       "      <td>92.76%</td>\n",
       "      <td>3427</td>\n",
       "      <td>87.07%</td>\n",
       "    </tr>\n",
       "    <tr>\n",
       "      <th>3</th>\n",
       "      <td>{'UnitedStates', 'white', 'n_married'} -&gt; {'&lt;5...</td>\n",
       "      <td>3427</td>\n",
       "      <td>92.6%</td>\n",
       "      <td>3212</td>\n",
       "      <td>86.79%</td>\n",
       "    </tr>\n",
       "    <tr>\n",
       "      <th>4</th>\n",
       "      <td>{'male', 'n_married'} -&gt; {'&lt;50K'}</td>\n",
       "      <td>2073</td>\n",
       "      <td>91.0%</td>\n",
       "      <td>2150</td>\n",
       "      <td>94.38%</td>\n",
       "    </tr>\n",
       "    <tr>\n",
       "      <th>5</th>\n",
       "      <td>{'male', 'UnitedStates', 'n_married'} -&gt; {'&lt;50K'}</td>\n",
       "      <td>1893</td>\n",
       "      <td>90.66%</td>\n",
       "      <td>1967</td>\n",
       "      <td>94.2%</td>\n",
       "    </tr>\n",
       "    <tr>\n",
       "      <th>6</th>\n",
       "      <td>{'education.num_9.0'} -&gt; {'&lt;50K'}</td>\n",
       "      <td>2513</td>\n",
       "      <td>83.71%</td>\n",
       "      <td>2502</td>\n",
       "      <td>83.34%</td>\n",
       "    </tr>\n",
       "    <tr>\n",
       "      <th>7</th>\n",
       "      <td>{'education.num_9.0', 'UnitedStates'} -&gt; {'&lt;50K'}</td>\n",
       "      <td>2335</td>\n",
       "      <td>83.36%</td>\n",
       "      <td>2326</td>\n",
       "      <td>83.04%</td>\n",
       "    </tr>\n",
       "    <tr>\n",
       "      <th>8</th>\n",
       "      <td>{'education.num_9.0', 'white'} -&gt; {'&lt;50K'}</td>\n",
       "      <td>2090</td>\n",
       "      <td>82.32%</td>\n",
       "      <td>2104</td>\n",
       "      <td>82.87%</td>\n",
       "    </tr>\n",
       "    <tr>\n",
       "      <th>9</th>\n",
       "      <td>{'education.num_9.0', 'UnitedStates', 'white'}...</td>\n",
       "      <td>1970</td>\n",
       "      <td>81.95%</td>\n",
       "      <td>1981</td>\n",
       "      <td>82.4%</td>\n",
       "    </tr>\n",
       "    <tr>\n",
       "      <th>10</th>\n",
       "      <td>{'female'} -&gt; {'&lt;50K'}</td>\n",
       "      <td>2611</td>\n",
       "      <td>88.78%</td>\n",
       "      <td>2025</td>\n",
       "      <td>68.85%</td>\n",
       "    </tr>\n",
       "    <tr>\n",
       "      <th>11</th>\n",
       "      <td>{'female', 'UnitedStates'} -&gt; {'&lt;50K'}</td>\n",
       "      <td>2404</td>\n",
       "      <td>88.77%</td>\n",
       "      <td>1872</td>\n",
       "      <td>69.13%</td>\n",
       "    </tr>\n",
       "    <tr>\n",
       "      <th>12</th>\n",
       "      <td>{'female', 'n_married'} -&gt; {'&lt;50K'}</td>\n",
       "      <td>2340</td>\n",
       "      <td>95.43%</td>\n",
       "      <td>1991</td>\n",
       "      <td>81.2%</td>\n",
       "    </tr>\n",
       "    <tr>\n",
       "      <th>13</th>\n",
       "      <td>{'female', 'UnitedStates', 'n_married'} -&gt; {'&lt;...</td>\n",
       "      <td>2180</td>\n",
       "      <td>95.4%</td>\n",
       "      <td>1850</td>\n",
       "      <td>80.96%</td>\n",
       "    </tr>\n",
       "    <tr>\n",
       "      <th>14</th>\n",
       "      <td>{'female', 'white'} -&gt; {'&lt;50K'}</td>\n",
       "      <td>2087</td>\n",
       "      <td>87.62%</td>\n",
       "      <td>1619</td>\n",
       "      <td>67.97%</td>\n",
       "    </tr>\n",
       "    <tr>\n",
       "      <th>15</th>\n",
       "      <td>{'female', 'UnitedStates', 'white'} -&gt; {'&lt;50K'}</td>\n",
       "      <td>1963</td>\n",
       "      <td>87.44%</td>\n",
       "      <td>1522</td>\n",
       "      <td>67.8%</td>\n",
       "    </tr>\n",
       "    <tr>\n",
       "      <th>16</th>\n",
       "      <td>{'female', 'white', 'n_married'} -&gt; {'&lt;50K'}</td>\n",
       "      <td>1890</td>\n",
       "      <td>94.83%</td>\n",
       "      <td>1596</td>\n",
       "      <td>80.08%</td>\n",
       "    </tr>\n",
       "    <tr>\n",
       "      <th>17</th>\n",
       "      <td>{'Age (decade)_20.0'} -&gt; {'&lt;50K'}</td>\n",
       "      <td>2055</td>\n",
       "      <td>92.65%</td>\n",
       "      <td>2006</td>\n",
       "      <td>90.44%</td>\n",
       "    </tr>\n",
       "    <tr>\n",
       "      <th>18</th>\n",
       "      <td>{'Age (decade)_20.0', 'UnitedStates'} -&gt; {'&lt;50K'}</td>\n",
       "      <td>1840</td>\n",
       "      <td>92.46%</td>\n",
       "      <td>1804</td>\n",
       "      <td>90.65%</td>\n",
       "    </tr>\n",
       "  </tbody>\n",
       "</table>\n",
       "</div>"
      ],
      "text/plain": [
       "                                                 Rule  \\\n",
       "0                           {'n_married'} -> {'<50K'}   \n",
       "1           {'UnitedStates', 'n_married'} -> {'<50K'}   \n",
       "2                  {'white', 'n_married'} -> {'<50K'}   \n",
       "3   {'UnitedStates', 'white', 'n_married'} -> {'<5...   \n",
       "4                   {'male', 'n_married'} -> {'<50K'}   \n",
       "5   {'male', 'UnitedStates', 'n_married'} -> {'<50K'}   \n",
       "6                   {'education.num_9.0'} -> {'<50K'}   \n",
       "7   {'education.num_9.0', 'UnitedStates'} -> {'<50K'}   \n",
       "8          {'education.num_9.0', 'white'} -> {'<50K'}   \n",
       "9   {'education.num_9.0', 'UnitedStates', 'white'}...   \n",
       "10                             {'female'} -> {'<50K'}   \n",
       "11             {'female', 'UnitedStates'} -> {'<50K'}   \n",
       "12                {'female', 'n_married'} -> {'<50K'}   \n",
       "13  {'female', 'UnitedStates', 'n_married'} -> {'<...   \n",
       "14                    {'female', 'white'} -> {'<50K'}   \n",
       "15    {'female', 'UnitedStates', 'white'} -> {'<50K'}   \n",
       "16       {'female', 'white', 'n_married'} -> {'<50K'}   \n",
       "17                  {'Age (decade)_20.0'} -> {'<50K'}   \n",
       "18  {'Age (decade)_20.0', 'UnitedStates'} -> {'<50K'}   \n",
       "\n",
       "    Number of conseq matching before pp Respecting the rule before pp  \\\n",
       "0                                  4413                         93.3%   \n",
       "1                                  4073                        93.14%   \n",
       "2                                  3651                        92.76%   \n",
       "3                                  3427                         92.6%   \n",
       "4                                  2073                         91.0%   \n",
       "5                                  1893                        90.66%   \n",
       "6                                  2513                        83.71%   \n",
       "7                                  2335                        83.36%   \n",
       "8                                  2090                        82.32%   \n",
       "9                                  1970                        81.95%   \n",
       "10                                 2611                        88.78%   \n",
       "11                                 2404                        88.77%   \n",
       "12                                 2340                        95.43%   \n",
       "13                                 2180                         95.4%   \n",
       "14                                 2087                        87.62%   \n",
       "15                                 1963                        87.44%   \n",
       "16                                 1890                        94.83%   \n",
       "17                                 2055                        92.65%   \n",
       "18                                 1840                        92.46%   \n",
       "\n",
       "    Number of conseq matching after pp Respecting the rule after pp  \n",
       "0                                 4141                       87.55%  \n",
       "1                                 3817                       87.29%  \n",
       "2                                 3427                       87.07%  \n",
       "3                                 3212                       86.79%  \n",
       "4                                 2150                       94.38%  \n",
       "5                                 1967                        94.2%  \n",
       "6                                 2502                       83.34%  \n",
       "7                                 2326                       83.04%  \n",
       "8                                 2104                       82.87%  \n",
       "9                                 1981                        82.4%  \n",
       "10                                2025                       68.85%  \n",
       "11                                1872                       69.13%  \n",
       "12                                1991                        81.2%  \n",
       "13                                1850                       80.96%  \n",
       "14                                1619                       67.97%  \n",
       "15                                1522                        67.8%  \n",
       "16                                1596                       80.08%  \n",
       "17                                2006                       90.44%  \n",
       "18                                1804                       90.65%  "
      ]
     },
     "execution_count": 59,
     "metadata": {},
     "output_type": "execute_result"
    }
   ],
   "source": [
    "results_df = results_bf_roc_df.copy()\n",
    "results_df['Number of conseq matching after pp'] = results_after_roc_df['Number of conseq matching after pp']\n",
    "results_df['Respecting the rule after pp'] = results_after_roc_df['Respecting the rule after pp']\n",
    "results_df"
   ]
  },
  {
   "cell_type": "code",
   "execution_count": 60,
   "metadata": {},
   "outputs": [
    {
     "name": "stdout",
     "output_type": "stream",
     "text": [
      "Number of association rules with consequents '<=50K' kept: 9\n",
      "Number of association rules with consequents '<=50K' not kept: 7\n",
      "Number of new association rules with consequents '<=50K': 5\n",
      "\n",
      "Rules Kept:\n"
     ]
    },
    {
     "data": {
      "text/html": [
       "<div>\n",
       "<style scoped>\n",
       "    .dataframe tbody tr th:only-of-type {\n",
       "        vertical-align: middle;\n",
       "    }\n",
       "\n",
       "    .dataframe tbody tr th {\n",
       "        vertical-align: top;\n",
       "    }\n",
       "\n",
       "    .dataframe thead th {\n",
       "        text-align: right;\n",
       "    }\n",
       "</style>\n",
       "<table border=\"1\" class=\"dataframe\">\n",
       "  <thead>\n",
       "    <tr style=\"text-align: right;\">\n",
       "      <th></th>\n",
       "      <th>antecedents</th>\n",
       "      <th>consequents</th>\n",
       "      <th>support</th>\n",
       "      <th>confidence</th>\n",
       "    </tr>\n",
       "  </thead>\n",
       "  <tbody>\n",
       "    <tr>\n",
       "      <th>142</th>\n",
       "      <td>(female, n_married)</td>\n",
       "      <td>(&lt;50K)</td>\n",
       "      <td>0.265444</td>\n",
       "      <td>0.979608</td>\n",
       "    </tr>\n",
       "    <tr>\n",
       "      <th>147</th>\n",
       "      <td>(female, UnitedStates, n_married)</td>\n",
       "      <td>(&lt;50K)</td>\n",
       "      <td>0.247320</td>\n",
       "      <td>0.979431</td>\n",
       "    </tr>\n",
       "    <tr>\n",
       "      <th>15</th>\n",
       "      <td>(n_married)</td>\n",
       "      <td>(&lt;50K)</td>\n",
       "      <td>0.492430</td>\n",
       "      <td>0.942072</td>\n",
       "    </tr>\n",
       "    <tr>\n",
       "      <th>18</th>\n",
       "      <td>(UnitedStates, n_married)</td>\n",
       "      <td>(&lt;50K)</td>\n",
       "      <td>0.454525</td>\n",
       "      <td>0.940544</td>\n",
       "    </tr>\n",
       "    <tr>\n",
       "      <th>23</th>\n",
       "      <td>(white, n_married)</td>\n",
       "      <td>(&lt;50K)</td>\n",
       "      <td>0.407890</td>\n",
       "      <td>0.937754</td>\n",
       "    </tr>\n",
       "    <tr>\n",
       "      <th>25</th>\n",
       "      <td>(UnitedStates, white, n_married)</td>\n",
       "      <td>(&lt;50K)</td>\n",
       "      <td>0.382584</td>\n",
       "      <td>0.935423</td>\n",
       "    </tr>\n",
       "    <tr>\n",
       "      <th>121</th>\n",
       "      <td>(Age (decade)_20.0)</td>\n",
       "      <td>(&lt;50K)</td>\n",
       "      <td>0.227760</td>\n",
       "      <td>0.929216</td>\n",
       "    </tr>\n",
       "    <tr>\n",
       "      <th>30</th>\n",
       "      <td>(male, n_married)</td>\n",
       "      <td>(&lt;50K)</td>\n",
       "      <td>0.226986</td>\n",
       "      <td>0.901668</td>\n",
       "    </tr>\n",
       "    <tr>\n",
       "      <th>32</th>\n",
       "      <td>(male, UnitedStates, n_married)</td>\n",
       "      <td>(&lt;50K)</td>\n",
       "      <td>0.207205</td>\n",
       "      <td>0.897989</td>\n",
       "    </tr>\n",
       "  </tbody>\n",
       "</table>\n",
       "</div>"
      ],
      "text/plain": [
       "                           antecedents consequents   support  confidence\n",
       "142                (female, n_married)      (<50K)  0.265444    0.979608\n",
       "147  (female, UnitedStates, n_married)      (<50K)  0.247320    0.979431\n",
       "15                         (n_married)      (<50K)  0.492430    0.942072\n",
       "18           (UnitedStates, n_married)      (<50K)  0.454525    0.940544\n",
       "23                  (white, n_married)      (<50K)  0.407890    0.937754\n",
       "25    (UnitedStates, white, n_married)      (<50K)  0.382584    0.935423\n",
       "121                (Age (decade)_20.0)      (<50K)  0.227760    0.929216\n",
       "30                   (male, n_married)      (<50K)  0.226986    0.901668\n",
       "32     (male, UnitedStates, n_married)      (<50K)  0.207205    0.897989"
      ]
     },
     "metadata": {},
     "output_type": "display_data"
    },
    {
     "name": "stdout",
     "output_type": "stream",
     "text": [
      "\n",
      "Rules Not Kept:\n"
     ]
    },
    {
     "data": {
      "text/html": [
       "<div>\n",
       "<style scoped>\n",
       "    .dataframe tbody tr th:only-of-type {\n",
       "        vertical-align: middle;\n",
       "    }\n",
       "\n",
       "    .dataframe tbody tr th {\n",
       "        vertical-align: top;\n",
       "    }\n",
       "\n",
       "    .dataframe thead th {\n",
       "        text-align: right;\n",
       "    }\n",
       "</style>\n",
       "<table border=\"1\" class=\"dataframe\">\n",
       "  <thead>\n",
       "    <tr style=\"text-align: right;\">\n",
       "      <th></th>\n",
       "      <th>antecedents</th>\n",
       "      <th>consequents</th>\n",
       "      <th>support</th>\n",
       "      <th>confidence</th>\n",
       "    </tr>\n",
       "  </thead>\n",
       "  <tbody>\n",
       "    <tr>\n",
       "      <th>163</th>\n",
       "      <td>(female, white, n_married)</td>\n",
       "      <td>(&lt;50K)</td>\n",
       "      <td>0.215051</td>\n",
       "      <td>0.976417</td>\n",
       "    </tr>\n",
       "    <tr>\n",
       "      <th>172</th>\n",
       "      <td>(female, UnitedStates, white, n_married)</td>\n",
       "      <td>(&lt;50K)</td>\n",
       "      <td>0.203227</td>\n",
       "      <td>0.976115</td>\n",
       "    </tr>\n",
       "    <tr>\n",
       "      <th>124</th>\n",
       "      <td>(Age (decade)_20.0, UnitedStates)</td>\n",
       "      <td>(&lt;50K)</td>\n",
       "      <td>0.204221</td>\n",
       "      <td>0.928643</td>\n",
       "    </tr>\n",
       "    <tr>\n",
       "      <th>138</th>\n",
       "      <td>(female, UnitedStates)</td>\n",
       "      <td>(&lt;50K)</td>\n",
       "      <td>0.265996</td>\n",
       "      <td>0.888848</td>\n",
       "    </tr>\n",
       "    <tr>\n",
       "      <th>135</th>\n",
       "      <td>(female)</td>\n",
       "      <td>(&lt;50K)</td>\n",
       "      <td>0.287877</td>\n",
       "      <td>0.885753</td>\n",
       "    </tr>\n",
       "    <tr>\n",
       "      <th>154</th>\n",
       "      <td>(female, white)</td>\n",
       "      <td>(&lt;50K)</td>\n",
       "      <td>0.231849</td>\n",
       "      <td>0.880772</td>\n",
       "    </tr>\n",
       "    <tr>\n",
       "      <th>158</th>\n",
       "      <td>(female, UnitedStates, white)</td>\n",
       "      <td>(&lt;50K)</td>\n",
       "      <td>0.218367</td>\n",
       "      <td>0.880178</td>\n",
       "    </tr>\n",
       "  </tbody>\n",
       "</table>\n",
       "</div>"
      ],
      "text/plain": [
       "                                  antecedents consequents   support  \\\n",
       "163                (female, white, n_married)      (<50K)  0.215051   \n",
       "172  (female, UnitedStates, white, n_married)      (<50K)  0.203227   \n",
       "124         (Age (decade)_20.0, UnitedStates)      (<50K)  0.204221   \n",
       "138                    (female, UnitedStates)      (<50K)  0.265996   \n",
       "135                                  (female)      (<50K)  0.287877   \n",
       "154                           (female, white)      (<50K)  0.231849   \n",
       "158             (female, UnitedStates, white)      (<50K)  0.218367   \n",
       "\n",
       "     confidence  \n",
       "163    0.976417  \n",
       "172    0.976115  \n",
       "124    0.928643  \n",
       "138    0.888848  \n",
       "135    0.885753  \n",
       "154    0.880772  \n",
       "158    0.880178  "
      ]
     },
     "metadata": {},
     "output_type": "display_data"
    },
    {
     "name": "stdout",
     "output_type": "stream",
     "text": [
      "\n",
      "New Rules:\n"
     ]
    },
    {
     "data": {
      "text/html": [
       "<div>\n",
       "<style scoped>\n",
       "    .dataframe tbody tr th:only-of-type {\n",
       "        vertical-align: middle;\n",
       "    }\n",
       "\n",
       "    .dataframe tbody tr th {\n",
       "        vertical-align: top;\n",
       "    }\n",
       "\n",
       "    .dataframe thead th {\n",
       "        text-align: right;\n",
       "    }\n",
       "</style>\n",
       "<table border=\"1\" class=\"dataframe\">\n",
       "  <thead>\n",
       "    <tr style=\"text-align: right;\">\n",
       "      <th></th>\n",
       "      <th>antecedents</th>\n",
       "      <th>consequents</th>\n",
       "      <th>support</th>\n",
       "      <th>confidence</th>\n",
       "    </tr>\n",
       "  </thead>\n",
       "  <tbody>\n",
       "    <tr>\n",
       "      <th>36</th>\n",
       "      <td>(male, white, n_married)</td>\n",
       "      <td>(&lt;50K)</td>\n",
       "      <td>0.202343</td>\n",
       "      <td>0.942357</td>\n",
       "    </tr>\n",
       "    <tr>\n",
       "      <th>103</th>\n",
       "      <td>(education.num_9.0)</td>\n",
       "      <td>(&lt;50K)</td>\n",
       "      <td>0.276495</td>\n",
       "      <td>0.833444</td>\n",
       "    </tr>\n",
       "    <tr>\n",
       "      <th>108</th>\n",
       "      <td>(education.num_9.0, UnitedStates)</td>\n",
       "      <td>(&lt;50K)</td>\n",
       "      <td>0.257045</td>\n",
       "      <td>0.830418</td>\n",
       "    </tr>\n",
       "    <tr>\n",
       "      <th>110</th>\n",
       "      <td>(education.num_9.0, white)</td>\n",
       "      <td>(&lt;50K)</td>\n",
       "      <td>0.232512</td>\n",
       "      <td>0.828673</td>\n",
       "    </tr>\n",
       "    <tr>\n",
       "      <th>112</th>\n",
       "      <td>(education.num_9.0, UnitedStates, white)</td>\n",
       "      <td>(&lt;50K)</td>\n",
       "      <td>0.218919</td>\n",
       "      <td>0.824043</td>\n",
       "    </tr>\n",
       "  </tbody>\n",
       "</table>\n",
       "</div>"
      ],
      "text/plain": [
       "                                  antecedents consequents   support  \\\n",
       "36                   (male, white, n_married)      (<50K)  0.202343   \n",
       "103                       (education.num_9.0)      (<50K)  0.276495   \n",
       "108         (education.num_9.0, UnitedStates)      (<50K)  0.257045   \n",
       "110                (education.num_9.0, white)      (<50K)  0.232512   \n",
       "112  (education.num_9.0, UnitedStates, white)      (<50K)  0.218919   \n",
       "\n",
       "     confidence  \n",
       "36     0.942357  \n",
       "103    0.833444  \n",
       "108    0.830418  \n",
       "110    0.828673  \n",
       "112    0.824043  "
      ]
     },
     "metadata": {},
     "output_type": "display_data"
    }
   ],
   "source": [
    "# Calculate association rules for the transformed test dataset\n",
    "res_min50_transf, res_max50_transf = compute_income_rules(dataset_transf_test_pred, min_support=user_min_support, min_confidence=user_min_confidence)\n",
    "res_min50_test, res_max50_test = compute_income_rules(dataset_orig_test_pred, min_support=user_min_support, min_confidence=user_min_confidence)\n",
    "# Function to calculate and return the number of rules kept, not kept, and newly introduced\n",
    "def compare_rules(res_orig, res_transf, consequent):\n",
    "    rules_kept = set(res_orig['antecedents']).intersection(set(res_transf['antecedents']))\n",
    "    rules_not_kept = set(res_orig['antecedents']).difference(set(res_transf['antecedents']))\n",
    "    new_rules = set(res_transf['antecedents']).difference(set(res_orig['antecedents']))\n",
    "\n",
    "\n",
    "    print(f\"Number of association rules with consequents '{consequent}' kept: {len(rules_kept)}\")\n",
    "    print(f\"Number of association rules with consequents '{consequent}' not kept: {len(rules_not_kept)}\")\n",
    "    print(f\"Number of new association rules with consequents '{consequent}': {len(new_rules)}\")\n",
    "    \n",
    "    df_rules_kept = res_orig[res_orig['antecedents'].isin(rules_kept)]\n",
    "    df_rules_not_kept = res_orig[res_orig['antecedents'].isin(rules_not_kept)]\n",
    "    df_new_rules = res_transf[res_transf['antecedents'].isin(new_rules)]\n",
    "\n",
    "    return df_rules_kept, df_rules_not_kept, df_new_rules\n",
    "\n",
    "# Compare rules for '<=50K'\n",
    "df_rules_kept, df_rules_not_kept, df_new_rules = compare_rules(res_min50_test, res_min50_transf, '<=50K')\n",
    "\n",
    "# Display the dataframes\n",
    "print(\"\\nRules Kept:\")\n",
    "display(df_rules_kept[['antecedents', 'consequents', 'support', 'confidence']].sort_values(\"confidence\", ascending=False))\n",
    "\n",
    "print(\"\\nRules Not Kept:\")\n",
    "display(df_rules_not_kept[['antecedents', 'consequents', 'support', 'confidence']].sort_values(\"confidence\", ascending=False))\n",
    "\n",
    "print(\"\\nNew Rules:\")\n",
    "display(df_new_rules[['antecedents', 'consequents', 'support', 'confidence']].sort_values(\"confidence\", ascending=False))\n"
   ]
  }
 ],
 "metadata": {
  "kernelspec": {
   "display_name": "pipeline_env",
   "language": "python",
   "name": "python3"
  },
  "language_info": {
   "codemirror_mode": {
    "name": "ipython",
    "version": 3
   },
   "file_extension": ".py",
   "mimetype": "text/x-python",
   "name": "python",
   "nbconvert_exporter": "python",
   "pygments_lexer": "ipython3",
   "version": "3.11.6"
  }
 },
 "nbformat": 4,
 "nbformat_minor": 2
}
