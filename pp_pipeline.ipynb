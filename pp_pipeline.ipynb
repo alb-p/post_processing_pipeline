{
 "cells": [
  {
   "cell_type": "markdown",
   "metadata": {},
   "source": [
    "The debiasing function used is implemented in the `RejectOptionClassification` class.\n",
    "    * Statistical parity difference on the predictions of the classifier\n",
    "    * Average odds difference for the classifier\n",
    "    * Equal opportunity difference for the classifier"
   ]
  },
  {
   "cell_type": "code",
   "execution_count": 88,
   "metadata": {},
   "outputs": [
    {
     "name": "stdout",
     "output_type": "stream",
     "text": [
      "Requirement already satisfied: mlxtend in ./pipeline_env/lib/python3.11/site-packages (0.23.1)\n",
      "Requirement already satisfied: pyECLAT in ./pipeline_env/lib/python3.11/site-packages (1.0.2)\n",
      "Requirement already satisfied: efficient-apriori in ./pipeline_env/lib/python3.11/site-packages (2.0.5)\n",
      "Requirement already satisfied: plotly in ./pipeline_env/lib/python3.11/site-packages (5.24.1)\n",
      "Requirement already satisfied: matplotlib in ./pipeline_env/lib/python3.11/site-packages (3.9.2)\n",
      "Requirement already satisfied: inline in ./pipeline_env/lib/python3.11/site-packages (0.0.1)\n",
      "Requirement already satisfied: seaborn in ./pipeline_env/lib/python3.11/site-packages (0.13.2)\n",
      "Requirement already satisfied: aif360 in ./pipeline_env/lib/python3.11/site-packages (0.6.1)\n",
      "Requirement already satisfied: scipy>=1.2.1 in ./pipeline_env/lib/python3.11/site-packages (from mlxtend) (1.14.1)\n",
      "Requirement already satisfied: numpy>=1.16.2 in ./pipeline_env/lib/python3.11/site-packages (from mlxtend) (2.1.2)\n",
      "Requirement already satisfied: pandas>=0.24.2 in ./pipeline_env/lib/python3.11/site-packages (from mlxtend) (2.2.3)\n",
      "Requirement already satisfied: scikit-learn>=1.0.2 in ./pipeline_env/lib/python3.11/site-packages (from mlxtend) (1.5.2)\n",
      "Requirement already satisfied: joblib>=0.13.2 in ./pipeline_env/lib/python3.11/site-packages (from mlxtend) (1.4.2)\n",
      "Requirement already satisfied: tqdm>=4.41.1 in ./pipeline_env/lib/python3.11/site-packages (from pyECLAT) (4.66.5)\n",
      "Requirement already satisfied: tenacity>=6.2.0 in ./pipeline_env/lib/python3.11/site-packages (from plotly) (9.0.0)\n",
      "Requirement already satisfied: packaging in ./pipeline_env/lib/python3.11/site-packages (from plotly) (24.1)\n",
      "Requirement already satisfied: contourpy>=1.0.1 in ./pipeline_env/lib/python3.11/site-packages (from matplotlib) (1.3.0)\n",
      "Requirement already satisfied: cycler>=0.10 in ./pipeline_env/lib/python3.11/site-packages (from matplotlib) (0.12.1)\n",
      "Requirement already satisfied: fonttools>=4.22.0 in ./pipeline_env/lib/python3.11/site-packages (from matplotlib) (4.54.1)\n",
      "Requirement already satisfied: kiwisolver>=1.3.1 in ./pipeline_env/lib/python3.11/site-packages (from matplotlib) (1.4.7)\n",
      "Requirement already satisfied: pillow>=8 in ./pipeline_env/lib/python3.11/site-packages (from matplotlib) (10.4.0)\n",
      "Requirement already satisfied: pyparsing>=2.3.1 in ./pipeline_env/lib/python3.11/site-packages (from matplotlib) (3.2.0)\n",
      "Requirement already satisfied: python-dateutil>=2.7 in ./pipeline_env/lib/python3.11/site-packages (from matplotlib) (2.9.0.post0)\n",
      "Requirement already satisfied: pytz>=2020.1 in ./pipeline_env/lib/python3.11/site-packages (from pandas>=0.24.2->mlxtend) (2024.2)\n",
      "Requirement already satisfied: tzdata>=2022.7 in ./pipeline_env/lib/python3.11/site-packages (from pandas>=0.24.2->mlxtend) (2024.2)\n",
      "Requirement already satisfied: six>=1.5 in ./pipeline_env/lib/python3.11/site-packages (from python-dateutil>=2.7->matplotlib) (1.16.0)\n",
      "Requirement already satisfied: threadpoolctl>=3.1.0 in ./pipeline_env/lib/python3.11/site-packages (from scikit-learn>=1.0.2->mlxtend) (3.5.0)\n",
      "Note: you may need to restart the kernel to use updated packages.\n"
     ]
    }
   ],
   "source": [
    "%pip install mlxtend pyECLAT efficient-apriori plotly matplotlib inline seaborn aif360\n",
    "# Load all necessary packages\n",
    "import sys\n",
    "sys.path.append(\"../\")\n",
    "from collections import OrderedDict\n",
    "import numpy as np\n",
    "import pandas as pd\n",
    "import seaborn as sns\n",
    "\n",
    "from aif360.metrics import ClassificationMetric, BinaryLabelDatasetMetric\n",
    "from aif360.datasets import BinaryLabelDataset\n",
    "from aif360.algorithms.postprocessing.reject_option_classification import RejectOptionClassification\n",
    "\n",
    "from sklearn.preprocessing import StandardScaler\n",
    "from sklearn.metrics import accuracy_score, balanced_accuracy_score, precision_score, recall_score, confusion_matrix, ConfusionMatrixDisplay\n",
    "from sklearn.tree import DecisionTreeClassifier\n",
    "from sklearn.linear_model import LogisticRegression\n",
    "\n",
    "from IPython.display import Markdown, display\n",
    "import matplotlib.pyplot as plt\n",
    "from mlxtend.frequent_patterns import association_rules\n",
    "from mlxtend.frequent_patterns import fpgrowth"
   ]
  },
  {
   "cell_type": "markdown",
   "metadata": {},
   "source": [
    "### Functions"
   ]
  },
  {
   "cell_type": "code",
   "execution_count": 89,
   "metadata": {},
   "outputs": [],
   "source": [
    "# https://developers.google.com/machine-learning/crash-course/classification/accuracy-precision-recall\n",
    "\n",
    "def compute_cl_metrics(dataset_true, dataset_pred,\n",
    "                    disp = True):\n",
    "    metrics = OrderedDict()\n",
    "    metrics[\"Accuracy\"] = accuracy_score(dataset_true.labels, dataset_pred.labels)\n",
    "    metrics[\"Recall\"] = recall_score(dataset_true.labels, dataset_pred.labels)\n",
    "    metrics[\"Precision\"] = precision_score(dataset_true.labels, dataset_pred.labels)\n",
    "    metrics[\"Balanced accuracy\"] = balanced_accuracy_score(dataset_true.labels, dataset_pred.labels)    \n",
    "    if disp:\n",
    "        for k in metrics:\n",
    "            print(\"%s = %.4f\" % (k, metrics[k]))\n",
    "    \n",
    "    return metrics"
   ]
  },
  {
   "cell_type": "code",
   "execution_count": 90,
   "metadata": {},
   "outputs": [],
   "source": [
    "def compute_fn_metrics(dataset_true, dataset_pred, \n",
    "                    unprivileged_groups, privileged_groups,\n",
    "                    disp = True):\n",
    "    classified_metric_pred = ClassificationMetric(dataset_true,\n",
    "                                                 dataset_pred, \n",
    "                                                 unprivileged_groups=unprivileged_groups,\n",
    "                                                 privileged_groups=privileged_groups)\n",
    "    metrics = OrderedDict()\n",
    "    metrics[\"Statistical parity difference\"] = classified_metric_pred.statistical_parity_difference()\n",
    "    metrics[\"Disparate impact\"] = classified_metric_pred.disparate_impact()\n",
    "    metrics[\"Average odds difference\"] = classified_metric_pred.average_odds_difference()\n",
    "    metrics[\"Equal opportunity difference\"] = classified_metric_pred.equal_opportunity_difference()\n",
    "     \n",
    "    if disp:\n",
    "        for k in metrics:\n",
    "            print(\"%s = %.4f\" % (k, metrics[k]))\n",
    "    \n",
    "    return metrics"
   ]
  },
  {
   "cell_type": "code",
   "execution_count": 91,
   "metadata": {},
   "outputs": [],
   "source": [
    "def plot_metrics(metrics_bef, metrics_aft): \n",
    "    df_metrics = pd.DataFrame({\n",
    "        'Metric': list(metrics_bef.keys()),\n",
    "        'Before': list(metrics_bef.values()),\n",
    "        'After': list(metrics_aft.values())\n",
    "    })\n",
    "\n",
    "    df_metrics_melted = df_metrics.melt(id_vars='Metric', var_name='Stage', value_name='Value')\n",
    "    \n",
    "    plt.figure(figsize=(10, 6))\n",
    "    sns.lineplot(data=df_metrics_melted, x='Stage', y='Value', hue='Metric', marker='o')\n",
    "\n",
    "    plt.ylabel('Metric Value')\n",
    "    plt.title('Comparison of Metrics Before and After Applying ROC')\n",
    "    plt.legend(title='Metric')\n",
    "    plt.grid(True)\n",
    "    plt.show()"
   ]
  },
  {
   "cell_type": "code",
   "execution_count": 92,
   "metadata": {},
   "outputs": [],
   "source": [
    "def conf_matrix(dataset_true, dataset_pred):\n",
    "    cm =confusion_matrix(dataset_true.labels, dataset_pred.labels)\n",
    "    plt.figure(figsize=(3, 3))\n",
    "    \n",
    "    ConfusionMatrixDisplay(cm).plot()"
   ]
  },
  {
   "cell_type": "code",
   "execution_count": 93,
   "metadata": {},
   "outputs": [],
   "source": [
    "def above_50k_graph(dataset):\n",
    "    df_test = dataset.convert_to_dataframe()[0]\n",
    "    df_above_50k = df_test[df_test['income'] == 1]\n",
    "    df_above_50k\n",
    "\n",
    "    # Count the number of male and female workers with income greater than 50K\n",
    "    gender_counts = df_above_50k['sex'].value_counts()\n",
    "\n",
    "    females_above_50k_count = gender_counts.get(0, 0) \n",
    "    total_count_above_50k = gender_counts.sum()\n",
    "    print(f\"Percentage of females earning over 50K: {females_above_50k_count/total_count_above_50k*100:.2f}%\")\n",
    "    print(f\"Number of male workers earning over 50K: { gender_counts.get(1, 0)}\")\n",
    "    print(f\"Total number of workers earning over 50K: {total_count_above_50k}\")\n",
    "\n",
    "\n",
    "    # Plotting the graph, the X axis gender should only contain 0 for female, 1 for male\n",
    "    plt.figure(figsize=(5, 5))\n",
    "    plt.bar(gender_counts.index, gender_counts.values, color=['lightblue', 'moccasin'])\n",
    "    plt.xlabel('Gender')\n",
    "    plt.xticks([0, 1], labels=['Female', 'Male'])\n",
    "    plt.ylabel('Number of Workers')\n",
    "    plt.title('Number of Male and Female Workers with Salary > 50K')\n",
    "    plt.show()"
   ]
  },
  {
   "cell_type": "code",
   "execution_count": 94,
   "metadata": {},
   "outputs": [],
   "source": [
    "def above_50k_graph_df(df):\n",
    "    df_above_50k = df[df['income'] == 1]\n",
    "\n",
    "    # Count the number of male and female workers with income greater than 50K\n",
    "    gender_counts = df_above_50k['sex'].value_counts()\n",
    "\n",
    "    females_above_50k_count = gender_counts.get(0, 0) \n",
    "    total_count_above_50k = gender_counts.sum()\n",
    "    print(f\"Percentage of females earning over 50K: {females_above_50k_count/total_count_above_50k*100:.2f}%\")\n",
    "    print(f\"Number of male workers earning over 50K: { gender_counts.get(1, 0)}\")\n",
    "    print(f\"Total number of workers earning over 50K: {total_count_above_50k}\")\n",
    "\n",
    "    # Plotting the graph, the X axis gender should only contain 0 for female, 1 for male\n",
    "    plt.figure(figsize=(5, 5))\n",
    "    plt.bar(gender_counts.index, gender_counts.values, color=['lightblue', 'moccasin'])\n",
    "    plt.xlabel('Gender')\n",
    "    plt.xticks([0, 1], labels=['Female', 'Male'])\n",
    "    plt.ylabel('Number of Workers')\n",
    "    plt.title('Number of Male and Female Workers with Salary > 50K')\n",
    "    plt.show()"
   ]
  },
  {
   "cell_type": "code",
   "execution_count": 95,
   "metadata": {},
   "outputs": [],
   "source": [
    "\n",
    "def plot_acc_vs_fairness(metric, metric_name, bal_acc_arr, thresh_arr_best_ind):\n",
    "    fig, ax1 = plt.subplots(figsize=(10, 7))\n",
    "    ax1.plot(class_thresh_arr, bal_acc_arr, color='b')\n",
    "    ax1.set_xlabel('Classification Thresholds', fontsize=16, fontweight='bold')\n",
    "    ax1.set_ylabel('Balanced Accuracy', color='b', fontsize=16, fontweight='bold')\n",
    "    ax1.xaxis.set_tick_params(labelsize=14)\n",
    "    ax1.yaxis.set_tick_params(labelsize=14, labelcolor='b')\n",
    "    ax2 = ax1.twinx()\n",
    "    ax2.plot(thresh_arr, metric, color='r')\n",
    "    ax2.set_ylabel(metric_name, color='r', fontsize=16, fontweight='bold')\n",
    "    ax2.axvline(np.array(thresh_arr)[thresh_arr_best_ind], color='k', linestyle=':')\n",
    "    ax2.yaxis.set_tick_params(labelsize=14, labelcolor='r')\n",
    "    ax2.grid(True)"
   ]
  },
  {
   "cell_type": "code",
   "execution_count": 97,
   "metadata": {},
   "outputs": [],
   "source": [
    "def group_edu(x):\n",
    "    if x <= 5:\n",
    "        return '<6'\n",
    "    elif x >= 13:\n",
    "        return '>12'\n",
    "    else:\n",
    "        return x"
   ]
  },
  {
   "cell_type": "code",
   "execution_count": 98,
   "metadata": {},
   "outputs": [],
   "source": [
    "def age_cut(x):\n",
    "    if x >= 70:\n",
    "        return '>=70'\n",
    "    else:\n",
    "        return x"
   ]
  },
  {
   "cell_type": "markdown",
   "metadata": {},
   "source": [
    "### Load dataset and specify options"
   ]
  },
  {
   "cell_type": "code",
   "execution_count": 96,
   "metadata": {},
   "outputs": [],
   "source": [
    "# define the ML model\n",
    "# Decision Tree, Logistic Regression\n",
    "model = \"Decision Tree\"\n",
    "\n",
    "privileged_groups = [{'sex': 1}]\n",
    "unprivileged_groups = [{'sex': 0}]\n",
    "target_variable = 'income'\n",
    "sensible_attribute = 'sex'\n",
    "        \n",
    "# The debiasing function RejectOptionClassification accepts the following metrics:\n",
    "    # Statistical parity difference on the predictions of the classifier\n",
    "    # Average odds difference for the classifier\n",
    "    # Equal opportunity difference for the classifier\n",
    "metric_name = \"Statistical parity difference\"\n",
    "        \n",
    "#random seed for calibrated equal odds prediction\n",
    "np.random.seed(1)\n",
    "\n",
    "# Verify metric name\n",
    "allowed_metrics = [\"Statistical parity difference\",\n",
    "                   \"Average odds difference\",\n",
    "                   \"Equal opportunity difference\"]\n",
    "if metric_name not in allowed_metrics:\n",
    "    raise ValueError(\"Metric name should be one of allowed metrics\")"
   ]
  },
  {
   "cell_type": "markdown",
   "metadata": {},
   "source": [
    "## Load and clean csv file"
   ]
  },
  {
   "cell_type": "code",
   "execution_count": 99,
   "metadata": {},
   "outputs": [
    {
     "name": "stdout",
     "output_type": "stream",
     "text": [
      "shape before drop: (32561, 15)\n",
      "shape after drop: (30162, 10)\n"
     ]
    }
   ],
   "source": [
    "dataset_orig = pd.read_csv('dataset/adult.csv', header = 0)\n",
    "print('shape before drop:',dataset_orig.shape)\n",
    "dataset_orig.replace('?', np.nan, inplace=True)\n",
    "dataset_orig.dropna(inplace=True)\n",
    "# to_drop = [\"workclass\", \"fnlwgt\", \"education\", \"capital-gain\", \"capital-loss\", \"hours-per-week\"]\n",
    "\n",
    "to_drop = [\"fnlwgt\", \"education\", \"relationship\", \"workclass\", \"occupation\"]\n",
    "dataset_orig.drop(to_drop, axis=1, inplace=True)\n",
    "dataset_orig_clean = dataset_orig.dropna()\n",
    "print('shape after drop:',dataset_orig.shape)\n"
   ]
  },
  {
   "cell_type": "code",
   "execution_count": 100,
   "metadata": {},
   "outputs": [],
   "source": [
    "# Categorical features are converted to numerical\n",
    "dataset_orig_clean.loc[:, 'income'] = dataset_orig_clean['income'].map({\n",
    "    '<=50K': 0,\n",
    "    '>50K': 1\n",
    "})\n",
    "dataset_orig_clean['income'] = dataset_orig_clean['income'].astype(int)\n",
    "\n",
    "\n",
    "dataset_orig_clean.loc[:, 'sex'] = dataset_orig_clean['sex'].map({\n",
    "    'Female': 0,\n",
    "    'Male': 1\n",
    "})\n",
    "dataset_orig_clean['sex'] = dataset_orig_clean['sex'].astype(int)\n",
    "\n",
    "\n",
    "dataset_orig_clean['marital.status'] = dataset_orig_clean['marital.status'].map({\n",
    "    'Never-married': 0,\n",
    "    'Divorced': 0,\n",
    "    'Separated': 0,\n",
    "    'Widowed': 0,\n",
    "    'Married-civ-spouse': 1,\n",
    "    'Married-spouse-absent': 1,\n",
    "    'Married-AF-spouse': 1\n",
    "})\n",
    "dataset_orig_clean['marital.status'] = dataset_orig_clean['marital.status'].astype(int)\n",
    "\n",
    "\n",
    "dataset_orig_clean['race'] = dataset_orig_clean.race.map({\n",
    "    'White':0,\n",
    "    'Black':1,\n",
    "    'Asian-Pac-Islander':2,\n",
    "    'Amer-Indian-Eskimo':2,\n",
    "    'Other':2\n",
    "})\n",
    "dataset_orig_clean['race'] = dataset_orig_clean['race'].astype(int)\n",
    "\n",
    "# United-States is 0 all the other countries are 1\n",
    "dataset_orig_clean['native.country'] = dataset_orig_clean['native.country'].apply(lambda x: 0 if x == 'United-States' else 1)\n",
    "dataset_orig_clean['native.country'] = dataset_orig_clean['native.country'].astype(int)\n",
    "\n",
    "\n"
   ]
  },
  {
   "cell_type": "code",
   "execution_count": 101,
   "metadata": {},
   "outputs": [],
   "source": [
    "# # Education number from 0 to 5 are put in '<6' and those above 13 into '>12'\n",
    "# dataset_orig_clean['education.num'] = dataset_orig_clean['education.num'].apply(lambda x: group_edu(x))\n",
    "\n",
    "# # Age above 70 is put into '>=70'\n",
    "# dataset_orig_clean['age'] = dataset_orig_clean['age'].apply(lambda x: age_cut(x))"
   ]
  },
  {
   "cell_type": "code",
   "execution_count": 102,
   "metadata": {},
   "outputs": [
    {
     "data": {
      "text/html": [
       "<div>\n",
       "<style scoped>\n",
       "    .dataframe tbody tr th:only-of-type {\n",
       "        vertical-align: middle;\n",
       "    }\n",
       "\n",
       "    .dataframe tbody tr th {\n",
       "        vertical-align: top;\n",
       "    }\n",
       "\n",
       "    .dataframe thead th {\n",
       "        text-align: right;\n",
       "    }\n",
       "</style>\n",
       "<table border=\"1\" class=\"dataframe\">\n",
       "  <thead>\n",
       "    <tr style=\"text-align: right;\">\n",
       "      <th></th>\n",
       "      <th>age</th>\n",
       "      <th>education.num</th>\n",
       "      <th>marital.status</th>\n",
       "      <th>race</th>\n",
       "      <th>sex</th>\n",
       "      <th>capital.gain</th>\n",
       "      <th>capital.loss</th>\n",
       "      <th>hours.per.week</th>\n",
       "      <th>native.country</th>\n",
       "      <th>income</th>\n",
       "    </tr>\n",
       "  </thead>\n",
       "  <tbody>\n",
       "    <tr>\n",
       "      <th>1</th>\n",
       "      <td>82</td>\n",
       "      <td>9</td>\n",
       "      <td>0</td>\n",
       "      <td>0</td>\n",
       "      <td>0</td>\n",
       "      <td>0</td>\n",
       "      <td>4356</td>\n",
       "      <td>18</td>\n",
       "      <td>0</td>\n",
       "      <td>0</td>\n",
       "    </tr>\n",
       "    <tr>\n",
       "      <th>3</th>\n",
       "      <td>54</td>\n",
       "      <td>4</td>\n",
       "      <td>0</td>\n",
       "      <td>0</td>\n",
       "      <td>0</td>\n",
       "      <td>0</td>\n",
       "      <td>3900</td>\n",
       "      <td>40</td>\n",
       "      <td>0</td>\n",
       "      <td>0</td>\n",
       "    </tr>\n",
       "    <tr>\n",
       "      <th>4</th>\n",
       "      <td>41</td>\n",
       "      <td>10</td>\n",
       "      <td>0</td>\n",
       "      <td>0</td>\n",
       "      <td>0</td>\n",
       "      <td>0</td>\n",
       "      <td>3900</td>\n",
       "      <td>40</td>\n",
       "      <td>0</td>\n",
       "      <td>0</td>\n",
       "    </tr>\n",
       "    <tr>\n",
       "      <th>5</th>\n",
       "      <td>34</td>\n",
       "      <td>9</td>\n",
       "      <td>0</td>\n",
       "      <td>0</td>\n",
       "      <td>0</td>\n",
       "      <td>0</td>\n",
       "      <td>3770</td>\n",
       "      <td>45</td>\n",
       "      <td>0</td>\n",
       "      <td>0</td>\n",
       "    </tr>\n",
       "    <tr>\n",
       "      <th>6</th>\n",
       "      <td>38</td>\n",
       "      <td>6</td>\n",
       "      <td>0</td>\n",
       "      <td>0</td>\n",
       "      <td>1</td>\n",
       "      <td>0</td>\n",
       "      <td>3770</td>\n",
       "      <td>40</td>\n",
       "      <td>0</td>\n",
       "      <td>0</td>\n",
       "    </tr>\n",
       "    <tr>\n",
       "      <th>...</th>\n",
       "      <td>...</td>\n",
       "      <td>...</td>\n",
       "      <td>...</td>\n",
       "      <td>...</td>\n",
       "      <td>...</td>\n",
       "      <td>...</td>\n",
       "      <td>...</td>\n",
       "      <td>...</td>\n",
       "      <td>...</td>\n",
       "      <td>...</td>\n",
       "    </tr>\n",
       "    <tr>\n",
       "      <th>32556</th>\n",
       "      <td>22</td>\n",
       "      <td>10</td>\n",
       "      <td>0</td>\n",
       "      <td>0</td>\n",
       "      <td>1</td>\n",
       "      <td>0</td>\n",
       "      <td>0</td>\n",
       "      <td>40</td>\n",
       "      <td>0</td>\n",
       "      <td>0</td>\n",
       "    </tr>\n",
       "    <tr>\n",
       "      <th>32557</th>\n",
       "      <td>27</td>\n",
       "      <td>12</td>\n",
       "      <td>1</td>\n",
       "      <td>0</td>\n",
       "      <td>0</td>\n",
       "      <td>0</td>\n",
       "      <td>0</td>\n",
       "      <td>38</td>\n",
       "      <td>0</td>\n",
       "      <td>0</td>\n",
       "    </tr>\n",
       "    <tr>\n",
       "      <th>32558</th>\n",
       "      <td>40</td>\n",
       "      <td>9</td>\n",
       "      <td>1</td>\n",
       "      <td>0</td>\n",
       "      <td>1</td>\n",
       "      <td>0</td>\n",
       "      <td>0</td>\n",
       "      <td>40</td>\n",
       "      <td>0</td>\n",
       "      <td>1</td>\n",
       "    </tr>\n",
       "    <tr>\n",
       "      <th>32559</th>\n",
       "      <td>58</td>\n",
       "      <td>9</td>\n",
       "      <td>0</td>\n",
       "      <td>0</td>\n",
       "      <td>0</td>\n",
       "      <td>0</td>\n",
       "      <td>0</td>\n",
       "      <td>40</td>\n",
       "      <td>0</td>\n",
       "      <td>0</td>\n",
       "    </tr>\n",
       "    <tr>\n",
       "      <th>32560</th>\n",
       "      <td>22</td>\n",
       "      <td>9</td>\n",
       "      <td>0</td>\n",
       "      <td>0</td>\n",
       "      <td>1</td>\n",
       "      <td>0</td>\n",
       "      <td>0</td>\n",
       "      <td>20</td>\n",
       "      <td>0</td>\n",
       "      <td>0</td>\n",
       "    </tr>\n",
       "  </tbody>\n",
       "</table>\n",
       "<p>30162 rows × 10 columns</p>\n",
       "</div>"
      ],
      "text/plain": [
       "       age  education.num  marital.status  race  sex  capital.gain  \\\n",
       "1       82              9               0     0    0             0   \n",
       "3       54              4               0     0    0             0   \n",
       "4       41             10               0     0    0             0   \n",
       "5       34              9               0     0    0             0   \n",
       "6       38              6               0     0    1             0   \n",
       "...    ...            ...             ...   ...  ...           ...   \n",
       "32556   22             10               0     0    1             0   \n",
       "32557   27             12               1     0    0             0   \n",
       "32558   40              9               1     0    1             0   \n",
       "32559   58              9               0     0    0             0   \n",
       "32560   22              9               0     0    1             0   \n",
       "\n",
       "       capital.loss  hours.per.week  native.country  income  \n",
       "1              4356              18               0       0  \n",
       "3              3900              40               0       0  \n",
       "4              3900              40               0       0  \n",
       "5              3770              45               0       0  \n",
       "6              3770              40               0       0  \n",
       "...             ...             ...             ...     ...  \n",
       "32556             0              40               0       0  \n",
       "32557             0              38               0       0  \n",
       "32558             0              40               0       1  \n",
       "32559             0              40               0       0  \n",
       "32560             0              20               0       0  \n",
       "\n",
       "[30162 rows x 10 columns]"
      ]
     },
     "execution_count": 102,
     "metadata": {},
     "output_type": "execute_result"
    }
   ],
   "source": [
    "dataset_orig_clean"
   ]
  },
  {
   "cell_type": "code",
   "execution_count": 103,
   "metadata": {},
   "outputs": [
    {
     "data": {
      "text/plain": [
       "age               int64\n",
       "education.num     int64\n",
       "marital.status    int64\n",
       "race              int64\n",
       "sex               int64\n",
       "capital.gain      int64\n",
       "capital.loss      int64\n",
       "hours.per.week    int64\n",
       "native.country    int64\n",
       "income            int64\n",
       "dtype: object"
      ]
     },
     "execution_count": 103,
     "metadata": {},
     "output_type": "execute_result"
    }
   ],
   "source": [
    "dataset_orig_clean.dtypes"
   ]
  },
  {
   "cell_type": "markdown",
   "metadata": {},
   "source": [
    "### Dataset visual"
   ]
  },
  {
   "cell_type": "code",
   "execution_count": 104,
   "metadata": {},
   "outputs": [
    {
     "name": "stdout",
     "output_type": "stream",
     "text": [
      "income\n",
      "0    22654\n",
      "1     7508\n",
      "Name: count, dtype: int64\n"
     ]
    },
    {
     "data": {
      "text/plain": [
       "<Figure size 5000x5000 with 0 Axes>"
      ]
     },
     "metadata": {},
     "output_type": "display_data"
    },
    {
     "data": {
      "image/png": "[encoded data removed]",
      "text/plain": [
       "<Figure size 640x480 with 12 Axes>"
      ]
     },
     "metadata": {},
     "output_type": "display_data"
    }
   ],
   "source": [
    "# what does the data look like now?\n",
    "plt.figure(figsize=(50,50))\n",
    "\n",
    "print(dataset_orig_clean['income'].value_counts())\n",
    "\n",
    "# Plot the histogram of the dataset\n",
    "dataset_orig_clean.hist()\n",
    "plt.tight_layout()\n"
   ]
  },
  {
   "cell_type": "code",
   "execution_count": 105,
   "metadata": {},
   "outputs": [
    {
     "data": {
      "image/png": "[encoded data removed]",
      "text/plain": [
       "<Figure size 800x600 with 1 Axes>"
      ]
     },
     "metadata": {},
     "output_type": "display_data"
    }
   ],
   "source": [
    "# Count the number of people earning more and less than 50K, divided by gender\n",
    "income_gender_counts = dataset_orig_clean.groupby(['sex', 'income']).size().unstack()\n",
    "# Plot the graph using seaborn\n",
    "plt.figure(figsize=(8,6))\n",
    "ax = sns.countplot(data=dataset_orig_clean, x='sex', hue='income', palette='rocket')\n",
    "plt.xlabel('Gender')\n",
    "plt.ylabel('Number of People')\n",
    "plt.title('Number of People Earning More and Less than 50K by Gender')\n",
    "plt.xticks([0, 1], labels=['Female', 'Male'], rotation=0)\n",
    "plt.legend(['<=50K', '>50K'])\n",
    "plt.show()"
   ]
  },
  {
   "cell_type": "code",
   "execution_count": 106,
   "metadata": {},
   "outputs": [],
   "source": [
    "dataset = BinaryLabelDataset(\n",
    "    df=dataset_orig_clean.copy(),\n",
    "    label_names=['income'],\n",
    "    favorable_label=1,\n",
    "    unfavorable_label=0,\n",
    "    protected_attribute_names=[sensible_attribute])"
   ]
  },
  {
   "cell_type": "markdown",
   "metadata": {},
   "source": [
    "### Split into train and test"
   ]
  },
  {
   "cell_type": "code",
   "execution_count": 107,
   "metadata": {},
   "outputs": [],
   "source": [
    "# Get the dataset and split into train and test\n",
    "dataset_orig_train, dataset_orig_test = dataset.split([0.7], shuffle=True)"
   ]
  },
  {
   "cell_type": "code",
   "execution_count": 108,
   "metadata": {},
   "outputs": [
    {
     "data": {
      "text/markdown": [
       "#### Training & Test dimensions"
      ],
      "text/plain": [
       "<IPython.core.display.Markdown object>"
      ]
     },
     "metadata": {},
     "output_type": "display_data"
    },
    {
     "name": "stdout",
     "output_type": "stream",
     "text": [
      "21113 , 9049\n"
     ]
    }
   ],
   "source": [
    "display(Markdown(\"#### Training & Test dimensions\"))\n",
    "print(dataset_orig_train.features.shape[0],\",\", dataset_orig_test.features.shape[0])"
   ]
  },
  {
   "cell_type": "code",
   "execution_count": 109,
   "metadata": {},
   "outputs": [
    {
     "name": "stdout",
     "output_type": "stream",
     "text": [
      "Percentage of females earning over 50K: 14.98%\n",
      "Number of male workers earning over 50K: 4437\n",
      "Total number of workers earning over 50K: 5219\n"
     ]
    },
    {
     "data": {
      "image/png": "[encoded data removed]",
      "text/plain": [
       "<Figure size 500x500 with 1 Axes>"
      ]
     },
     "metadata": {},
     "output_type": "display_data"
    }
   ],
   "source": [
    "above_50k_graph(dataset_orig_train)"
   ]
  },
  {
   "cell_type": "code",
   "execution_count": 110,
   "metadata": {},
   "outputs": [
    {
     "name": "stdout",
     "output_type": "stream",
     "text": [
      "Percentage of females earning over 50K: 14.42%\n",
      "Number of male workers earning over 50K: 1959\n",
      "Total number of workers earning over 50K: 2289\n"
     ]
    },
    {
     "data": {
      "image/png": "[encoded data removed]",
      "text/plain": [
       "<Figure size 500x500 with 1 Axes>"
      ]
     },
     "metadata": {},
     "output_type": "display_data"
    }
   ],
   "source": [
    "above_50k_graph(dataset_orig_test)"
   ]
  },
  {
   "cell_type": "code",
   "execution_count": 111,
   "metadata": {},
   "outputs": [
    {
     "data": {
      "image/png": "[encoded data removed]",
      "text/plain": [
       "<Figure size 640x480 with 2 Axes>"
      ]
     },
     "metadata": {},
     "output_type": "display_data"
    }
   ],
   "source": [
    "df_test = dataset_orig_test.convert_to_dataframe()[0]\n",
    "g = sns.heatmap(df_test.corr(), annot=False, cmap=\"coolwarm\", linewidths = 0.1)\n",
    "plt.show()"
   ]
  },
  {
   "cell_type": "markdown",
   "metadata": {},
   "source": [
    "#### Display properties of the training dataset"
   ]
  },
  {
   "cell_type": "code",
   "execution_count": 112,
   "metadata": {},
   "outputs": [
    {
     "data": {
      "text/markdown": [
       "#### Training Dataset shape"
      ],
      "text/plain": [
       "<IPython.core.display.Markdown object>"
      ]
     },
     "metadata": {},
     "output_type": "display_data"
    },
    {
     "name": "stdout",
     "output_type": "stream",
     "text": [
      "(21113, 9)\n"
     ]
    },
    {
     "data": {
      "text/markdown": [
       "#### Favorable and unfavorable labels"
      ],
      "text/plain": [
       "<IPython.core.display.Markdown object>"
      ]
     },
     "metadata": {},
     "output_type": "display_data"
    },
    {
     "name": "stdout",
     "output_type": "stream",
     "text": [
      "1.0 0.0\n"
     ]
    },
    {
     "data": {
      "text/markdown": [
       "#### Protected attribute names"
      ],
      "text/plain": [
       "<IPython.core.display.Markdown object>"
      ]
     },
     "metadata": {},
     "output_type": "display_data"
    },
    {
     "name": "stdout",
     "output_type": "stream",
     "text": [
      "['sex']\n"
     ]
    },
    {
     "data": {
      "text/markdown": [
       "#### Privileged and unprivileged protected attribute values"
      ],
      "text/plain": [
       "<IPython.core.display.Markdown object>"
      ]
     },
     "metadata": {},
     "output_type": "display_data"
    },
    {
     "name": "stdout",
     "output_type": "stream",
     "text": [
      "[array([1.])] [array([0.])]\n"
     ]
    },
    {
     "data": {
      "text/markdown": [
       "#### Dataset feature names"
      ],
      "text/plain": [
       "<IPython.core.display.Markdown object>"
      ]
     },
     "metadata": {},
     "output_type": "display_data"
    },
    {
     "name": "stdout",
     "output_type": "stream",
     "text": [
      "['age', 'education.num', 'marital.status', 'race', 'sex', 'capital.gain', 'capital.loss', 'hours.per.week', 'native.country']\n"
     ]
    }
   ],
   "source": [
    "# print out some labels, names, etc.\n",
    "display(Markdown(\"#### Training Dataset shape\"))\n",
    "print(dataset_orig_train.features.shape)\n",
    "display(Markdown(\"#### Favorable and unfavorable labels\"))\n",
    "print(dataset_orig_train.favorable_label, dataset_orig_train.unfavorable_label)\n",
    "display(Markdown(\"#### Protected attribute names\"))\n",
    "print(dataset_orig_train.protected_attribute_names)\n",
    "display(Markdown(\"#### Privileged and unprivileged protected attribute values\"))\n",
    "print(dataset_orig_train.privileged_protected_attributes, \n",
    "      dataset_orig_train.unprivileged_protected_attributes)\n",
    "display(Markdown(\"#### Dataset feature names\"))\n",
    "print(dataset_orig_train.feature_names)"
   ]
  },
  {
   "cell_type": "code",
   "execution_count": 113,
   "metadata": {},
   "outputs": [
    {
     "data": {
      "text/markdown": [
       "#### Original training dataset"
      ],
      "text/plain": [
       "<IPython.core.display.Markdown object>"
      ]
     },
     "metadata": {},
     "output_type": "display_data"
    },
    {
     "name": "stdout",
     "output_type": "stream",
     "text": [
      "Statistical Parity Difference or Difference in mean outcomes between unprivileged and privileged groups = -0.196578\n"
     ]
    }
   ],
   "source": [
    "metric_orig_train = BinaryLabelDatasetMetric(dataset_orig_train, \n",
    "                                             unprivileged_groups=unprivileged_groups,\n",
    "                                             privileged_groups=privileged_groups)\n",
    "display(Markdown(\"#### Original training dataset\"))\n",
    "print(\"Statistical Parity Difference or Difference in mean outcomes between unprivileged and privileged groups = %f\" % metric_orig_train.mean_difference())"
   ]
  },
  {
   "cell_type": "markdown",
   "metadata": {},
   "source": [
    "### Train classifier on original data"
   ]
  },
  {
   "cell_type": "code",
   "execution_count": 114,
   "metadata": {},
   "outputs": [],
   "source": [
    "scale_orig = StandardScaler()\n",
    "X_train = scale_orig.fit_transform(dataset_orig_train.features)\n",
    "y_train = dataset_orig_train.labels.ravel()"
   ]
  },
  {
   "cell_type": "code",
   "execution_count": 115,
   "metadata": {},
   "outputs": [],
   "source": [
    "if model == \"Decision Tree\":\n",
    "    model_instance = DecisionTreeClassifier(max_features=14,min_samples_leaf=100,random_state=10)\n",
    "    model_instance.fit(X_train, y_train)\n",
    "    y_train_pred = model_instance.predict(X_train)\n",
    "elif model == \"Logistic Regression\":\n",
    "    model_instance = LogisticRegression(random_state=101)\n",
    "    model_instance.fit(X_train, y_train)\n",
    "    y_train_pred = model_instance.predict(X_train)\n",
    "\n",
    "\n",
    "\n",
    "# positive class index\n",
    "pos_ind = np.where(model_instance.classes_ == dataset_orig_train.favorable_label)[0][0]\n",
    "\n",
    "dataset_orig_train_pred = dataset_orig_train.copy(deepcopy=True)\n",
    "dataset_orig_train_pred.labels = y_train_pred\n"
   ]
  },
  {
   "cell_type": "code",
   "execution_count": 116,
   "metadata": {},
   "outputs": [
    {
     "name": "stdout",
     "output_type": "stream",
     "text": [
      "Percentage of females earning over 50K: 11.87%\n",
      "Number of male workers earning over 50K: 3505\n",
      "Total number of workers earning over 50K: 3977\n"
     ]
    },
    {
     "data": {
      "image/png": "[encoded data removed]",
      "text/plain": [
       "<Figure size 500x500 with 1 Axes>"
      ]
     },
     "metadata": {},
     "output_type": "display_data"
    }
   ],
   "source": [
    "df_train_pred = dataset_orig_train_pred.copy(deepcopy=True)\n",
    "df_train_pred.labels = df_train_pred.labels.reshape(-1, 1)\n",
    "df_train_pred = df_train_pred.convert_to_dataframe()[0]\n",
    "\n",
    "\n",
    "above_50k_graph_df(df_train_pred)\n"
   ]
  },
  {
   "cell_type": "code",
   "execution_count": 117,
   "metadata": {},
   "outputs": [
    {
     "name": "stdout",
     "output_type": "stream",
     "text": [
      "Criterion: gini\n",
      "Depth: 14\n",
      "Min samples per leaf: 100\n",
      "Feature importances:  [('age', np.float64(0.06238730231097795)), ('education.num', np.float64(0.24985205796354795)), ('marital.status', np.float64(0.4093632003785486)), ('race', np.float64(0.0)), ('sex', np.float64(0.004117514955309507)), ('capital.gain', np.float64(0.20620801248042264)), ('capital.loss', np.float64(0.03225903250979686)), ('hours.per.week', np.float64(0.03577343401530113)), ('native.country', np.float64(3.94453860952947e-05))]\n"
     ]
    }
   ],
   "source": [
    "if model == \"Decision Tree\":\n",
    "    print(\"Criterion:\", model_instance.criterion)\n",
    "    print(\"Depth:\", model_instance.get_depth())\n",
    "    print(\"Min samples per leaf:\", model_instance.min_samples_leaf)\n",
    "    print(\"Feature importances: \",list(zip(dataset_orig_train.feature_names, model_instance.feature_importances_)))\n"
   ]
  },
  {
   "cell_type": "code",
   "execution_count": 118,
   "metadata": {},
   "outputs": [
    {
     "data": {
      "text/plain": [
       "0.8498555392412258"
      ]
     },
     "execution_count": 118,
     "metadata": {},
     "output_type": "execute_result"
    }
   ],
   "source": [
    "accuracy_score(dataset_orig_train.labels, dataset_orig_train_pred.labels)"
   ]
  },
  {
   "cell_type": "markdown",
   "metadata": {},
   "source": [
    "### Obtain scores for test set and find the optimal parameters from the test set"
   ]
  },
  {
   "cell_type": "code",
   "execution_count": 119,
   "metadata": {},
   "outputs": [],
   "source": [
    "dataset_orig_test_pred = dataset_orig_test.copy(deepcopy=True)\n",
    "X_test = scale_orig.transform(dataset_orig_test_pred.features)\n",
    "y_test = dataset_orig_test_pred.labels\n",
    "dataset_orig_test_pred.scores = model_instance.predict_proba(X_test)[:,pos_ind].reshape(-1,1)"
   ]
  },
  {
   "cell_type": "markdown",
   "metadata": {},
   "source": [
    "#### Best threshold for classification only (no fairness)"
   ]
  },
  {
   "cell_type": "markdown",
   "metadata": {},
   "source": [
    "if one label is more common than the other label, then the dataset is imbalanced -> balanced accuracy\n",
    "\n",
    "0.5*(classified_metric_orig_test.true_positive_rate() + classified_metric_orig_test.true_negative_rate())"
   ]
  },
  {
   "cell_type": "code",
   "execution_count": 120,
   "metadata": {},
   "outputs": [
    {
     "name": "stdout",
     "output_type": "stream",
     "text": [
      "Best balanced accuracy (no fairness constraints) = 0.8105\n",
      "Optimal classification threshold (no fairness constraints) = 0.2575\n"
     ]
    }
   ],
   "source": [
    "num_thresh = 100\n",
    "ba_arr = np.zeros(num_thresh)\n",
    "class_thresh_arr = np.linspace(0.01, 0.99, num_thresh)\n",
    "for idx, class_thresh in enumerate(class_thresh_arr):\n",
    "    \n",
    "    fav_inds = dataset_orig_test_pred.scores > class_thresh\n",
    "    dataset_orig_test_pred.labels[fav_inds] = dataset_orig_test_pred.favorable_label\n",
    "    dataset_orig_test_pred.labels[~fav_inds] = dataset_orig_test_pred.unfavorable_label\n",
    "    \n",
    "    classified_metric_orig_test = ClassificationMetric(dataset_orig_test,\n",
    "                                             dataset_orig_test_pred, \n",
    "                                             unprivileged_groups=unprivileged_groups,\n",
    "                                             privileged_groups=privileged_groups)\n",
    "    \n",
    "    ba_arr[idx] = balanced_accuracy_score(dataset_orig_test.labels, dataset_orig_test_pred.labels)\n",
    "\n",
    "best_ind = np.where(ba_arr == np.max(ba_arr))[0][0]\n",
    "best_class_thresh = class_thresh_arr[best_ind]\n",
    "\n",
    "print(\"Best balanced accuracy (no fairness constraints) = %.4f\" % np.max(ba_arr))\n",
    "\n",
    "print(\"Optimal classification threshold (no fairness constraints) = %.4f\" % best_class_thresh)"
   ]
  },
  {
   "cell_type": "markdown",
   "metadata": {},
   "source": [
    "### Post-procesing technique"
   ]
  },
  {
   "cell_type": "markdown",
   "metadata": {},
   "source": [
    "#### Estimate optimal parameters for the ROC method"
   ]
  },
  {
   "cell_type": "code",
   "execution_count": 121,
   "metadata": {},
   "outputs": [],
   "source": [
    "# Upper and lower bound on the fairness metric used\n",
    "metric_ub = 0.05\n",
    "metric_lb = -0.05"
   ]
  },
  {
   "cell_type": "code",
   "execution_count": 122,
   "metadata": {},
   "outputs": [],
   "source": [
    "ROC = RejectOptionClassification(unprivileged_groups=unprivileged_groups, \n",
    "                                 privileged_groups=privileged_groups, \n",
    "                                 low_class_thresh=0.1, high_class_thresh=0.9,\n",
    "                                  num_class_thresh=100, num_ROC_margin=50,\n",
    "                                  metric_name=metric_name,\n",
    "                                  metric_ub=metric_ub, metric_lb=metric_lb)\n",
    "ROC = ROC.fit(dataset_orig_test, dataset_orig_test_pred)"
   ]
  },
  {
   "cell_type": "code",
   "execution_count": 123,
   "metadata": {},
   "outputs": [
    {
     "name": "stdout",
     "output_type": "stream",
     "text": [
      "Optimal classification threshold (with fairness constraints) = 0.2131\n",
      "Optimal ROC margin = 0.1522\n"
     ]
    }
   ],
   "source": [
    "print(\"Optimal classification threshold (with fairness constraints) = %.4f\" % ROC.classification_threshold)\n",
    "print(\"Optimal ROC margin = %.4f\" % ROC.ROC_margin)"
   ]
  },
  {
   "cell_type": "markdown",
   "metadata": {},
   "source": [
    "#### Predictions from Test Set"
   ]
  },
  {
   "cell_type": "code",
   "execution_count": 124,
   "metadata": {},
   "outputs": [
    {
     "data": {
      "text/markdown": [
       "#### Test set"
      ],
      "text/plain": [
       "<IPython.core.display.Markdown object>"
      ]
     },
     "metadata": {},
     "output_type": "display_data"
    },
    {
     "data": {
      "text/markdown": [
       "##### Raw predictions - No fairness constraints, only maximizing balanced accuracy"
      ],
      "text/plain": [
       "<IPython.core.display.Markdown object>"
      ]
     },
     "metadata": {},
     "output_type": "display_data"
    },
    {
     "name": "stdout",
     "output_type": "stream",
     "text": [
      "Accuracy = 0.8025\n",
      "Recall = 0.8266\n",
      "Precision = 0.5765\n",
      "Balanced accuracy = 0.8105\n",
      "Statistical parity difference = -0.3681\n",
      "Disparate impact = 0.2369\n",
      "Average odds difference = -0.2466\n",
      "Equal opportunity difference = -0.2399\n"
     ]
    }
   ],
   "source": [
    "# Metrics for the test set\n",
    "# if the probability of the positive class is greater than or equal to best_class_thresh, the sample will be classified as positive\n",
    "fav_inds = dataset_orig_test_pred.scores > best_class_thresh\n",
    "dataset_orig_test_pred.labels[fav_inds] = dataset_orig_test_pred.favorable_label\n",
    "dataset_orig_test_pred.labels[~fav_inds] = dataset_orig_test_pred.unfavorable_label\n",
    "\n",
    "display(Markdown(\"#### Test set\"))\n",
    "display(Markdown(\"##### Raw predictions - No fairness constraints, only maximizing balanced accuracy\"))\n",
    "\n",
    "metric_cl_test_bef = compute_cl_metrics(dataset_orig_test, dataset_orig_test_pred)\n",
    "metric_fn_test_bef = compute_fn_metrics(dataset_orig_test, dataset_orig_test_pred, unprivileged_groups, privileged_groups)"
   ]
  },
  {
   "cell_type": "code",
   "execution_count": 125,
   "metadata": {},
   "outputs": [
    {
     "data": {
      "text/plain": [
       "<Figure size 300x300 with 0 Axes>"
      ]
     },
     "metadata": {},
     "output_type": "display_data"
    },
    {
     "data": {
      "image/png": "[encoded data removed]",
      "text/plain": [
       "<Figure size 640x480 with 2 Axes>"
      ]
     },
     "metadata": {},
     "output_type": "display_data"
    }
   ],
   "source": [
    "conf_matrix(dataset_orig_test, dataset_orig_test_pred)"
   ]
  },
  {
   "cell_type": "code",
   "execution_count": 126,
   "metadata": {},
   "outputs": [
    {
     "name": "stdout",
     "output_type": "stream",
     "text": [
      "Percentage of females earning over 50K: 10.24%\n",
      "Number of male workers earning over 50K: 2946\n",
      "Total number of workers earning over 50K: 3282\n"
     ]
    },
    {
     "data": {
      "image/png": "[encoded data removed]",
      "text/plain": [
       "<Figure size 500x500 with 1 Axes>"
      ]
     },
     "metadata": {},
     "output_type": "display_data"
    }
   ],
   "source": [
    "above_50k_graph(dataset_orig_test_pred)"
   ]
  },
  {
   "cell_type": "markdown",
   "metadata": {},
   "source": [
    "#### ROC prediction"
   ]
  },
  {
   "cell_type": "code",
   "execution_count": 127,
   "metadata": {},
   "outputs": [
    {
     "data": {
      "text/markdown": [
       "#### Test set"
      ],
      "text/plain": [
       "<IPython.core.display.Markdown object>"
      ]
     },
     "metadata": {},
     "output_type": "display_data"
    },
    {
     "data": {
      "text/markdown": [
       "##### Transformed predictions - With fairness constraints"
      ],
      "text/plain": [
       "<IPython.core.display.Markdown object>"
      ]
     },
     "metadata": {},
     "output_type": "display_data"
    },
    {
     "name": "stdout",
     "output_type": "stream",
     "text": [
      "Accuracy = 0.7901\n",
      "Recall = 0.7671\n",
      "Precision = 0.5625\n",
      "Balanced accuracy = 0.7825\n",
      "Statistical parity difference = -0.0497\n",
      "Disparate impact = 0.8624\n",
      "Average odds difference = 0.1105\n",
      "Equal opportunity difference = 0.1659\n"
     ]
    }
   ],
   "source": [
    "# Metrics for the transformed test set\n",
    "dataset_transf_test_pred = ROC.predict(dataset_orig_test_pred)\n",
    "\n",
    "display(Markdown(\"#### Test set\"))\n",
    "display(Markdown(\"##### Transformed predictions - With fairness constraints\"))\n",
    "metric_cl_test_aft = compute_cl_metrics(dataset_orig_test, dataset_transf_test_pred)\n",
    "metric_fn_test_aft = compute_fn_metrics(dataset_orig_test, dataset_transf_test_pred, \n",
    "                unprivileged_groups, privileged_groups)"
   ]
  },
  {
   "cell_type": "code",
   "execution_count": 128,
   "metadata": {},
   "outputs": [
    {
     "data": {
      "text/plain": [
       "<Figure size 300x300 with 0 Axes>"
      ]
     },
     "metadata": {},
     "output_type": "display_data"
    },
    {
     "data": {
      "image/png": "[encoded data removed]",
      "text/plain": [
       "<Figure size 640x480 with 2 Axes>"
      ]
     },
     "metadata": {},
     "output_type": "display_data"
    }
   ],
   "source": [
    "conf_matrix(dataset_orig_test, dataset_transf_test_pred)"
   ]
  },
  {
   "cell_type": "code",
   "execution_count": 129,
   "metadata": {},
   "outputs": [
    {
     "name": "stdout",
     "output_type": "stream",
     "text": [
      "Percentage of females earning over 50K: 29.34%\n",
      "Number of male workers earning over 50K: 2206\n",
      "Total number of workers earning over 50K: 3122\n"
     ]
    },
    {
     "data": {
      "image/png": "[encoded data removed]",
      "text/plain": [
       "<Figure size 500x500 with 1 Axes>"
      ]
     },
     "metadata": {},
     "output_type": "display_data"
    }
   ],
   "source": [
    "above_50k_graph(dataset_transf_test_pred)"
   ]
  },
  {
   "cell_type": "markdown",
   "metadata": {},
   "source": [
    "### Evaluation Metrics For Classification Model and Fairness"
   ]
  },
  {
   "cell_type": "code",
   "execution_count": 130,
   "metadata": {},
   "outputs": [
    {
     "data": {
      "image/png": "[encoded data removed]",
      "text/plain": [
       "<Figure size 1000x600 with 1 Axes>"
      ]
     },
     "metadata": {},
     "output_type": "display_data"
    }
   ],
   "source": [
    "plot_metrics(metric_cl_test_bef, metric_cl_test_aft)"
   ]
  },
  {
   "cell_type": "code",
   "execution_count": 131,
   "metadata": {},
   "outputs": [
    {
     "data": {
      "image/png": "[encoded data removed]",
      "text/plain": [
       "<Figure size 1000x600 with 1 Axes>"
      ]
     },
     "metadata": {},
     "output_type": "display_data"
    }
   ],
   "source": [
    "plot_metrics(metric_fn_test_bef, metric_fn_test_aft)"
   ]
  },
  {
   "cell_type": "code",
   "execution_count": 132,
   "metadata": {},
   "outputs": [
    {
     "data": {
      "text/html": [
       "<div>\n",
       "<style scoped>\n",
       "    .dataframe tbody tr th:only-of-type {\n",
       "        vertical-align: middle;\n",
       "    }\n",
       "\n",
       "    .dataframe tbody tr th {\n",
       "        vertical-align: top;\n",
       "    }\n",
       "\n",
       "    .dataframe thead th {\n",
       "        text-align: right;\n",
       "    }\n",
       "</style>\n",
       "<table border=\"1\" class=\"dataframe\">\n",
       "  <thead>\n",
       "    <tr style=\"text-align: right;\">\n",
       "      <th></th>\n",
       "      <th>Metric</th>\n",
       "      <th>Before</th>\n",
       "      <th>After</th>\n",
       "      <th>Percentage Change</th>\n",
       "    </tr>\n",
       "  </thead>\n",
       "  <tbody>\n",
       "    <tr>\n",
       "      <th>0</th>\n",
       "      <td>Statistical parity difference</td>\n",
       "      <td>-0.368071</td>\n",
       "      <td>-0.049707</td>\n",
       "      <td>-86.50%</td>\n",
       "    </tr>\n",
       "    <tr>\n",
       "      <th>1</th>\n",
       "      <td>Disparate impact</td>\n",
       "      <td>0.236870</td>\n",
       "      <td>0.862371</td>\n",
       "      <td>264.07%</td>\n",
       "    </tr>\n",
       "    <tr>\n",
       "      <th>2</th>\n",
       "      <td>Average odds difference</td>\n",
       "      <td>-0.246608</td>\n",
       "      <td>0.110507</td>\n",
       "      <td>-144.81%</td>\n",
       "    </tr>\n",
       "    <tr>\n",
       "      <th>3</th>\n",
       "      <td>Equal opportunity difference</td>\n",
       "      <td>-0.239942</td>\n",
       "      <td>0.165855</td>\n",
       "      <td>-169.12%</td>\n",
       "    </tr>\n",
       "  </tbody>\n",
       "</table>\n",
       "</div>"
      ],
      "text/plain": [
       "                          Metric    Before     After Percentage Change\n",
       "0  Statistical parity difference -0.368071 -0.049707           -86.50%\n",
       "1               Disparate impact  0.236870  0.862371           264.07%\n",
       "2        Average odds difference -0.246608  0.110507          -144.81%\n",
       "3   Equal opportunity difference -0.239942  0.165855          -169.12%"
      ]
     },
     "execution_count": 132,
     "metadata": {},
     "output_type": "execute_result"
    }
   ],
   "source": [
    "df_metrics = pd.DataFrame({\n",
    "    'Metric': list(metric_fn_test_bef.keys()),\n",
    "    'Before': list(metric_fn_test_bef.values()),\n",
    "    'After': list(metric_fn_test_aft.values())\n",
    "})\n",
    "\n",
    "# Calculate the percentage change\n",
    "df_metrics['Percentage Change'] = ((df_metrics['After'] - df_metrics['Before']) / df_metrics['Before']) * 100\n",
    "df_metrics['Percentage Change'] = df_metrics['Percentage Change'].apply(lambda x: f\"{x:.2f}%\")\n",
    "df_metrics"
   ]
  },
  {
   "cell_type": "markdown",
   "metadata": {},
   "source": [
    "## Association rules\n",
    "\n",
    "- Support: The proportion of transactions in the dataset where both antecedent and consequent are present.\n",
    "    - Measures how frequently a rule is observed in the dataset.\n",
    "- Confidence: The ratio of the number of times both antecedent and consequent occur together to the number of times the antecedent occurs.\n",
    "    - Represents how often the rule is true."
   ]
  },
  {
   "cell_type": "markdown",
   "metadata": {},
   "source": [
    "**FP-GROWTH**\n",
    "\n",
    "Compress a large database into a compact, Frequent-Pattern tree (FP-tree) structure.\n",
    "\n",
    "Datasets are encoded using a compact structure, the FP-tree.\n",
    "\n",
    "Frequent itemsets are extracted directly from the FP-tree.\n",
    "\n",
    "***GOAL*** To avoid candidate generation (computationally expensive)\n",
    "\n",
    "Main steps:\n",
    "\n",
    "    1. Construct the frequent pattern tree\n",
    "    2. For each frequent item: compute the projected FP-tree\n",
    "    3. Mine conditional FP-trees and grow frequent patterns\n",
    "    4. If the conditional FP-tree contains a single path: enumerate all the patterns\n"
   ]
  },
  {
   "cell_type": "code",
   "execution_count": 133,
   "metadata": {},
   "outputs": [],
   "source": [
    "def compute_and_print_association_rules(dataset, min_support=0.2, min_confidence=0.5):\n",
    "    # Convert the dataset to a DataFrame\n",
    "    pd_converted = dataset.convert_to_dataframe()[0]\n",
    "\n",
    "    # Process 'sex' column\n",
    "    pd_converted['male'] = pd_converted['sex'].apply(lambda x: 1 if x == 1 else 0)\n",
    "    pd_converted['female'] = pd_converted['sex'].apply(lambda x: 1 if x == 0 else 0)\n",
    "    pd_converted.drop(columns='sex', inplace=True)\n",
    "\n",
    "    # Process 'race' column\n",
    "    pd_converted['white'] = pd_converted['race'].apply(lambda x: 1 if x == 1 else 0)\n",
    "    pd_converted['nwhite'] = pd_converted['race'].apply(lambda x: 1 if x == 0 else 0)\n",
    "    pd_converted.drop(columns='race', inplace=True)\n",
    "\n",
    "    # Process 'income' column\n",
    "    pd_converted['>50K'] = pd_converted['income'].apply(lambda x: 1 if x == 1 else 0)\n",
    "    pd_converted['<50K'] = pd_converted['income'].apply(lambda x: 1 if x == 0 else 0)\n",
    "    pd_converted.drop(columns='income', inplace=True)\n",
    "\n",
    "    # Create a binary representation of transactions\n",
    "    df_transactions = pd_converted.map(lambda x: True if x > 0 else False)\n",
    "\n",
    "    # Apply FP-growth algorithm to find frequent itemsets\n",
    "    frequent_itemsets = fpgrowth(df_transactions, min_support=min_support, use_colnames=True)\n",
    "\n",
    "    # Extract association rules with min confidence\n",
    "    res = association_rules(frequent_itemsets, metric=\"confidence\", min_threshold=min_confidence)\n",
    "\n",
    "    # Filter rules with consequents '<=50K' and '>50K'\n",
    "    res_min50 = res[res['consequents'] == {'<50K'}]\n",
    "    res_max50 = res[res['consequents'] == {'>50K'}]\n",
    "\n",
    "    \n",
    "    return(res_min50,res_max50)\n",
    "\n",
    "    # Print sorted results\n",
    "    # print(\"Rules with consequents '<=50K':\")\n",
    "    # print(res_min50.sort_values(\"confidence\", ascending=False))\n",
    "\n",
    "    # print(\"\\nRules with consequents '>50K':\")\n",
    "    # print(res_max50.sort_values(\"confidence\", ascending=False))"
   ]
  },
  {
   "cell_type": "code",
   "execution_count": 134,
   "metadata": {},
   "outputs": [],
   "source": [
    "def income_association_rules(dataset, min_support=0.2, min_confidence=0.5):\n",
    "    # Convert the dataset to a DataFrame\n",
    "    pd_converted = dataset.convert_to_dataframe()[0]\n",
    "\n",
    "    # Create a binary representation of transactions\n",
    "    df_transactions = pd_converted.map(lambda x: True if x > 0 else False)\n",
    "\n",
    "    # Apply FP-growth algorithm to find frequent itemsets\n",
    "    frequent_itemsets = fpgrowth(df_transactions, min_support=min_support, use_colnames=True)\n",
    "\n",
    "    # Extract association rules with min confidence\n",
    "    res = association_rules(frequent_itemsets, metric=\"confidence\", min_threshold=min_confidence)\n",
    "\n",
    "    # Filter rules with consequents '<=50K' and '>50K'\n",
    "    res_min50 = res[res['consequents'] == {'0'}]\n",
    "    res_max50 = res[res['consequents'] == {'1'}]\n",
    "\n",
    "    \n",
    "    return(res_min50,res_max50)"
   ]
  },
  {
   "cell_type": "code",
   "execution_count": 135,
   "metadata": {},
   "outputs": [
    {
     "data": {
      "text/html": [
       "<div>\n",
       "<style scoped>\n",
       "    .dataframe tbody tr th:only-of-type {\n",
       "        vertical-align: middle;\n",
       "    }\n",
       "\n",
       "    .dataframe tbody tr th {\n",
       "        vertical-align: top;\n",
       "    }\n",
       "\n",
       "    .dataframe thead th {\n",
       "        text-align: right;\n",
       "    }\n",
       "</style>\n",
       "<table border=\"1\" class=\"dataframe\">\n",
       "  <thead>\n",
       "    <tr style=\"text-align: right;\">\n",
       "      <th></th>\n",
       "      <th>age</th>\n",
       "      <th>education.num</th>\n",
       "      <th>marital.status</th>\n",
       "      <th>race</th>\n",
       "      <th>sex</th>\n",
       "      <th>capital.gain</th>\n",
       "      <th>capital.loss</th>\n",
       "      <th>hours.per.week</th>\n",
       "      <th>native.country</th>\n",
       "      <th>income</th>\n",
       "    </tr>\n",
       "  </thead>\n",
       "  <tbody>\n",
       "    <tr>\n",
       "      <th>1</th>\n",
       "      <td>True</td>\n",
       "      <td>True</td>\n",
       "      <td>False</td>\n",
       "      <td>False</td>\n",
       "      <td>False</td>\n",
       "      <td>False</td>\n",
       "      <td>True</td>\n",
       "      <td>True</td>\n",
       "      <td>False</td>\n",
       "      <td>False</td>\n",
       "    </tr>\n",
       "    <tr>\n",
       "      <th>3</th>\n",
       "      <td>True</td>\n",
       "      <td>True</td>\n",
       "      <td>False</td>\n",
       "      <td>False</td>\n",
       "      <td>False</td>\n",
       "      <td>False</td>\n",
       "      <td>True</td>\n",
       "      <td>True</td>\n",
       "      <td>False</td>\n",
       "      <td>False</td>\n",
       "    </tr>\n",
       "    <tr>\n",
       "      <th>4</th>\n",
       "      <td>True</td>\n",
       "      <td>True</td>\n",
       "      <td>False</td>\n",
       "      <td>False</td>\n",
       "      <td>False</td>\n",
       "      <td>False</td>\n",
       "      <td>True</td>\n",
       "      <td>True</td>\n",
       "      <td>False</td>\n",
       "      <td>False</td>\n",
       "    </tr>\n",
       "    <tr>\n",
       "      <th>5</th>\n",
       "      <td>True</td>\n",
       "      <td>True</td>\n",
       "      <td>False</td>\n",
       "      <td>False</td>\n",
       "      <td>False</td>\n",
       "      <td>False</td>\n",
       "      <td>True</td>\n",
       "      <td>True</td>\n",
       "      <td>False</td>\n",
       "      <td>False</td>\n",
       "    </tr>\n",
       "    <tr>\n",
       "      <th>6</th>\n",
       "      <td>True</td>\n",
       "      <td>True</td>\n",
       "      <td>False</td>\n",
       "      <td>False</td>\n",
       "      <td>True</td>\n",
       "      <td>False</td>\n",
       "      <td>True</td>\n",
       "      <td>True</td>\n",
       "      <td>False</td>\n",
       "      <td>False</td>\n",
       "    </tr>\n",
       "    <tr>\n",
       "      <th>...</th>\n",
       "      <td>...</td>\n",
       "      <td>...</td>\n",
       "      <td>...</td>\n",
       "      <td>...</td>\n",
       "      <td>...</td>\n",
       "      <td>...</td>\n",
       "      <td>...</td>\n",
       "      <td>...</td>\n",
       "      <td>...</td>\n",
       "      <td>...</td>\n",
       "    </tr>\n",
       "    <tr>\n",
       "      <th>32556</th>\n",
       "      <td>True</td>\n",
       "      <td>True</td>\n",
       "      <td>False</td>\n",
       "      <td>False</td>\n",
       "      <td>True</td>\n",
       "      <td>False</td>\n",
       "      <td>False</td>\n",
       "      <td>True</td>\n",
       "      <td>False</td>\n",
       "      <td>False</td>\n",
       "    </tr>\n",
       "    <tr>\n",
       "      <th>32557</th>\n",
       "      <td>True</td>\n",
       "      <td>True</td>\n",
       "      <td>True</td>\n",
       "      <td>False</td>\n",
       "      <td>False</td>\n",
       "      <td>False</td>\n",
       "      <td>False</td>\n",
       "      <td>True</td>\n",
       "      <td>False</td>\n",
       "      <td>False</td>\n",
       "    </tr>\n",
       "    <tr>\n",
       "      <th>32558</th>\n",
       "      <td>True</td>\n",
       "      <td>True</td>\n",
       "      <td>True</td>\n",
       "      <td>False</td>\n",
       "      <td>True</td>\n",
       "      <td>False</td>\n",
       "      <td>False</td>\n",
       "      <td>True</td>\n",
       "      <td>False</td>\n",
       "      <td>True</td>\n",
       "    </tr>\n",
       "    <tr>\n",
       "      <th>32559</th>\n",
       "      <td>True</td>\n",
       "      <td>True</td>\n",
       "      <td>False</td>\n",
       "      <td>False</td>\n",
       "      <td>False</td>\n",
       "      <td>False</td>\n",
       "      <td>False</td>\n",
       "      <td>True</td>\n",
       "      <td>False</td>\n",
       "      <td>False</td>\n",
       "    </tr>\n",
       "    <tr>\n",
       "      <th>32560</th>\n",
       "      <td>True</td>\n",
       "      <td>True</td>\n",
       "      <td>False</td>\n",
       "      <td>False</td>\n",
       "      <td>True</td>\n",
       "      <td>False</td>\n",
       "      <td>False</td>\n",
       "      <td>True</td>\n",
       "      <td>False</td>\n",
       "      <td>False</td>\n",
       "    </tr>\n",
       "  </tbody>\n",
       "</table>\n",
       "<p>30162 rows × 10 columns</p>\n",
       "</div>"
      ],
      "text/plain": [
       "        age  education.num  marital.status   race    sex  capital.gain  \\\n",
       "1      True           True           False  False  False         False   \n",
       "3      True           True           False  False  False         False   \n",
       "4      True           True           False  False  False         False   \n",
       "5      True           True           False  False  False         False   \n",
       "6      True           True           False  False   True         False   \n",
       "...     ...            ...             ...    ...    ...           ...   \n",
       "32556  True           True           False  False   True         False   \n",
       "32557  True           True            True  False  False         False   \n",
       "32558  True           True            True  False   True         False   \n",
       "32559  True           True           False  False  False         False   \n",
       "32560  True           True           False  False   True         False   \n",
       "\n",
       "       capital.loss  hours.per.week  native.country  income  \n",
       "1              True            True           False   False  \n",
       "3              True            True           False   False  \n",
       "4              True            True           False   False  \n",
       "5              True            True           False   False  \n",
       "6              True            True           False   False  \n",
       "...             ...             ...             ...     ...  \n",
       "32556         False            True           False   False  \n",
       "32557         False            True           False   False  \n",
       "32558         False            True           False    True  \n",
       "32559         False            True           False   False  \n",
       "32560         False            True           False   False  \n",
       "\n",
       "[30162 rows x 10 columns]"
      ]
     },
     "execution_count": 135,
     "metadata": {},
     "output_type": "execute_result"
    }
   ],
   "source": [
    "# Convert the dataset to a DataFrame\n",
    "pd_converted = dataset.convert_to_dataframe()[0]\n",
    "\n",
    "# Create a binary representation of transactions\n",
    "df_transactions = pd_converted.map(lambda x: True if x > 0 else False)\n",
    "\n",
    "df_transactions"
   ]
  },
  {
   "cell_type": "code",
   "execution_count": 136,
   "metadata": {},
   "outputs": [
    {
     "data": {
      "text/html": [
       "<div>\n",
       "<style scoped>\n",
       "    .dataframe tbody tr th:only-of-type {\n",
       "        vertical-align: middle;\n",
       "    }\n",
       "\n",
       "    .dataframe tbody tr th {\n",
       "        vertical-align: top;\n",
       "    }\n",
       "\n",
       "    .dataframe thead th {\n",
       "        text-align: right;\n",
       "    }\n",
       "</style>\n",
       "<table border=\"1\" class=\"dataframe\">\n",
       "  <thead>\n",
       "    <tr style=\"text-align: right;\">\n",
       "      <th></th>\n",
       "      <th>support</th>\n",
       "      <th>itemsets</th>\n",
       "    </tr>\n",
       "  </thead>\n",
       "  <tbody>\n",
       "    <tr>\n",
       "      <th>0</th>\n",
       "      <td>1.000000</td>\n",
       "      <td>(hours.per.week)</td>\n",
       "    </tr>\n",
       "    <tr>\n",
       "      <th>1</th>\n",
       "      <td>1.000000</td>\n",
       "      <td>(age)</td>\n",
       "    </tr>\n",
       "    <tr>\n",
       "      <th>2</th>\n",
       "      <td>1.000000</td>\n",
       "      <td>(education.num)</td>\n",
       "    </tr>\n",
       "    <tr>\n",
       "      <th>3</th>\n",
       "      <td>0.675685</td>\n",
       "      <td>(sex)</td>\n",
       "    </tr>\n",
       "    <tr>\n",
       "      <th>4</th>\n",
       "      <td>0.248922</td>\n",
       "      <td>(income)</td>\n",
       "    </tr>\n",
       "    <tr>\n",
       "      <th>5</th>\n",
       "      <td>0.479279</td>\n",
       "      <td>(marital.status)</td>\n",
       "    </tr>\n",
       "    <tr>\n",
       "      <th>6</th>\n",
       "      <td>1.000000</td>\n",
       "      <td>(age, hours.per.week)</td>\n",
       "    </tr>\n",
       "    <tr>\n",
       "      <th>7</th>\n",
       "      <td>1.000000</td>\n",
       "      <td>(age, education.num)</td>\n",
       "    </tr>\n",
       "    <tr>\n",
       "      <th>8</th>\n",
       "      <td>1.000000</td>\n",
       "      <td>(hours.per.week, education.num)</td>\n",
       "    </tr>\n",
       "    <tr>\n",
       "      <th>9</th>\n",
       "      <td>1.000000</td>\n",
       "      <td>(age, hours.per.week, education.num)</td>\n",
       "    </tr>\n",
       "    <tr>\n",
       "      <th>10</th>\n",
       "      <td>0.675685</td>\n",
       "      <td>(sex, education.num)</td>\n",
       "    </tr>\n",
       "    <tr>\n",
       "      <th>11</th>\n",
       "      <td>0.675685</td>\n",
       "      <td>(age, sex)</td>\n",
       "    </tr>\n",
       "    <tr>\n",
       "      <th>12</th>\n",
       "      <td>0.675685</td>\n",
       "      <td>(sex, hours.per.week)</td>\n",
       "    </tr>\n",
       "    <tr>\n",
       "      <th>13</th>\n",
       "      <td>0.675685</td>\n",
       "      <td>(age, sex, education.num)</td>\n",
       "    </tr>\n",
       "    <tr>\n",
       "      <th>14</th>\n",
       "      <td>0.675685</td>\n",
       "      <td>(hours.per.week, sex, education.num)</td>\n",
       "    </tr>\n",
       "    <tr>\n",
       "      <th>15</th>\n",
       "      <td>0.675685</td>\n",
       "      <td>(age, sex, hours.per.week)</td>\n",
       "    </tr>\n",
       "    <tr>\n",
       "      <th>16</th>\n",
       "      <td>0.675685</td>\n",
       "      <td>(age, hours.per.week, sex, education.num)</td>\n",
       "    </tr>\n",
       "    <tr>\n",
       "      <th>17</th>\n",
       "      <td>0.248922</td>\n",
       "      <td>(income, education.num)</td>\n",
       "    </tr>\n",
       "    <tr>\n",
       "      <th>18</th>\n",
       "      <td>0.248922</td>\n",
       "      <td>(age, income)</td>\n",
       "    </tr>\n",
       "    <tr>\n",
       "      <th>19</th>\n",
       "      <td>0.248922</td>\n",
       "      <td>(income, hours.per.week)</td>\n",
       "    </tr>\n",
       "    <tr>\n",
       "      <th>20</th>\n",
       "      <td>0.212055</td>\n",
       "      <td>(income, sex)</td>\n",
       "    </tr>\n",
       "    <tr>\n",
       "      <th>21</th>\n",
       "      <td>0.213514</td>\n",
       "      <td>(income, marital.status)</td>\n",
       "    </tr>\n",
       "    <tr>\n",
       "      <th>22</th>\n",
       "      <td>0.248922</td>\n",
       "      <td>(age, income, education.num)</td>\n",
       "    </tr>\n",
       "    <tr>\n",
       "      <th>23</th>\n",
       "      <td>0.248922</td>\n",
       "      <td>(age, income, hours.per.week)</td>\n",
       "    </tr>\n",
       "    <tr>\n",
       "      <th>24</th>\n",
       "      <td>0.248922</td>\n",
       "      <td>(income, hours.per.week, education.num)</td>\n",
       "    </tr>\n",
       "    <tr>\n",
       "      <th>25</th>\n",
       "      <td>0.248922</td>\n",
       "      <td>(age, income, hours.per.week, education.num)</td>\n",
       "    </tr>\n",
       "    <tr>\n",
       "      <th>26</th>\n",
       "      <td>0.212055</td>\n",
       "      <td>(income, sex, hours.per.week)</td>\n",
       "    </tr>\n",
       "    <tr>\n",
       "      <th>27</th>\n",
       "      <td>0.212055</td>\n",
       "      <td>(age, income, sex)</td>\n",
       "    </tr>\n",
       "    <tr>\n",
       "      <th>28</th>\n",
       "      <td>0.212055</td>\n",
       "      <td>(income, sex, education.num)</td>\n",
       "    </tr>\n",
       "    <tr>\n",
       "      <th>29</th>\n",
       "      <td>0.212055</td>\n",
       "      <td>(age, income, sex, hours.per.week)</td>\n",
       "    </tr>\n",
       "    <tr>\n",
       "      <th>30</th>\n",
       "      <td>0.212055</td>\n",
       "      <td>(income, hours.per.week, sex, education.num)</td>\n",
       "    </tr>\n",
       "    <tr>\n",
       "      <th>31</th>\n",
       "      <td>0.212055</td>\n",
       "      <td>(age, income, sex, education.num)</td>\n",
       "    </tr>\n",
       "    <tr>\n",
       "      <th>32</th>\n",
       "      <td>0.212055</td>\n",
       "      <td>(hours.per.week, age, sex, education.num, income)</td>\n",
       "    </tr>\n",
       "    <tr>\n",
       "      <th>33</th>\n",
       "      <td>0.213514</td>\n",
       "      <td>(income, marital.status, hours.per.week)</td>\n",
       "    </tr>\n",
       "    <tr>\n",
       "      <th>34</th>\n",
       "      <td>0.213514</td>\n",
       "      <td>(age, income, marital.status)</td>\n",
       "    </tr>\n",
       "    <tr>\n",
       "      <th>35</th>\n",
       "      <td>0.213514</td>\n",
       "      <td>(income, marital.status, education.num)</td>\n",
       "    </tr>\n",
       "    <tr>\n",
       "      <th>36</th>\n",
       "      <td>0.213514</td>\n",
       "      <td>(age, income, marital.status, hours.per.week)</td>\n",
       "    </tr>\n",
       "    <tr>\n",
       "      <th>37</th>\n",
       "      <td>0.213514</td>\n",
       "      <td>(income, hours.per.week, marital.status, educa...</td>\n",
       "    </tr>\n",
       "    <tr>\n",
       "      <th>38</th>\n",
       "      <td>0.213514</td>\n",
       "      <td>(age, income, marital.status, education.num)</td>\n",
       "    </tr>\n",
       "    <tr>\n",
       "      <th>39</th>\n",
       "      <td>0.213514</td>\n",
       "      <td>(marital.status, hours.per.week, age, educatio...</td>\n",
       "    </tr>\n",
       "    <tr>\n",
       "      <th>40</th>\n",
       "      <td>0.479279</td>\n",
       "      <td>(marital.status, education.num)</td>\n",
       "    </tr>\n",
       "    <tr>\n",
       "      <th>41</th>\n",
       "      <td>0.479279</td>\n",
       "      <td>(age, marital.status)</td>\n",
       "    </tr>\n",
       "    <tr>\n",
       "      <th>42</th>\n",
       "      <td>0.479279</td>\n",
       "      <td>(marital.status, hours.per.week)</td>\n",
       "    </tr>\n",
       "    <tr>\n",
       "      <th>43</th>\n",
       "      <td>0.423546</td>\n",
       "      <td>(sex, marital.status)</td>\n",
       "    </tr>\n",
       "    <tr>\n",
       "      <th>44</th>\n",
       "      <td>0.479279</td>\n",
       "      <td>(age, marital.status, education.num)</td>\n",
       "    </tr>\n",
       "    <tr>\n",
       "      <th>45</th>\n",
       "      <td>0.479279</td>\n",
       "      <td>(hours.per.week, marital.status, education.num)</td>\n",
       "    </tr>\n",
       "    <tr>\n",
       "      <th>46</th>\n",
       "      <td>0.423546</td>\n",
       "      <td>(sex, marital.status, education.num)</td>\n",
       "    </tr>\n",
       "    <tr>\n",
       "      <th>47</th>\n",
       "      <td>0.479279</td>\n",
       "      <td>(age, marital.status, hours.per.week)</td>\n",
       "    </tr>\n",
       "    <tr>\n",
       "      <th>48</th>\n",
       "      <td>0.423546</td>\n",
       "      <td>(age, marital.status, sex)</td>\n",
       "    </tr>\n",
       "    <tr>\n",
       "      <th>49</th>\n",
       "      <td>0.423546</td>\n",
       "      <td>(sex, marital.status, hours.per.week)</td>\n",
       "    </tr>\n",
       "    <tr>\n",
       "      <th>50</th>\n",
       "      <td>0.479279</td>\n",
       "      <td>(age, hours.per.week, marital.status, educatio...</td>\n",
       "    </tr>\n",
       "    <tr>\n",
       "      <th>51</th>\n",
       "      <td>0.423546</td>\n",
       "      <td>(age, marital.status, sex, education.num)</td>\n",
       "    </tr>\n",
       "    <tr>\n",
       "      <th>52</th>\n",
       "      <td>0.423546</td>\n",
       "      <td>(sex, hours.per.week, marital.status, educatio...</td>\n",
       "    </tr>\n",
       "    <tr>\n",
       "      <th>53</th>\n",
       "      <td>0.423546</td>\n",
       "      <td>(age, marital.status, sex, hours.per.week)</td>\n",
       "    </tr>\n",
       "    <tr>\n",
       "      <th>54</th>\n",
       "      <td>0.423546</td>\n",
       "      <td>(marital.status, hours.per.week, age, sex, edu...</td>\n",
       "    </tr>\n",
       "  </tbody>\n",
       "</table>\n",
       "</div>"
      ],
      "text/plain": [
       "     support                                           itemsets\n",
       "0   1.000000                                   (hours.per.week)\n",
       "1   1.000000                                              (age)\n",
       "2   1.000000                                    (education.num)\n",
       "3   0.675685                                              (sex)\n",
       "4   0.248922                                           (income)\n",
       "5   0.479279                                   (marital.status)\n",
       "6   1.000000                              (age, hours.per.week)\n",
       "7   1.000000                               (age, education.num)\n",
       "8   1.000000                    (hours.per.week, education.num)\n",
       "9   1.000000               (age, hours.per.week, education.num)\n",
       "10  0.675685                               (sex, education.num)\n",
       "11  0.675685                                         (age, sex)\n",
       "12  0.675685                              (sex, hours.per.week)\n",
       "13  0.675685                          (age, sex, education.num)\n",
       "14  0.675685               (hours.per.week, sex, education.num)\n",
       "15  0.675685                         (age, sex, hours.per.week)\n",
       "16  0.675685          (age, hours.per.week, sex, education.num)\n",
       "17  0.248922                            (income, education.num)\n",
       "18  0.248922                                      (age, income)\n",
       "19  0.248922                           (income, hours.per.week)\n",
       "20  0.212055                                      (income, sex)\n",
       "21  0.213514                           (income, marital.status)\n",
       "22  0.248922                       (age, income, education.num)\n",
       "23  0.248922                      (age, income, hours.per.week)\n",
       "24  0.248922            (income, hours.per.week, education.num)\n",
       "25  0.248922       (age, income, hours.per.week, education.num)\n",
       "26  0.212055                      (income, sex, hours.per.week)\n",
       "27  0.212055                                 (age, income, sex)\n",
       "28  0.212055                       (income, sex, education.num)\n",
       "29  0.212055                 (age, income, sex, hours.per.week)\n",
       "30  0.212055       (income, hours.per.week, sex, education.num)\n",
       "31  0.212055                  (age, income, sex, education.num)\n",
       "32  0.212055  (hours.per.week, age, sex, education.num, income)\n",
       "33  0.213514           (income, marital.status, hours.per.week)\n",
       "34  0.213514                      (age, income, marital.status)\n",
       "35  0.213514            (income, marital.status, education.num)\n",
       "36  0.213514      (age, income, marital.status, hours.per.week)\n",
       "37  0.213514  (income, hours.per.week, marital.status, educa...\n",
       "38  0.213514       (age, income, marital.status, education.num)\n",
       "39  0.213514  (marital.status, hours.per.week, age, educatio...\n",
       "40  0.479279                    (marital.status, education.num)\n",
       "41  0.479279                              (age, marital.status)\n",
       "42  0.479279                   (marital.status, hours.per.week)\n",
       "43  0.423546                              (sex, marital.status)\n",
       "44  0.479279               (age, marital.status, education.num)\n",
       "45  0.479279    (hours.per.week, marital.status, education.num)\n",
       "46  0.423546               (sex, marital.status, education.num)\n",
       "47  0.479279              (age, marital.status, hours.per.week)\n",
       "48  0.423546                         (age, marital.status, sex)\n",
       "49  0.423546              (sex, marital.status, hours.per.week)\n",
       "50  0.479279  (age, hours.per.week, marital.status, educatio...\n",
       "51  0.423546          (age, marital.status, sex, education.num)\n",
       "52  0.423546  (sex, hours.per.week, marital.status, educatio...\n",
       "53  0.423546         (age, marital.status, sex, hours.per.week)\n",
       "54  0.423546  (marital.status, hours.per.week, age, sex, edu..."
      ]
     },
     "execution_count": 136,
     "metadata": {},
     "output_type": "execute_result"
    }
   ],
   "source": [
    "# Apply FP-growth algorithm to find frequent itemsets\n",
    "frequent_itemsets = fpgrowth(df_transactions, min_support=0.2, use_colnames=True)\n",
    "frequent_itemsets"
   ]
  },
  {
   "cell_type": "code",
   "execution_count": 137,
   "metadata": {},
   "outputs": [
    {
     "data": {
      "text/html": [
       "<div>\n",
       "<style scoped>\n",
       "    .dataframe tbody tr th:only-of-type {\n",
       "        vertical-align: middle;\n",
       "    }\n",
       "\n",
       "    .dataframe tbody tr th {\n",
       "        vertical-align: top;\n",
       "    }\n",
       "\n",
       "    .dataframe thead th {\n",
       "        text-align: right;\n",
       "    }\n",
       "</style>\n",
       "<table border=\"1\" class=\"dataframe\">\n",
       "  <thead>\n",
       "    <tr style=\"text-align: right;\">\n",
       "      <th></th>\n",
       "      <th>antecedents</th>\n",
       "      <th>consequents</th>\n",
       "      <th>antecedent support</th>\n",
       "      <th>consequent support</th>\n",
       "      <th>support</th>\n",
       "      <th>confidence</th>\n",
       "      <th>lift</th>\n",
       "      <th>leverage</th>\n",
       "      <th>conviction</th>\n",
       "      <th>zhangs_metric</th>\n",
       "    </tr>\n",
       "  </thead>\n",
       "  <tbody>\n",
       "    <tr>\n",
       "      <th>0</th>\n",
       "      <td>(age)</td>\n",
       "      <td>(hours.per.week)</td>\n",
       "      <td>1.000000</td>\n",
       "      <td>1.000000</td>\n",
       "      <td>1.000000</td>\n",
       "      <td>1.000000</td>\n",
       "      <td>1.000000</td>\n",
       "      <td>0.000000</td>\n",
       "      <td>inf</td>\n",
       "      <td>0.000000</td>\n",
       "    </tr>\n",
       "    <tr>\n",
       "      <th>1</th>\n",
       "      <td>(hours.per.week)</td>\n",
       "      <td>(age)</td>\n",
       "      <td>1.000000</td>\n",
       "      <td>1.000000</td>\n",
       "      <td>1.000000</td>\n",
       "      <td>1.000000</td>\n",
       "      <td>1.000000</td>\n",
       "      <td>0.000000</td>\n",
       "      <td>inf</td>\n",
       "      <td>0.000000</td>\n",
       "    </tr>\n",
       "    <tr>\n",
       "      <th>2</th>\n",
       "      <td>(age)</td>\n",
       "      <td>(education.num)</td>\n",
       "      <td>1.000000</td>\n",
       "      <td>1.000000</td>\n",
       "      <td>1.000000</td>\n",
       "      <td>1.000000</td>\n",
       "      <td>1.000000</td>\n",
       "      <td>0.000000</td>\n",
       "      <td>inf</td>\n",
       "      <td>0.000000</td>\n",
       "    </tr>\n",
       "    <tr>\n",
       "      <th>3</th>\n",
       "      <td>(education.num)</td>\n",
       "      <td>(age)</td>\n",
       "      <td>1.000000</td>\n",
       "      <td>1.000000</td>\n",
       "      <td>1.000000</td>\n",
       "      <td>1.000000</td>\n",
       "      <td>1.000000</td>\n",
       "      <td>0.000000</td>\n",
       "      <td>inf</td>\n",
       "      <td>0.000000</td>\n",
       "    </tr>\n",
       "    <tr>\n",
       "      <th>4</th>\n",
       "      <td>(hours.per.week)</td>\n",
       "      <td>(education.num)</td>\n",
       "      <td>1.000000</td>\n",
       "      <td>1.000000</td>\n",
       "      <td>1.000000</td>\n",
       "      <td>1.000000</td>\n",
       "      <td>1.000000</td>\n",
       "      <td>0.000000</td>\n",
       "      <td>inf</td>\n",
       "      <td>0.000000</td>\n",
       "    </tr>\n",
       "    <tr>\n",
       "      <th>...</th>\n",
       "      <td>...</td>\n",
       "      <td>...</td>\n",
       "      <td>...</td>\n",
       "      <td>...</td>\n",
       "      <td>...</td>\n",
       "      <td>...</td>\n",
       "      <td>...</td>\n",
       "      <td>...</td>\n",
       "      <td>...</td>\n",
       "      <td>...</td>\n",
       "    </tr>\n",
       "    <tr>\n",
       "      <th>248</th>\n",
       "      <td>(sex, hours.per.week)</td>\n",
       "      <td>(age, marital.status, education.num)</td>\n",
       "      <td>0.675685</td>\n",
       "      <td>0.479279</td>\n",
       "      <td>0.423546</td>\n",
       "      <td>0.626840</td>\n",
       "      <td>1.307882</td>\n",
       "      <td>0.099705</td>\n",
       "      <td>1.395438</td>\n",
       "      <td>0.725853</td>\n",
       "    </tr>\n",
       "    <tr>\n",
       "      <th>249</th>\n",
       "      <td>(age, sex)</td>\n",
       "      <td>(education.num, marital.status, hours.per.week)</td>\n",
       "      <td>0.675685</td>\n",
       "      <td>0.479279</td>\n",
       "      <td>0.423546</td>\n",
       "      <td>0.626840</td>\n",
       "      <td>1.307882</td>\n",
       "      <td>0.099705</td>\n",
       "      <td>1.395438</td>\n",
       "      <td>0.725853</td>\n",
       "    </tr>\n",
       "    <tr>\n",
       "      <th>250</th>\n",
       "      <td>(sex, education.num)</td>\n",
       "      <td>(age, marital.status, hours.per.week)</td>\n",
       "      <td>0.675685</td>\n",
       "      <td>0.479279</td>\n",
       "      <td>0.423546</td>\n",
       "      <td>0.626840</td>\n",
       "      <td>1.307882</td>\n",
       "      <td>0.099705</td>\n",
       "      <td>1.395438</td>\n",
       "      <td>0.725853</td>\n",
       "    </tr>\n",
       "    <tr>\n",
       "      <th>251</th>\n",
       "      <td>(marital.status)</td>\n",
       "      <td>(age, education.num, sex, hours.per.week)</td>\n",
       "      <td>0.479279</td>\n",
       "      <td>0.675685</td>\n",
       "      <td>0.423546</td>\n",
       "      <td>0.883716</td>\n",
       "      <td>1.307882</td>\n",
       "      <td>0.099705</td>\n",
       "      <td>2.788996</td>\n",
       "      <td>0.452075</td>\n",
       "    </tr>\n",
       "    <tr>\n",
       "      <th>252</th>\n",
       "      <td>(sex)</td>\n",
       "      <td>(age, education.num, marital.status, hours.per...</td>\n",
       "      <td>0.675685</td>\n",
       "      <td>0.479279</td>\n",
       "      <td>0.423546</td>\n",
       "      <td>0.626840</td>\n",
       "      <td>1.307882</td>\n",
       "      <td>0.099705</td>\n",
       "      <td>1.395438</td>\n",
       "      <td>0.725853</td>\n",
       "    </tr>\n",
       "  </tbody>\n",
       "</table>\n",
       "<p>253 rows × 10 columns</p>\n",
       "</div>"
      ],
      "text/plain": [
       "               antecedents                                        consequents  \\\n",
       "0                    (age)                                   (hours.per.week)   \n",
       "1         (hours.per.week)                                              (age)   \n",
       "2                    (age)                                    (education.num)   \n",
       "3          (education.num)                                              (age)   \n",
       "4         (hours.per.week)                                    (education.num)   \n",
       "..                     ...                                                ...   \n",
       "248  (sex, hours.per.week)               (age, marital.status, education.num)   \n",
       "249             (age, sex)    (education.num, marital.status, hours.per.week)   \n",
       "250   (sex, education.num)              (age, marital.status, hours.per.week)   \n",
       "251       (marital.status)          (age, education.num, sex, hours.per.week)   \n",
       "252                  (sex)  (age, education.num, marital.status, hours.per...   \n",
       "\n",
       "     antecedent support  consequent support   support  confidence      lift  \\\n",
       "0              1.000000            1.000000  1.000000    1.000000  1.000000   \n",
       "1              1.000000            1.000000  1.000000    1.000000  1.000000   \n",
       "2              1.000000            1.000000  1.000000    1.000000  1.000000   \n",
       "3              1.000000            1.000000  1.000000    1.000000  1.000000   \n",
       "4              1.000000            1.000000  1.000000    1.000000  1.000000   \n",
       "..                  ...                 ...       ...         ...       ...   \n",
       "248            0.675685            0.479279  0.423546    0.626840  1.307882   \n",
       "249            0.675685            0.479279  0.423546    0.626840  1.307882   \n",
       "250            0.675685            0.479279  0.423546    0.626840  1.307882   \n",
       "251            0.479279            0.675685  0.423546    0.883716  1.307882   \n",
       "252            0.675685            0.479279  0.423546    0.626840  1.307882   \n",
       "\n",
       "     leverage  conviction  zhangs_metric  \n",
       "0    0.000000         inf       0.000000  \n",
       "1    0.000000         inf       0.000000  \n",
       "2    0.000000         inf       0.000000  \n",
       "3    0.000000         inf       0.000000  \n",
       "4    0.000000         inf       0.000000  \n",
       "..        ...         ...            ...  \n",
       "248  0.099705    1.395438       0.725853  \n",
       "249  0.099705    1.395438       0.725853  \n",
       "250  0.099705    1.395438       0.725853  \n",
       "251  0.099705    2.788996       0.452075  \n",
       "252  0.099705    1.395438       0.725853  \n",
       "\n",
       "[253 rows x 10 columns]"
      ]
     },
     "execution_count": 137,
     "metadata": {},
     "output_type": "execute_result"
    }
   ],
   "source": [
    "# Extract association rules with min confidence\n",
    "res = association_rules(frequent_itemsets, metric=\"confidence\", min_threshold=0.5)\n",
    "res"
   ]
  },
  {
   "cell_type": "code",
   "execution_count": 138,
   "metadata": {},
   "outputs": [
    {
     "data": {
      "text/html": [
       "<div>\n",
       "<style scoped>\n",
       "    .dataframe tbody tr th:only-of-type {\n",
       "        vertical-align: middle;\n",
       "    }\n",
       "\n",
       "    .dataframe tbody tr th {\n",
       "        vertical-align: top;\n",
       "    }\n",
       "\n",
       "    .dataframe thead th {\n",
       "        text-align: right;\n",
       "    }\n",
       "</style>\n",
       "<table border=\"1\" class=\"dataframe\">\n",
       "  <thead>\n",
       "    <tr style=\"text-align: right;\">\n",
       "      <th></th>\n",
       "      <th>antecedents</th>\n",
       "      <th>consequents</th>\n",
       "      <th>antecedent support</th>\n",
       "      <th>consequent support</th>\n",
       "      <th>support</th>\n",
       "      <th>confidence</th>\n",
       "      <th>lift</th>\n",
       "      <th>leverage</th>\n",
       "      <th>conviction</th>\n",
       "      <th>zhangs_metric</th>\n",
       "    </tr>\n",
       "  </thead>\n",
       "  <tbody>\n",
       "  </tbody>\n",
       "</table>\n",
       "</div>"
      ],
      "text/plain": [
       "Empty DataFrame\n",
       "Columns: [antecedents, consequents, antecedent support, consequent support, support, confidence, lift, leverage, conviction, zhangs_metric]\n",
       "Index: []"
      ]
     },
     "execution_count": 138,
     "metadata": {},
     "output_type": "execute_result"
    }
   ],
   "source": [
    "res_min50_test,res_max50_test = income_association_rules(dataset_orig_test, min_support=0.4, min_confidence=0.4)\n",
    "res_min50_test.sort_values(\"confidence\", ascending=False)\n"
   ]
  },
  {
   "cell_type": "code",
   "execution_count": 139,
   "metadata": {},
   "outputs": [
    {
     "data": {
      "text/html": [
       "<div>\n",
       "<style scoped>\n",
       "    .dataframe tbody tr th:only-of-type {\n",
       "        vertical-align: middle;\n",
       "    }\n",
       "\n",
       "    .dataframe tbody tr th {\n",
       "        vertical-align: top;\n",
       "    }\n",
       "\n",
       "    .dataframe thead th {\n",
       "        text-align: right;\n",
       "    }\n",
       "</style>\n",
       "<table border=\"1\" class=\"dataframe\">\n",
       "  <thead>\n",
       "    <tr style=\"text-align: right;\">\n",
       "      <th></th>\n",
       "      <th>antecedents</th>\n",
       "      <th>consequents</th>\n",
       "      <th>antecedent support</th>\n",
       "      <th>consequent support</th>\n",
       "      <th>support</th>\n",
       "      <th>confidence</th>\n",
       "      <th>lift</th>\n",
       "      <th>leverage</th>\n",
       "      <th>conviction</th>\n",
       "      <th>zhangs_metric</th>\n",
       "    </tr>\n",
       "  </thead>\n",
       "  <tbody>\n",
       "  </tbody>\n",
       "</table>\n",
       "</div>"
      ],
      "text/plain": [
       "Empty DataFrame\n",
       "Columns: [antecedents, consequents, antecedent support, consequent support, support, confidence, lift, leverage, conviction, zhangs_metric]\n",
       "Index: []"
      ]
     },
     "execution_count": 139,
     "metadata": {},
     "output_type": "execute_result"
    }
   ],
   "source": [
    "res_max50_test.sort_values(\"confidence\", ascending=False)"
   ]
  },
  {
   "cell_type": "markdown",
   "metadata": {},
   "source": [
    "### Test predicions rules matching"
   ]
  },
  {
   "cell_type": "code",
   "execution_count": 140,
   "metadata": {},
   "outputs": [],
   "source": [
    "df_test_pred = dataset_orig_test_pred.convert_to_dataframe()[0]\n",
    "# Process 'sex' column\n",
    "df_test_pred['male'] = df_test_pred['sex'].apply(lambda x: 1 if x == 1 else 0)\n",
    "df_test_pred['female'] = df_test_pred['sex'].apply(lambda x: 1 if x == 0 else 0)\n",
    "df_test_pred.drop(columns='sex', inplace=True)\n",
    "\n",
    "# Process 'race' column\n",
    "df_test_pred['white'] = df_test_pred['race'].apply(lambda x: 1 if x == 1 else 0)\n",
    "df_test_pred['nwhite'] = df_test_pred['race'].apply(lambda x: 1 if x == 0 else 0)\n",
    "df_test_pred.drop(columns='race', inplace=True)\n",
    "\n",
    "# Process 'income' column\n",
    "df_test_pred['>50K'] = df_test_pred['income'].apply(lambda x: 1 if x == 1 else 0)\n",
    "df_test_pred['<50K'] = df_test_pred['income'].apply(lambda x: 1 if x == 0 else 0)\n",
    "df_test_pred.drop(columns='income', inplace=True)\n",
    "\n",
    "# Create a binary representation of transactions\n",
    "df_transactions_test_pred= df_test_pred.map(lambda x: True if x > 0 else False)"
   ]
  },
  {
   "cell_type": "code",
   "execution_count": 141,
   "metadata": {},
   "outputs": [
    {
     "data": {
      "text/html": [
       "<div>\n",
       "<style scoped>\n",
       "    .dataframe tbody tr th:only-of-type {\n",
       "        vertical-align: middle;\n",
       "    }\n",
       "\n",
       "    .dataframe tbody tr th {\n",
       "        vertical-align: top;\n",
       "    }\n",
       "\n",
       "    .dataframe thead th {\n",
       "        text-align: right;\n",
       "    }\n",
       "</style>\n",
       "<table border=\"1\" class=\"dataframe\">\n",
       "  <thead>\n",
       "    <tr style=\"text-align: right;\">\n",
       "      <th></th>\n",
       "    </tr>\n",
       "  </thead>\n",
       "  <tbody>\n",
       "  </tbody>\n",
       "</table>\n",
       "</div>"
      ],
      "text/plain": [
       "Empty DataFrame\n",
       "Columns: []\n",
       "Index: []"
      ]
     },
     "metadata": {},
     "output_type": "display_data"
    }
   ],
   "source": [
    "results = []\n",
    "\n",
    "# for each association rule, check how many rows of dataset_transf_test_pred met it\n",
    "for index, rule in res_min50_test.iterrows():\n",
    "    antecedents = list(rule['antecedents'])\n",
    "    matching_rows = df_transactions_test_pred.copy()\n",
    "    for antecedent in antecedents:\n",
    "        matching_rows = matching_rows[matching_rows[antecedent] == True]\n",
    "    \n",
    "    consequent = list(rule['consequents'])[0]\n",
    "    consequent_met = matching_rows[matching_rows[consequent] == True]\n",
    "    \n",
    "    total_matching = len(matching_rows)\n",
    "    total_consequent_met = len(consequent_met)\n",
    "    \n",
    "    rule_result = {\n",
    "        'Rule': f\"{set(rule['antecedents'])} -> {set(rule['consequents'])}\".replace(\"frozenset({\", \"\").replace(\"})\", \"\"),\n",
    "        'Number of conseq matching': total_consequent_met,\n",
    "        'Respecting the rule before roc': f\"{round(total_consequent_met / total_matching * 100, 2)}%\" if total_matching > 0 else \"0%\",\n",
    "    }\n",
    "    \n",
    "    results.append(rule_result)\n",
    "\n",
    "# Create a DataFrame to display the results\n",
    "results_df = pd.DataFrame(results)\n",
    "display(results_df)"
   ]
  },
  {
   "cell_type": "code",
   "execution_count": 142,
   "metadata": {},
   "outputs": [
    {
     "name": "stdout",
     "output_type": "stream",
     "text": [
      "Percentage of different labels: 14.59%\n"
     ]
    },
    {
     "name": "stderr",
     "output_type": "stream",
     "text": [
      "/tmp/ipykernel_20347/3626160822.py:14: FutureWarning: \n",
      "\n",
      "Passing `palette` without assigning `hue` is deprecated and will be removed in v0.14.0. Assign the `x` variable to `hue` and set `legend=False` for the same effect.\n",
      "\n",
      "  sns.countplot(x=label_diff, palette='viridis')\n"
     ]
    },
    {
     "data": {
      "image/png": "[encoded data removed]",
      "text/plain": [
       "<Figure size 600x400 with 1 Axes>"
      ]
     },
     "metadata": {},
     "output_type": "display_data"
    }
   ],
   "source": [
    "# Convert datasets to DataFrames\n",
    "df_orig_test_pred = dataset_orig_test_pred.convert_to_dataframe()[0]\n",
    "df_transf_test_pred = dataset_transf_test_pred.convert_to_dataframe()[0]\n",
    "\n",
    "# Compare the labels\n",
    "label_diff = df_orig_test_pred['income'] != df_transf_test_pred['income']\n",
    "\n",
    "# Calculate the percentage of different labels\n",
    "diff_percentage = label_diff.mean() * 100\n",
    "print(f\"Percentage of different labels: {diff_percentage:.2f}%\")\n",
    "\n",
    "# Visualize the differences\n",
    "plt.figure(figsize=(6, 4))\n",
    "sns.countplot(x=label_diff, palette='viridis')\n",
    "plt.xlabel('Labels Different')\n",
    "plt.ylabel('Count')\n",
    "plt.title('Comparison of Labels Between Original and Transformed Predictions')\n",
    "plt.xticks([0, 1], labels=['Same', 'Different'])\n",
    "plt.show()"
   ]
  },
  {
   "cell_type": "markdown",
   "metadata": {},
   "source": [
    "### Post ROC rules matching"
   ]
  },
  {
   "cell_type": "code",
   "execution_count": 143,
   "metadata": {},
   "outputs": [],
   "source": [
    "df_post_roc = dataset_transf_test_pred.convert_to_dataframe()[0]\n",
    "# Process 'sex' column\n",
    "df_post_roc['male'] = df_post_roc['sex'].apply(lambda x: 1 if x == 1 else 0)\n",
    "df_post_roc['female'] = df_post_roc['sex'].apply(lambda x: 1 if x == 0 else 0)\n",
    "df_post_roc.drop(columns='sex', inplace=True)\n",
    "\n",
    "# Process 'race' column\n",
    "df_post_roc['white'] = df_post_roc['race'].apply(lambda x: 1 if x == 1 else 0)\n",
    "df_post_roc['nwhite'] = df_post_roc['race'].apply(lambda x: 1 if x == 0 else 0)\n",
    "df_post_roc.drop(columns='race', inplace=True)\n",
    "\n",
    "# Process 'income' column\n",
    "df_post_roc['>50K'] = df_post_roc['income'].apply(lambda x: 1 if x == 1 else 0)\n",
    "df_post_roc['<50K'] = df_post_roc['income'].apply(lambda x: 1 if x == 0 else 0)\n",
    "df_post_roc.drop(columns='income', inplace=True)\n",
    "\n",
    "# Create a binary representation of transactions\n",
    "df_transactions_roc = df_post_roc.map(lambda x: True if x > 0 else False)"
   ]
  },
  {
   "cell_type": "code",
   "execution_count": 144,
   "metadata": {},
   "outputs": [
    {
     "data": {
      "text/html": [
       "<div>\n",
       "<style scoped>\n",
       "    .dataframe tbody tr th:only-of-type {\n",
       "        vertical-align: middle;\n",
       "    }\n",
       "\n",
       "    .dataframe tbody tr th {\n",
       "        vertical-align: top;\n",
       "    }\n",
       "\n",
       "    .dataframe thead th {\n",
       "        text-align: right;\n",
       "    }\n",
       "</style>\n",
       "<table border=\"1\" class=\"dataframe\">\n",
       "  <thead>\n",
       "    <tr style=\"text-align: right;\">\n",
       "      <th></th>\n",
       "    </tr>\n",
       "  </thead>\n",
       "  <tbody>\n",
       "  </tbody>\n",
       "</table>\n",
       "</div>"
      ],
      "text/plain": [
       "Empty DataFrame\n",
       "Columns: []\n",
       "Index: []"
      ]
     },
     "metadata": {},
     "output_type": "display_data"
    }
   ],
   "source": [
    "results_roc = []\n",
    "\n",
    "# for each association rule, check how many rows of dataset_transf_test_pred met it\n",
    "for index, rule in res_min50_test.iterrows():\n",
    "    antecedents = list(rule['antecedents'])\n",
    "    matching_rows = df_transactions_roc.copy()\n",
    "    for antecedent in antecedents:\n",
    "        matching_rows = matching_rows[matching_rows[antecedent] == True]\n",
    "    \n",
    "    consequent = list(rule['consequents'])[0]\n",
    "    consequent_met = matching_rows[matching_rows[consequent] == True]\n",
    "    \n",
    "    total_matching = len(matching_rows)\n",
    "    total_consequent_met = len(consequent_met)\n",
    "    \n",
    "    rule_result = {\n",
    "        'Rule': f\"{set(rule['antecedents'])} -> {set(rule['consequents'])}\".replace(\"frozenset({\", \"\").replace(\"})\", \"\"),\n",
    "        'Number of conseq matching': total_consequent_met,\n",
    "        'Respecting the rule after roc': f\"{round(total_consequent_met / total_matching * 100, 2)}%\" if total_matching > 0 else \"0%\",\n",
    "    }\n",
    "    \n",
    "    results_roc.append(rule_result)\n",
    "\n",
    "# Create a DataFrame to display the results\n",
    "results_roc_df = pd.DataFrame(results_roc)\n",
    "display(results_roc_df)\n",
    "\n"
   ]
  },
  {
   "cell_type": "code",
   "execution_count": 145,
   "metadata": {},
   "outputs": [
    {
     "data": {
      "text/html": [
       "<div>\n",
       "<style scoped>\n",
       "    .dataframe tbody tr th:only-of-type {\n",
       "        vertical-align: middle;\n",
       "    }\n",
       "\n",
       "    .dataframe tbody tr th {\n",
       "        vertical-align: top;\n",
       "    }\n",
       "\n",
       "    .dataframe thead th {\n",
       "        text-align: right;\n",
       "    }\n",
       "</style>\n",
       "<table border=\"1\" class=\"dataframe\">\n",
       "  <thead>\n",
       "    <tr style=\"text-align: right;\">\n",
       "      <th></th>\n",
       "      <th>antecedents</th>\n",
       "      <th>consequents</th>\n",
       "      <th>antecedent support</th>\n",
       "      <th>consequent support</th>\n",
       "      <th>support</th>\n",
       "      <th>confidence</th>\n",
       "      <th>lift</th>\n",
       "      <th>leverage</th>\n",
       "      <th>conviction</th>\n",
       "      <th>zhangs_metric</th>\n",
       "    </tr>\n",
       "  </thead>\n",
       "  <tbody>\n",
       "  </tbody>\n",
       "</table>\n",
       "</div>"
      ],
      "text/plain": [
       "Empty DataFrame\n",
       "Columns: [antecedents, consequents, antecedent support, consequent support, support, confidence, lift, leverage, conviction, zhangs_metric]\n",
       "Index: []"
      ]
     },
     "execution_count": 145,
     "metadata": {},
     "output_type": "execute_result"
    }
   ],
   "source": [
    "res_min50,res_max50 = compute_and_print_association_rules(dataset_transf_test_pred, min_support=0.2, min_confidence=0.9)\n",
    "res_min50.sort_values(\"confidence\", ascending=False)"
   ]
  },
  {
   "cell_type": "code",
   "execution_count": 146,
   "metadata": {},
   "outputs": [
    {
     "name": "stdout",
     "output_type": "stream",
     "text": [
      "Number of association rules with consequents '<=50K' kept: 39\n",
      "Number of association rules with consequents '<=50K' not kept: 40\n",
      "Number of new association rules with consequents '<=50K': 0\n",
      "\n",
      "Rules with consequents '<=50K' kept:\n",
      "frozenset({'nwhite'})\n",
      "frozenset({'age'})\n",
      "frozenset({'nwhite', 'hours.per.week'})\n",
      "frozenset({'education.num', 'male', 'nwhite', 'hours.per.week'})\n",
      "frozenset({'education.num', 'hours.per.week'})\n",
      "frozenset({'age', 'nwhite', 'male'})\n",
      "frozenset({'age', 'female', 'education.num'})\n",
      "frozenset({'age', 'female', 'hours.per.week'})\n",
      "frozenset({'male', 'hours.per.week'})\n",
      "frozenset({'age', 'nwhite'})\n",
      "frozenset({'nwhite', 'male', 'education.num'})\n",
      "frozenset({'age', 'education.num', 'hours.per.week'})\n",
      "frozenset({'age', 'education.num'})\n",
      "frozenset({'nwhite', 'education.num'})\n",
      "frozenset({'nwhite', 'male', 'hours.per.week'})\n",
      "frozenset({'age', 'male', 'hours.per.week'})\n",
      "frozenset({'age', 'education.num', 'nwhite', 'hours.per.week'})\n",
      "frozenset({'hours.per.week'})\n",
      "frozenset({'age', 'hours.per.week'})\n",
      "frozenset({'nwhite', 'male'})\n",
      "frozenset({'female', 'education.num', 'hours.per.week'})\n",
      "frozenset({'male', 'education.num'})\n",
      "frozenset({'age', 'female'})\n",
      "frozenset({'age', 'nwhite', 'hours.per.week'})\n",
      "frozenset({'education.num', 'nwhite', 'hours.per.week'})\n",
      "frozenset({'female', 'hours.per.week'})\n",
      "frozenset({'age', 'education.num', 'male', 'hours.per.week'})\n",
      "frozenset({'female'})\n",
      "frozenset({'age', 'male', 'nwhite', 'hours.per.week'})\n",
      "frozenset({'hours.per.week', 'age', 'education.num', 'male', 'nwhite'})\n",
      "frozenset({'male'})\n",
      "frozenset({'age', 'female', 'education.num', 'hours.per.week'})\n",
      "frozenset({'age', 'male', 'education.num'})\n",
      "frozenset({'age', 'male'})\n",
      "frozenset({'female', 'education.num'})\n",
      "frozenset({'age', 'male', 'nwhite', 'education.num'})\n",
      "frozenset({'education.num'})\n",
      "frozenset({'age', 'nwhite', 'education.num'})\n",
      "frozenset({'education.num', 'male', 'hours.per.week'})\n",
      "\n",
      "Rules with consequents '<=50K' not kept:\n",
      "frozenset({'education.num', 'male', 'marital.status', 'hours.per.week'})\n",
      "frozenset({'age', 'nwhite', 'marital.status'})\n",
      "frozenset({'male', 'marital.status', 'age', 'education.num', 'nwhite'})\n",
      "frozenset({'age', 'male', 'marital.status', 'nwhite'})\n",
      "frozenset({'hours.per.week', 'age', 'education.num', 'female', 'nwhite'})\n",
      "frozenset({'age', 'female', 'nwhite', 'hours.per.week'})\n",
      "frozenset({'age', 'marital.status', 'education.num'})\n",
      "frozenset({'age', 'male', 'marital.status', 'hours.per.week'})\n",
      "frozenset({'nwhite', 'marital.status', 'education.num'})\n",
      "frozenset({'female', 'nwhite', 'education.num'})\n",
      "frozenset({'age', 'male', 'marital.status'})\n",
      "frozenset({'nwhite', 'marital.status', 'hours.per.week'})\n",
      "frozenset({'age', 'female', 'nwhite'})\n",
      "frozenset({'marital.status', 'education.num'})\n",
      "frozenset({'male', 'marital.status', 'hours.per.week', 'age', 'nwhite'})\n",
      "frozenset({'education.num', 'marital.status', 'hours.per.week'})\n",
      "frozenset({'male', 'marital.status'})\n",
      "frozenset({'marital.status', 'hours.per.week', 'age', 'education.num', 'male'})\n",
      "frozenset({'marital.status', 'hours.per.week', 'age', 'education.num', 'male', 'nwhite'})\n",
      "frozenset({'age', 'male', 'marital.status', 'education.num'})\n",
      "frozenset({'nwhite', 'male', 'marital.status', 'education.num'})\n",
      "frozenset({'age', 'female', 'nwhite', 'education.num'})\n",
      "frozenset({'age', 'nwhite', 'marital.status', 'hours.per.week'})\n",
      "frozenset({'female', 'nwhite'})\n",
      "frozenset({'nwhite', 'marital.status'})\n",
      "frozenset({'age', 'marital.status'})\n",
      "frozenset({'female', 'nwhite', 'hours.per.week'})\n",
      "frozenset({'age', 'marital.status', 'hours.per.week'})\n",
      "frozenset({'age', 'nwhite', 'marital.status', 'education.num'})\n",
      "frozenset({'marital.status', 'hours.per.week', 'age', 'education.num', 'nwhite'})\n",
      "frozenset({'nwhite', 'male', 'marital.status', 'hours.per.week'})\n",
      "frozenset({'female', 'education.num', 'nwhite', 'hours.per.week'})\n",
      "frozenset({'age', 'education.num', 'marital.status', 'hours.per.week'})\n",
      "frozenset({'male', 'marital.status', 'nwhite'})\n",
      "frozenset({'education.num', 'nwhite', 'marital.status', 'hours.per.week'})\n",
      "frozenset({'male', 'marital.status', 'hours.per.week'})\n",
      "frozenset({'male', 'marital.status', 'education.num'})\n",
      "frozenset({'marital.status'})\n",
      "frozenset({'marital.status', 'hours.per.week'})\n",
      "frozenset({'male', 'marital.status', 'hours.per.week', 'education.num', 'nwhite'})\n",
      "\n",
      "New rules with consequents '<=50K':\n"
     ]
    }
   ],
   "source": [
    "# Calculate association rules for the original test dataset\n",
    "res_min50_orig, res_max50_orig = compute_and_print_association_rules(dataset_orig_test, min_support=0.2, min_confidence=0.5)\n",
    "\n",
    "# Calculate association rules for the transformed test dataset\n",
    "res_min50_transf, res_max50_transf = compute_and_print_association_rules(dataset_transf_test_pred, min_support=0.2, min_confidence=0.5)\n",
    "\n",
    "# Function to calculate and print the number of rules kept, not kept, and newly introduced\n",
    "def compare_rules(res_orig, res_transf, consequent):\n",
    "    rules_kept = set(res_orig['antecedents']).intersection(set(res_transf['antecedents']))\n",
    "    rules_not_kept = set(res_orig['antecedents']).difference(set(res_transf['antecedents']))\n",
    "    new_rules = set(res_transf['antecedents']).difference(set(res_orig['antecedents']))\n",
    "\n",
    "    print(f\"Number of association rules with consequents '{consequent}' kept: {len(rules_kept)}\")\n",
    "    print(f\"Number of association rules with consequents '{consequent}' not kept: {len(rules_not_kept)}\")\n",
    "    print(f\"Number of new association rules with consequents '{consequent}': {len(new_rules)}\")\n",
    "\n",
    "    print(f\"\\nRules with consequents '{consequent}' kept:\")\n",
    "    for rule in rules_kept:\n",
    "        print(rule)\n",
    "\n",
    "    print(f\"\\nRules with consequents '{consequent}' not kept:\")\n",
    "    for rule in rules_not_kept:\n",
    "        print(rule)\n",
    "\n",
    "    print(f\"\\nNew rules with consequents '{consequent}':\")\n",
    "    for rule in new_rules:\n",
    "        print(rule)\n",
    "\n",
    "# Compare rules for '<=50K'\n",
    "compare_rules(res_min50_orig, res_min50_transf, '<=50K')"
   ]
  }
 ],
 "metadata": {
  "kernelspec": {
   "display_name": "pipeline_env",
   "language": "python",
   "name": "python3"
  },
  "language_info": {
   "codemirror_mode": {
    "name": "ipython",
    "version": 3
   },
   "file_extension": ".py",
   "mimetype": "text/x-python",
   "name": "python",
   "nbconvert_exporter": "python",
   "pygments_lexer": "ipython3",
   "version": "3.11.6"
  }
 },
 "nbformat": 4,
 "nbformat_minor": 2
}
